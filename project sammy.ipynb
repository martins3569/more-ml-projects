{
 "cells": [
  {
   "cell_type": "code",
   "execution_count": 48,
   "metadata": {},
   "outputs": [],
   "source": [
    "import pandas as pd\n",
    "import numpy as np\n",
    "import matplotlib.pyplot as plt\n",
    "import seaborn as sns\n",
    "from sklearn.preprocessing import LabelEncoder\n",
    "from sklearn.naive_bayes import GaussianNB\n",
    "from sklearn.tree import DecisionTreeClassifier\n",
    "from sklearn.neural_network import MLPClassifier\n",
    "from sklearn.decomposition import PCA\n",
    "from sklearn.metrics import roc_curve\n",
    "from sklearn.metrics import auc,roc_auc_score,precision_score,recall_score\n",
    "from sklearn.metrics import classification_report"
   ]
  },
  {
   "cell_type": "code",
   "execution_count": 49,
   "metadata": {},
   "outputs": [
    {
     "data": {
      "text/html": [
       "<div>\n",
       "<style scoped>\n",
       "    .dataframe tbody tr th:only-of-type {\n",
       "        vertical-align: middle;\n",
       "    }\n",
       "\n",
       "    .dataframe tbody tr th {\n",
       "        vertical-align: top;\n",
       "    }\n",
       "\n",
       "    .dataframe thead th {\n",
       "        text-align: right;\n",
       "    }\n",
       "</style>\n",
       "<table border=\"1\" class=\"dataframe\">\n",
       "  <thead>\n",
       "    <tr style=\"text-align: right;\">\n",
       "      <th></th>\n",
       "      <th>location</th>\n",
       "      <th>Amadi Flats</th>\n",
       "      <th>Amadi Flats.1</th>\n",
       "      <th>Amadi Flats.2</th>\n",
       "      <th>Amadi Flats.3</th>\n",
       "    </tr>\n",
       "  </thead>\n",
       "  <tbody>\n",
       "    <tr>\n",
       "      <th>0</th>\n",
       "      <td>lat</td>\n",
       "      <td>4.85007</td>\n",
       "      <td>4.85007</td>\n",
       "      <td>4.85007</td>\n",
       "      <td>4.85007</td>\n",
       "    </tr>\n",
       "    <tr>\n",
       "      <th>1</th>\n",
       "      <td>lon</td>\n",
       "      <td>7.13733</td>\n",
       "      <td>7.13733</td>\n",
       "      <td>7.13733</td>\n",
       "      <td>7.13733</td>\n",
       "    </tr>\n",
       "    <tr>\n",
       "      <th>2</th>\n",
       "      <td>asl</td>\n",
       "      <td>294.287</td>\n",
       "      <td>294.287</td>\n",
       "      <td>294.287</td>\n",
       "      <td>294.287</td>\n",
       "    </tr>\n",
       "    <tr>\n",
       "      <th>3</th>\n",
       "      <td>variable</td>\n",
       "      <td>Temperature</td>\n",
       "      <td>Relative Humidity</td>\n",
       "      <td>Wind Speed</td>\n",
       "      <td>Wind Direction</td>\n",
       "    </tr>\n",
       "    <tr>\n",
       "      <th>4</th>\n",
       "      <td>unit</td>\n",
       "      <td>°C</td>\n",
       "      <td>%</td>\n",
       "      <td>km/h</td>\n",
       "      <td>°</td>\n",
       "    </tr>\n",
       "  </tbody>\n",
       "</table>\n",
       "</div>"
      ],
      "text/plain": [
       "   location  Amadi Flats      Amadi Flats.1 Amadi Flats.2   Amadi Flats.3\n",
       "0       lat      4.85007            4.85007       4.85007         4.85007\n",
       "1       lon      7.13733            7.13733       7.13733         7.13733\n",
       "2       asl      294.287            294.287       294.287         294.287\n",
       "3  variable  Temperature  Relative Humidity    Wind Speed  Wind Direction\n",
       "4      unit           °C                  %          km/h               °"
      ]
     },
     "execution_count": 49,
     "metadata": {},
     "output_type": "execute_result"
    }
   ],
   "source": [
    "train=pd.read_csv(\"Downloads/dataexport_20201208T120211.csv\")\n",
    "test=pd.read_csv(\"Downloads/dataexport_20201208T115950.csv\")\n",
    "train.head()"
   ]
  },
  {
   "cell_type": "code",
   "execution_count": 50,
   "metadata": {},
   "outputs": [
    {
     "data": {
      "text/html": [
       "<div>\n",
       "<style scoped>\n",
       "    .dataframe tbody tr th:only-of-type {\n",
       "        vertical-align: middle;\n",
       "    }\n",
       "\n",
       "    .dataframe tbody tr th {\n",
       "        vertical-align: top;\n",
       "    }\n",
       "\n",
       "    .dataframe thead th {\n",
       "        text-align: right;\n",
       "    }\n",
       "</style>\n",
       "<table border=\"1\" class=\"dataframe\">\n",
       "  <thead>\n",
       "    <tr style=\"text-align: right;\">\n",
       "      <th></th>\n",
       "      <th>location</th>\n",
       "      <th>Ikeja Government Reserved Area</th>\n",
       "      <th>Ikeja Government Reserved Area.1</th>\n",
       "      <th>Ikeja Government Reserved Area.2</th>\n",
       "      <th>Ikeja Government Reserved Area.3</th>\n",
       "    </tr>\n",
       "  </thead>\n",
       "  <tbody>\n",
       "    <tr>\n",
       "      <th>0</th>\n",
       "      <td>lat</td>\n",
       "      <td>6.66656</td>\n",
       "      <td>6.66656</td>\n",
       "      <td>6.66656</td>\n",
       "      <td>6.66656</td>\n",
       "    </tr>\n",
       "    <tr>\n",
       "      <th>1</th>\n",
       "      <td>lon</td>\n",
       "      <td>3.28125</td>\n",
       "      <td>3.28125</td>\n",
       "      <td>3.28125</td>\n",
       "      <td>3.28125</td>\n",
       "    </tr>\n",
       "    <tr>\n",
       "      <th>2</th>\n",
       "      <td>asl</td>\n",
       "      <td>31.127</td>\n",
       "      <td>31.127</td>\n",
       "      <td>31.127</td>\n",
       "      <td>31.127</td>\n",
       "    </tr>\n",
       "    <tr>\n",
       "      <th>3</th>\n",
       "      <td>variable</td>\n",
       "      <td>Temperature</td>\n",
       "      <td>Relative Humidity</td>\n",
       "      <td>Wind Speed</td>\n",
       "      <td>Wind Direction</td>\n",
       "    </tr>\n",
       "    <tr>\n",
       "      <th>4</th>\n",
       "      <td>unit</td>\n",
       "      <td>°C</td>\n",
       "      <td>%</td>\n",
       "      <td>km/h</td>\n",
       "      <td>°</td>\n",
       "    </tr>\n",
       "  </tbody>\n",
       "</table>\n",
       "</div>"
      ],
      "text/plain": [
       "   location Ikeja Government Reserved Area Ikeja Government Reserved Area.1  \\\n",
       "0       lat                        6.66656                          6.66656   \n",
       "1       lon                        3.28125                          3.28125   \n",
       "2       asl                         31.127                           31.127   \n",
       "3  variable                    Temperature                Relative Humidity   \n",
       "4      unit                             °C                                %   \n",
       "\n",
       "  Ikeja Government Reserved Area.2 Ikeja Government Reserved Area.3  \n",
       "0                          6.66656                          6.66656  \n",
       "1                          3.28125                          3.28125  \n",
       "2                           31.127                           31.127  \n",
       "3                       Wind Speed                   Wind Direction  \n",
       "4                             km/h                                °  "
      ]
     },
     "execution_count": 50,
     "metadata": {},
     "output_type": "execute_result"
    }
   ],
   "source": [
    "test.head()"
   ]
  },
  {
   "cell_type": "code",
   "execution_count": 51,
   "metadata": {},
   "outputs": [
    {
     "name": "stdout",
     "output_type": "stream",
     "text": [
      "Train Data Shape: (6667, 5)\n",
      "Test Data Shape: (2625, 5)\n"
     ]
    }
   ],
   "source": [
    "print('Train Data Shape: {}'.format(train.shape))\n",
    "print('Test Data Shape: {}'.format(test.shape))"
   ]
  },
  {
   "cell_type": "code",
   "execution_count": 52,
   "metadata": {},
   "outputs": [
    {
     "data": {
      "text/plain": [
       "location         2\n",
       "Amadi Flats      2\n",
       "Amadi Flats.1    2\n",
       "Amadi Flats.2    2\n",
       "Amadi Flats.3    2\n",
       "dtype: int64"
      ]
     },
     "execution_count": 52,
     "metadata": {},
     "output_type": "execute_result"
    }
   ],
   "source": [
    "train_missing_values=train.isnull().sum()\n",
    "train_missing_values"
   ]
  },
  {
   "cell_type": "code",
   "execution_count": 53,
   "metadata": {},
   "outputs": [
    {
     "data": {
      "text/plain": [
       "location                            0\n",
       "Ikeja Government Reserved Area      0\n",
       "Ikeja Government Reserved Area.1    0\n",
       "Ikeja Government Reserved Area.2    0\n",
       "Ikeja Government Reserved Area.3    0\n",
       "dtype: int64"
      ]
     },
     "execution_count": 53,
     "metadata": {},
     "output_type": "execute_result"
    }
   ],
   "source": [
    "test_missing_values=test.isnull().sum()\n",
    "test_missing_values"
   ]
  },
  {
   "cell_type": "code",
   "execution_count": 54,
   "metadata": {},
   "outputs": [
    {
     "name": "stdout",
     "output_type": "stream",
     "text": [
      "Test Data Shape: (6665, 5)\n",
      "Test Data Shape: (2625, 5)\n"
     ]
    }
   ],
   "source": [
    "train_data=train.dropna(axis=0,how=\"any\")\n",
    "test_data=test.dropna(axis=0,how=\"any\")\n",
    "print('Test Data Shape: {}'.format(train_data.shape))\n",
    "print('Test Data Shape: {}'.format(test_data.shape))"
   ]
  },
  {
   "cell_type": "code",
   "execution_count": 55,
   "metadata": {
    "scrolled": true
   },
   "outputs": [
    {
     "data": {
      "text/plain": [
       "91                                    345\n",
       "89                                    326\n",
       "88                                    250\n",
       "90                                    238\n",
       "96                                    204\n",
       "                                     ... \n",
       "Abuloma                                 1\n",
       "Rumuepirikom                            1\n",
       "Water Side Relative Humidity [2 m]      1\n",
       "Rumueme                                 1\n",
       "Alakohia                                1\n",
       "Name: Amadi Flats.1, Length: 158, dtype: int64"
      ]
     },
     "execution_count": 55,
     "metadata": {},
     "output_type": "execute_result"
    }
   ],
   "source": [
    "train_data[\"Amadi Flats.1\"].value_counts()"
   ]
  },
  {
   "cell_type": "code",
   "execution_count": 56,
   "metadata": {},
   "outputs": [
    {
     "data": {
      "text/plain": [
       "7.8954163    74\n",
       "6.489992     72\n",
       "7.2          63\n",
       "7.42159      58\n",
       "8.209263     56\n",
       "             ..\n",
       "12.522619     1\n",
       "14.759999     1\n",
       "15.072783     1\n",
       "17.555305     1\n",
       "18.511143     1\n",
       "Name: Amadi Flats.2, Length: 733, dtype: int64"
      ]
     },
     "execution_count": 56,
     "metadata": {},
     "output_type": "execute_result"
    }
   ],
   "source": [
    "train_data[\"Amadi Flats.2\"].value_counts()"
   ]
  },
  {
   "cell_type": "raw",
   "metadata": {},
   "source": []
  },
  {
   "cell_type": "code",
   "execution_count": 57,
   "metadata": {},
   "outputs": [
    {
     "data": {
      "text/plain": [
       "180            215\n",
       "225            152\n",
       "206.56505      125\n",
       "216.8699       102\n",
       "213.69006      102\n",
       "              ... \n",
       "155.55605        1\n",
       "185.04245        1\n",
       "181.68468        1\n",
       "219.2072         1\n",
       "Rumukalagba      1\n",
       "Name: Amadi Flats.3, Length: 785, dtype: int64"
      ]
     },
     "execution_count": 57,
     "metadata": {},
     "output_type": "execute_result"
    }
   ],
   "source": [
    "train_data[\"Amadi Flats.3\"].value_counts()"
   ]
  },
  {
   "cell_type": "code",
   "execution_count": 58,
   "metadata": {},
   "outputs": [
    {
     "data": {
      "image/png": "[encoded data removed]",
      "text/plain": [
       "<Figure size 432x288 with 1 Axes>"
      ]
     },
     "metadata": {
      "needs_background": "light"
     },
     "output_type": "display_data"
    }
   ],
   "source": [
    "sns.countplot(x=train_data[\"Amadi Flats.1\"])\n",
    "plt.title(\"Predicted values\",fontsize=15)\n",
    "plt.show()"
   ]
  },
  {
   "cell_type": "code",
   "execution_count": null,
   "metadata": {},
   "outputs": [],
   "source": []
  },
  {
   "cell_type": "code",
   "execution_count": 59,
   "metadata": {},
   "outputs": [
    {
     "data": {
      "text/plain": [
       "Amadi Flats.2                 Amadi Flats.3                   \n",
       "0                             180                                 15\n",
       "0.35999998                    180                                 17\n",
       "0.5091169                     135                                  4\n",
       "                              315                                  4\n",
       "0.71999997                    180                                  1\n",
       "                                                                  ..\n",
       "Water Side                    Water Side                           1\n",
       "Water Side Wind Speed [10 m]  Water Side Wind Direction [10 m]     1\n",
       "Wind Speed                    Wind Direction                      33\n",
       "hourly                        hourly                              33\n",
       "km/h                          °                                   33\n",
       "Name: Amadi Flats.3, Length: 1118, dtype: int64"
      ]
     },
     "execution_count": 59,
     "metadata": {},
     "output_type": "execute_result"
    }
   ],
   "source": [
    "train_data.groupby([\"Amadi Flats.2\"])[\"Amadi Flats.3\"].value_counts()"
   ]
  },
  {
   "cell_type": "code",
   "execution_count": null,
   "metadata": {},
   "outputs": [],
   "source": [
    "sns.countplot(x=train_data[\"Amadi Flats.1\"],hue=train_data[\"Amadi Flats.2\"])\n",
    "plt.title(\"Amadi Flats.1 vs Amadi Flats.2\",fontsize=15)\n",
    "plt.show()"
   ]
  },
  {
   "cell_type": "code",
   "execution_count": null,
   "metadata": {},
   "outputs": [],
   "source": [
    "str_data=train_data.select_dtypes(include=['object'])"
   ]
  },
  {
   "cell_type": "code",
   "execution_count": null,
   "metadata": {},
   "outputs": [],
   "source": [
    "str_dt=test_data.select_dtypes(include=['object'])"
   ]
  },
  {
   "cell_type": "code",
   "execution_count": null,
   "metadata": {},
   "outputs": [],
   "source": [
    "int_data=train_data.select_dtypes(include=['integer',\"float\"])\n",
    "int_dt=test_data.select_dtypes(include=['integer',\"float\"])"
   ]
  },
  {
   "cell_type": "code",
   "execution_count": null,
   "metadata": {},
   "outputs": [],
   "source": [
    "label=LabelEncoder()\n",
    "features=str_data.apply(label.fit_transform)\n",
    "features=features.join(int_data)\n",
    "features.head()"
   ]
  },
  {
   "cell_type": "code",
   "execution_count": null,
   "metadata": {},
   "outputs": [],
   "source": [
    "test1=str_dt.apply(label.fit_transform)\n",
    "Test=test1.join(int_dt)\n",
    "Test.head()"
   ]
  },
  {
   "cell_type": "code",
   "execution_count": null,
   "metadata": {},
   "outputs": [],
   "source": [
    "ytrain=features['Amadi Flats.1']\n",
    "ytrain.head()"
   ]
  },
  {
   "cell_type": "code",
   "execution_count": null,
   "metadata": {},
   "outputs": [],
   "source": [
    "xtrain=features['Amadi Flats.2']\n",
    "xtrain.head()"
   ]
  },
  {
   "cell_type": "code",
   "execution_count": null,
   "metadata": {},
   "outputs": [],
   "source": [
    "from sklearn.model_selection import train_test_split\n",
    "x_train,x_test,y_train,y_test=train_test_split(xtrain,ytrain)"
   ]
  },
  {
   "cell_type": "code",
   "execution_count": null,
   "metadata": {},
   "outputs": [],
   "source": []
  },
  {
   "cell_type": "code",
   "execution_count": null,
   "metadata": {},
   "outputs": [],
   "source": []
  },
  {
   "cell_type": "code",
   "execution_count": null,
   "metadata": {},
   "outputs": [],
   "source": []
  },
  {
   "cell_type": "code",
   "execution_count": null,
   "metadata": {},
   "outputs": [],
   "source": []
  },
  {
   "cell_type": "code",
   "execution_count": null,
   "metadata": {},
   "outputs": [],
   "source": []
  },
  {
   "cell_type": "code",
   "execution_count": null,
   "metadata": {},
   "outputs": [],
   "source": []
  },
  {
   "cell_type": "code",
   "execution_count": null,
   "metadata": {},
   "outputs": [],
   "source": []
  },
  {
   "cell_type": "code",
   "execution_count": null,
   "metadata": {},
   "outputs": [],
   "source": []
  },
  {
   "cell_type": "code",
   "execution_count": null,
   "metadata": {},
   "outputs": [],
   "source": []
  },
  {
   "cell_type": "code",
   "execution_count": null,
   "metadata": {},
   "outputs": [],
   "source": []
  },
  {
   "cell_type": "code",
   "execution_count": null,
   "metadata": {},
   "outputs": [],
   "source": []
  },
  {
   "cell_type": "code",
   "execution_count": null,
   "metadata": {},
   "outputs": [],
   "source": []
  },
  {
   "cell_type": "code",
   "execution_count": null,
   "metadata": {},
   "outputs": [],
   "source": []
  }
 ],
 "metadata": {
  "kernelspec": {
   "display_name": "Python 3",
   "language": "python",
   "name": "python3"
  },
  "language_info": {
   "codemirror_mode": {
    "name": "ipython",
    "version": 3
   },
   "file_extension": ".py",
   "mimetype": "text/x-python",
   "name": "python",
   "nbconvert_exporter": "python",
   "pygments_lexer": "ipython3",
   "version": "3.8.3"
  }
 },
 "nbformat": 4,
 "nbformat_minor": 4
}
