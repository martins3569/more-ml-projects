{
 "cells": [
  {
   "cell_type": "code",
   "execution_count": 1,
   "metadata": {},
   "outputs": [],
   "source": [
    "from __future__ import absolute_import, division, print_function, unicode_literals\n",
    "\n",
    "import tensorflow as tf\n",
    "import pandas as pd"
   ]
  },
  {
   "cell_type": "code",
   "execution_count": 2,
   "metadata": {},
   "outputs": [],
   "source": [
    "CSV_COLUMN_NAMES = ['SepalLength', 'SepalWidth', 'PetalLength', 'PetalWidth', 'Species']\n",
    "SPECIES = ['Setosa', 'Versicolor', 'Virginica']\n"
   ]
  },
  {
   "cell_type": "code",
   "execution_count": 3,
   "metadata": {},
   "outputs": [],
   "source": [
    "train_path = tf.keras.utils.get_file(\n",
    "    \"iris_training.csv\", \"https://storage.googleapis.com/download.tensorflow.org/data/iris_training.csv\")\n",
    "test_path = tf.keras.utils.get_file(\n",
    "    \"iris_training.csv\", \"https://storage.googleapis.com/download.tensorflow.org/data/iris_test.csv\")\n",
    "\n",
    "train = pd.read_csv(train_path, names=CSV_COLUMN_NAMES, header=0)\n",
    "test = pd.read_csv(test_path, names=CSV_COLUMN_NAMES, header=0)"
   ]
  },
  {
   "cell_type": "code",
   "execution_count": 4,
   "metadata": {},
   "outputs": [
    {
     "data": {
      "text/html": [
       "<div>\n",
       "<style scoped>\n",
       "    .dataframe tbody tr th:only-of-type {\n",
       "        vertical-align: middle;\n",
       "    }\n",
       "\n",
       "    .dataframe tbody tr th {\n",
       "        vertical-align: top;\n",
       "    }\n",
       "\n",
       "    .dataframe thead th {\n",
       "        text-align: right;\n",
       "    }\n",
       "</style>\n",
       "<table border=\"1\" class=\"dataframe\">\n",
       "  <thead>\n",
       "    <tr style=\"text-align: right;\">\n",
       "      <th></th>\n",
       "      <th>SepalLength</th>\n",
       "      <th>SepalWidth</th>\n",
       "      <th>PetalLength</th>\n",
       "      <th>PetalWidth</th>\n",
       "      <th>Species</th>\n",
       "    </tr>\n",
       "  </thead>\n",
       "  <tbody>\n",
       "    <tr>\n",
       "      <th>0</th>\n",
       "      <td>6.4</td>\n",
       "      <td>2.8</td>\n",
       "      <td>5.6</td>\n",
       "      <td>2.2</td>\n",
       "      <td>2</td>\n",
       "    </tr>\n",
       "    <tr>\n",
       "      <th>1</th>\n",
       "      <td>5.0</td>\n",
       "      <td>2.3</td>\n",
       "      <td>3.3</td>\n",
       "      <td>1.0</td>\n",
       "      <td>1</td>\n",
       "    </tr>\n",
       "    <tr>\n",
       "      <th>2</th>\n",
       "      <td>4.9</td>\n",
       "      <td>2.5</td>\n",
       "      <td>4.5</td>\n",
       "      <td>1.7</td>\n",
       "      <td>2</td>\n",
       "    </tr>\n",
       "    <tr>\n",
       "      <th>3</th>\n",
       "      <td>4.9</td>\n",
       "      <td>3.1</td>\n",
       "      <td>1.5</td>\n",
       "      <td>0.1</td>\n",
       "      <td>0</td>\n",
       "    </tr>\n",
       "    <tr>\n",
       "      <th>4</th>\n",
       "      <td>5.7</td>\n",
       "      <td>3.8</td>\n",
       "      <td>1.7</td>\n",
       "      <td>0.3</td>\n",
       "      <td>0</td>\n",
       "    </tr>\n",
       "  </tbody>\n",
       "</table>\n",
       "</div>"
      ],
      "text/plain": [
       "   SepalLength  SepalWidth  PetalLength  PetalWidth  Species\n",
       "0          6.4         2.8          5.6         2.2        2\n",
       "1          5.0         2.3          3.3         1.0        1\n",
       "2          4.9         2.5          4.5         1.7        2\n",
       "3          4.9         3.1          1.5         0.1        0\n",
       "4          5.7         3.8          1.7         0.3        0"
      ]
     },
     "execution_count": 4,
     "metadata": {},
     "output_type": "execute_result"
    }
   ],
   "source": [
    "train.head()"
   ]
  },
  {
   "cell_type": "code",
   "execution_count": 5,
   "metadata": {},
   "outputs": [
    {
     "data": {
      "text/html": [
       "<div>\n",
       "<style scoped>\n",
       "    .dataframe tbody tr th:only-of-type {\n",
       "        vertical-align: middle;\n",
       "    }\n",
       "\n",
       "    .dataframe tbody tr th {\n",
       "        vertical-align: top;\n",
       "    }\n",
       "\n",
       "    .dataframe thead th {\n",
       "        text-align: right;\n",
       "    }\n",
       "</style>\n",
       "<table border=\"1\" class=\"dataframe\">\n",
       "  <thead>\n",
       "    <tr style=\"text-align: right;\">\n",
       "      <th></th>\n",
       "      <th>SepalLength</th>\n",
       "      <th>SepalWidth</th>\n",
       "      <th>PetalLength</th>\n",
       "      <th>PetalWidth</th>\n",
       "    </tr>\n",
       "  </thead>\n",
       "  <tbody>\n",
       "    <tr>\n",
       "      <th>0</th>\n",
       "      <td>6.4</td>\n",
       "      <td>2.8</td>\n",
       "      <td>5.6</td>\n",
       "      <td>2.2</td>\n",
       "    </tr>\n",
       "    <tr>\n",
       "      <th>1</th>\n",
       "      <td>5.0</td>\n",
       "      <td>2.3</td>\n",
       "      <td>3.3</td>\n",
       "      <td>1.0</td>\n",
       "    </tr>\n",
       "    <tr>\n",
       "      <th>2</th>\n",
       "      <td>4.9</td>\n",
       "      <td>2.5</td>\n",
       "      <td>4.5</td>\n",
       "      <td>1.7</td>\n",
       "    </tr>\n",
       "    <tr>\n",
       "      <th>3</th>\n",
       "      <td>4.9</td>\n",
       "      <td>3.1</td>\n",
       "      <td>1.5</td>\n",
       "      <td>0.1</td>\n",
       "    </tr>\n",
       "    <tr>\n",
       "      <th>4</th>\n",
       "      <td>5.7</td>\n",
       "      <td>3.8</td>\n",
       "      <td>1.7</td>\n",
       "      <td>0.3</td>\n",
       "    </tr>\n",
       "  </tbody>\n",
       "</table>\n",
       "</div>"
      ],
      "text/plain": [
       "   SepalLength  SepalWidth  PetalLength  PetalWidth\n",
       "0          6.4         2.8          5.6         2.2\n",
       "1          5.0         2.3          3.3         1.0\n",
       "2          4.9         2.5          4.5         1.7\n",
       "3          4.9         3.1          1.5         0.1\n",
       "4          5.7         3.8          1.7         0.3"
      ]
     },
     "execution_count": 5,
     "metadata": {},
     "output_type": "execute_result"
    }
   ],
   "source": [
    "train_y = train.pop('Species')\n",
    "test_y = test.pop('Species')\n",
    "train.head()"
   ]
  },
  {
   "cell_type": "code",
   "execution_count": 6,
   "metadata": {},
   "outputs": [
    {
     "data": {
      "text/plain": [
       "(120, 4)"
      ]
     },
     "execution_count": 6,
     "metadata": {},
     "output_type": "execute_result"
    }
   ],
   "source": [
    "train.shape"
   ]
  },
  {
   "cell_type": "code",
   "execution_count": 7,
   "metadata": {},
   "outputs": [],
   "source": [
    "def input_fn(features, labels, training=True, batch_size=256):\n",
    "    dataset = tf.data.Dataset.from_tensor_slices((dict(features), labels))\n",
    "    \n",
    "    if training:\n",
    "        dataset = dataset.shuffle(1000).repeat()\n",
    "        \n",
    "    return dataset.batch(batch_size)"
   ]
  },
  {
   "cell_type": "code",
   "execution_count": 8,
   "metadata": {},
   "outputs": [
    {
     "name": "stdout",
     "output_type": "stream",
     "text": [
      "[NumericColumn(key='SepalLength', shape=(1,), default_value=None, dtype=tf.float32, normalizer_fn=None), NumericColumn(key='SepalWidth', shape=(1,), default_value=None, dtype=tf.float32, normalizer_fn=None), NumericColumn(key='PetalLength', shape=(1,), default_value=None, dtype=tf.float32, normalizer_fn=None), NumericColumn(key='PetalWidth', shape=(1,), default_value=None, dtype=tf.float32, normalizer_fn=None)]\n"
     ]
    }
   ],
   "source": [
    "my_feature_columns = []\n",
    "for key in train.keys():\n",
    "    my_feature_columns.append(tf.feature_column.numeric_column(key=key))\n",
    "print(my_feature_columns)"
   ]
  },
  {
   "cell_type": "code",
   "execution_count": 9,
   "metadata": {},
   "outputs": [
    {
     "name": "stdout",
     "output_type": "stream",
     "text": [
      "INFO:tensorflow:Using default config.\n",
      "WARNING:tensorflow:Using temporary folder as model directory: C:\\Users\\HP\\AppData\\Local\\Temp\\tmpn7wjcni5\n",
      "INFO:tensorflow:Using config: {'_model_dir': 'C:\\\\Users\\\\HP\\\\AppData\\\\Local\\\\Temp\\\\tmpn7wjcni5', '_tf_random_seed': None, '_save_summary_steps': 100, '_save_checkpoints_steps': None, '_save_checkpoints_secs': 600, '_session_config': allow_soft_placement: true\n",
      "graph_options {\n",
      "  rewrite_options {\n",
      "    meta_optimizer_iterations: ONE\n",
      "  }\n",
      "}\n",
      ", '_keep_checkpoint_max': 5, '_keep_checkpoint_every_n_hours': 10000, '_log_step_count_steps': 100, '_train_distribute': None, '_device_fn': None, '_protocol': None, '_eval_distribute': None, '_experimental_distribute': None, '_experimental_max_worker_delay_secs': None, '_session_creation_timeout_secs': 7200, '_checkpoint_save_graph_def': True, '_service': None, '_cluster_spec': ClusterSpec({}), '_task_type': 'worker', '_task_id': 0, '_global_id_in_cluster': 0, '_master': '', '_evaluation_master': '', '_is_chief': True, '_num_ps_replicas': 0, '_num_worker_replicas': 1}\n"
     ]
    }
   ],
   "source": [
    "classifier = tf.estimator.DNNClassifier(\n",
    "feature_columns=my_feature_columns,\n",
    "hidden_units=[30,10],\n",
    "n_classes=3)"
   ]
  },
  {
   "cell_type": "code",
   "execution_count": 10,
   "metadata": {},
   "outputs": [
    {
     "name": "stdout",
     "output_type": "stream",
     "text": [
      "WARNING:tensorflow:From C:\\Users\\HP\\AppData\\Roaming\\Python\\Python38\\site-packages\\tensorflow\\python\\training\\training_util.py:235: Variable.initialized_value (from tensorflow.python.ops.variables) is deprecated and will be removed in a future version.\n",
      "Instructions for updating:\n",
      "Use Variable.read_value. Variables in 2.X are initialized automatically both in eager and graph (inside tf.defun) contexts.\n",
      "INFO:tensorflow:Calling model_fn.\n",
      "WARNING:tensorflow:From C:\\Users\\HP\\AppData\\Roaming\\Python\\Python38\\site-packages\\tensorflow\\python\\keras\\optimizer_v2\\adagrad.py:82: calling Constant.__init__ (from tensorflow.python.ops.init_ops) with dtype is deprecated and will be removed in a future version.\n",
      "Instructions for updating:\n",
      "Call initializer instance with the dtype argument instead of passing it to the constructor\n",
      "INFO:tensorflow:Done calling model_fn.\n",
      "INFO:tensorflow:Create CheckpointSaverHook.\n",
      "INFO:tensorflow:Graph was finalized.\n",
      "INFO:tensorflow:Running local_init_op.\n",
      "INFO:tensorflow:Done running local_init_op.\n",
      "INFO:tensorflow:Calling checkpoint listeners before saving checkpoint 0...\n",
      "INFO:tensorflow:Saving checkpoints for 0 into C:\\Users\\HP\\AppData\\Local\\Temp\\tmpn7wjcni5\\model.ckpt.\n",
      "INFO:tensorflow:Calling checkpoint listeners after saving checkpoint 0...\n",
      "INFO:tensorflow:loss = 1.2933514, step = 0\n",
      "INFO:tensorflow:global_step/sec: 222.108\n",
      "INFO:tensorflow:loss = 1.0732293, step = 100 (0.453 sec)\n",
      "INFO:tensorflow:global_step/sec: 300.485\n",
      "INFO:tensorflow:loss = 0.97010994, step = 200 (0.336 sec)\n",
      "INFO:tensorflow:global_step/sec: 278.72\n",
      "INFO:tensorflow:loss = 0.8953418, step = 300 (0.356 sec)\n",
      "INFO:tensorflow:global_step/sec: 287.113\n",
      "INFO:tensorflow:loss = 0.8706535, step = 400 (0.355 sec)\n",
      "INFO:tensorflow:global_step/sec: 337.365\n",
      "INFO:tensorflow:loss = 0.82839674, step = 500 (0.294 sec)\n",
      "INFO:tensorflow:global_step/sec: 318.797\n",
      "INFO:tensorflow:loss = 0.81126726, step = 600 (0.309 sec)\n",
      "INFO:tensorflow:global_step/sec: 366.526\n",
      "INFO:tensorflow:loss = 0.7927003, step = 700 (0.274 sec)\n",
      "INFO:tensorflow:global_step/sec: 234.885\n",
      "INFO:tensorflow:loss = 0.774516, step = 800 (0.430 sec)\n",
      "INFO:tensorflow:global_step/sec: 279.549\n",
      "INFO:tensorflow:loss = 0.76165867, step = 900 (0.356 sec)\n",
      "INFO:tensorflow:global_step/sec: 213.317\n",
      "INFO:tensorflow:loss = 0.74662673, step = 1000 (0.465 sec)\n",
      "INFO:tensorflow:global_step/sec: 261.937\n",
      "INFO:tensorflow:loss = 0.7261624, step = 1100 (0.389 sec)\n",
      "INFO:tensorflow:global_step/sec: 225.273\n",
      "INFO:tensorflow:loss = 0.71080554, step = 1200 (0.440 sec)\n",
      "INFO:tensorflow:global_step/sec: 266.528\n",
      "INFO:tensorflow:loss = 0.7044983, step = 1300 (0.378 sec)\n",
      "INFO:tensorflow:global_step/sec: 261.682\n",
      "INFO:tensorflow:loss = 0.6695207, step = 1400 (0.380 sec)\n",
      "INFO:tensorflow:global_step/sec: 245.015\n",
      "INFO:tensorflow:loss = 0.6864351, step = 1500 (0.407 sec)\n",
      "INFO:tensorflow:global_step/sec: 280.926\n",
      "INFO:tensorflow:loss = 0.6909018, step = 1600 (0.353 sec)\n",
      "INFO:tensorflow:global_step/sec: 468.481\n",
      "INFO:tensorflow:loss = 0.6387375, step = 1700 (0.214 sec)\n",
      "INFO:tensorflow:global_step/sec: 458.998\n",
      "INFO:tensorflow:loss = 0.64120847, step = 1800 (0.218 sec)\n",
      "INFO:tensorflow:global_step/sec: 476.483\n",
      "INFO:tensorflow:loss = 0.65153027, step = 1900 (0.210 sec)\n",
      "INFO:tensorflow:global_step/sec: 452.767\n",
      "INFO:tensorflow:loss = 0.63890594, step = 2000 (0.221 sec)\n",
      "INFO:tensorflow:global_step/sec: 471.989\n",
      "INFO:tensorflow:loss = 0.61814725, step = 2100 (0.211 sec)\n",
      "INFO:tensorflow:global_step/sec: 478.76\n",
      "INFO:tensorflow:loss = 0.6026677, step = 2200 (0.213 sec)\n",
      "INFO:tensorflow:global_step/sec: 425.796\n",
      "INFO:tensorflow:loss = 0.61162204, step = 2300 (0.232 sec)\n",
      "INFO:tensorflow:global_step/sec: 443.032\n",
      "INFO:tensorflow:loss = 0.5978554, step = 2400 (0.226 sec)\n",
      "INFO:tensorflow:global_step/sec: 410.089\n",
      "INFO:tensorflow:loss = 0.599102, step = 2500 (0.244 sec)\n",
      "INFO:tensorflow:global_step/sec: 420.3\n",
      "INFO:tensorflow:loss = 0.5849957, step = 2600 (0.237 sec)\n",
      "INFO:tensorflow:global_step/sec: 463.027\n",
      "INFO:tensorflow:loss = 0.5603884, step = 2700 (0.216 sec)\n",
      "INFO:tensorflow:global_step/sec: 300.558\n",
      "INFO:tensorflow:loss = 0.55796075, step = 2800 (0.337 sec)\n",
      "INFO:tensorflow:global_step/sec: 274.891\n",
      "INFO:tensorflow:loss = 0.5660236, step = 2900 (0.363 sec)\n",
      "INFO:tensorflow:global_step/sec: 347.443\n",
      "INFO:tensorflow:loss = 0.5514745, step = 3000 (0.286 sec)\n",
      "INFO:tensorflow:global_step/sec: 412.113\n",
      "INFO:tensorflow:loss = 0.53882045, step = 3100 (0.242 sec)\n",
      "INFO:tensorflow:global_step/sec: 416.926\n",
      "INFO:tensorflow:loss = 0.53530777, step = 3200 (0.240 sec)\n",
      "INFO:tensorflow:global_step/sec: 407.379\n",
      "INFO:tensorflow:loss = 0.52029383, step = 3300 (0.247 sec)\n",
      "INFO:tensorflow:global_step/sec: 386.339\n",
      "INFO:tensorflow:loss = 0.513714, step = 3400 (0.257 sec)\n",
      "INFO:tensorflow:global_step/sec: 431.301\n",
      "INFO:tensorflow:loss = 0.5066112, step = 3500 (0.233 sec)\n",
      "INFO:tensorflow:global_step/sec: 424.297\n",
      "INFO:tensorflow:loss = 0.5106806, step = 3600 (0.236 sec)\n",
      "INFO:tensorflow:global_step/sec: 393.026\n",
      "INFO:tensorflow:loss = 0.46791422, step = 3700 (0.255 sec)\n",
      "INFO:tensorflow:global_step/sec: 422.2\n",
      "INFO:tensorflow:loss = 0.4973141, step = 3800 (0.237 sec)\n",
      "INFO:tensorflow:global_step/sec: 255.911\n",
      "INFO:tensorflow:loss = 0.48494196, step = 3900 (0.392 sec)\n",
      "INFO:tensorflow:global_step/sec: 408.417\n",
      "INFO:tensorflow:loss = 0.47205564, step = 4000 (0.243 sec)\n",
      "INFO:tensorflow:global_step/sec: 276.411\n",
      "INFO:tensorflow:loss = 0.4754477, step = 4100 (0.365 sec)\n",
      "INFO:tensorflow:global_step/sec: 411.818\n",
      "INFO:tensorflow:loss = 0.47494245, step = 4200 (0.239 sec)\n",
      "INFO:tensorflow:global_step/sec: 278.127\n",
      "INFO:tensorflow:loss = 0.46784198, step = 4300 (0.361 sec)\n",
      "INFO:tensorflow:global_step/sec: 322.302\n",
      "INFO:tensorflow:loss = 0.44762146, step = 4400 (0.315 sec)\n",
      "INFO:tensorflow:global_step/sec: 384.853\n",
      "INFO:tensorflow:loss = 0.4501166, step = 4500 (0.254 sec)\n",
      "INFO:tensorflow:global_step/sec: 420.429\n",
      "INFO:tensorflow:loss = 0.45008907, step = 4600 (0.239 sec)\n",
      "INFO:tensorflow:global_step/sec: 422.2\n",
      "INFO:tensorflow:loss = 0.42710426, step = 4700 (0.235 sec)\n",
      "INFO:tensorflow:global_step/sec: 438.865\n",
      "INFO:tensorflow:loss = 0.4356004, step = 4800 (0.230 sec)\n",
      "INFO:tensorflow:global_step/sec: 346.235\n",
      "INFO:tensorflow:loss = 0.4286356, step = 4900 (0.289 sec)\n",
      "INFO:tensorflow:Calling checkpoint listeners before saving checkpoint 5000...\n",
      "INFO:tensorflow:Saving checkpoints for 5000 into C:\\Users\\HP\\AppData\\Local\\Temp\\tmpn7wjcni5\\model.ckpt.\n",
      "INFO:tensorflow:Calling checkpoint listeners after saving checkpoint 5000...\n",
      "INFO:tensorflow:Loss for final step: 0.4170521.\n"
     ]
    },
    {
     "data": {
      "text/plain": [
       "<tensorflow_estimator.python.estimator.canned.dnn.DNNClassifierV2 at 0x18e1d5e33a0>"
      ]
     },
     "execution_count": 10,
     "metadata": {},
     "output_type": "execute_result"
    }
   ],
   "source": [
    "classifier.train(\n",
    "input_fn=lambda: input_fn(train, train_y, training=True),\n",
    "steps=5000)"
   ]
  },
  {
   "cell_type": "code",
   "execution_count": 11,
   "metadata": {},
   "outputs": [
    {
     "name": "stdout",
     "output_type": "stream",
     "text": [
      "INFO:tensorflow:Calling model_fn.\n",
      "INFO:tensorflow:Done calling model_fn.\n",
      "INFO:tensorflow:Starting evaluation at 2022-03-17T08:50:05Z\n",
      "INFO:tensorflow:Graph was finalized.\n",
      "INFO:tensorflow:Restoring parameters from C:\\Users\\HP\\AppData\\Local\\Temp\\tmpn7wjcni5\\model.ckpt-5000\n",
      "INFO:tensorflow:Running local_init_op.\n",
      "INFO:tensorflow:Done running local_init_op.\n",
      "INFO:tensorflow:Inference Time : 1.14374s\n",
      "INFO:tensorflow:Finished evaluation at 2022-03-17-08:50:06\n",
      "INFO:tensorflow:Saving dict for global step 5000: accuracy = 0.95, average_loss = 0.42401326, global_step = 5000, loss = 0.42401326\n",
      "INFO:tensorflow:Saving 'checkpoint_path' summary for global step 5000: C:\\Users\\HP\\AppData\\Local\\Temp\\tmpn7wjcni5\\model.ckpt-5000\n",
      "\n",
      "Test set accuracy: 0.950\n",
      "\n"
     ]
    }
   ],
   "source": [
    "eval_result = classifier.evaluate(\n",
    "input_fn=lambda: input_fn(test, test_y, training=False))\n",
    "\n",
    "print('\\nTest set accuracy: {accuracy:0.3f}\\n'.format(**eval_result))"
   ]
  },
  {
   "cell_type": "code",
   "execution_count": 13,
   "metadata": {},
   "outputs": [
    {
     "name": "stdout",
     "output_type": "stream",
     "text": [
      "Please type numeric values as prompted. \n",
      "SepalLength: 2.4\n",
      "SepalWidth: 2.6\n",
      "PetalLength: 6.5\n",
      "PetalWidth: 6.3\n",
      "INFO:tensorflow:Calling model_fn.\n",
      "INFO:tensorflow:Done calling model_fn.\n",
      "INFO:tensorflow:Graph was finalized.\n",
      "INFO:tensorflow:Restoring parameters from C:\\Users\\HP\\AppData\\Local\\Temp\\tmpn7wjcni5\\model.ckpt-5000\n",
      "INFO:tensorflow:Running local_init_op.\n",
      "INFO:tensorflow:Done running local_init_op.\n",
      "Prediction is \"Virginica\" (79.0%)\n"
     ]
    }
   ],
   "source": [
    "def input_fn(features, batch_size=256):\n",
    "    return tf.data.Dataset.from_tensor_slices(dict(features)).batch(batch_size)\n",
    "\n",
    "features = ['SepalLength', 'SepalWidth', 'PetalLength', 'PetalWidth']\n",
    "predict = {}\n",
    "\n",
    "print(\"Please type numeric values as prompted. \")\n",
    "for feature in features:\n",
    "    valid = True\n",
    "    while valid:\n",
    "        val = input(feature + \": \")\n",
    "        if not val.isdigit(): valid = False\n",
    "            \n",
    "    predict[feature] = [float(val)]\n",
    "    \n",
    "predictions = classifier.predict(input_fn=lambda: input_fn(predict))\n",
    "for pred_dict in predictions:\n",
    "    class_id = pred_dict['class_ids'][0]\n",
    "    probability = pred_dict['probabilities'][class_id]\n",
    "    \n",
    "    print('Prediction is \"{}\" ({:.1f}%)'.format(\n",
    "    SPECIES[class_id], 100 * probability))"
   ]
  },
  {
   "cell_type": "code",
   "execution_count": 15,
   "metadata": {},
   "outputs": [
    {
     "name": "stdout",
     "output_type": "stream",
     "text": [
      "Please type numeric values as prompted. \n",
      "SepalLength: 1.4\n",
      "SepalWidth: 2.3\n",
      "PetalLength: 4.5\n",
      "PetalWidth: 4.7\n",
      "INFO:tensorflow:Calling model_fn.\n",
      "INFO:tensorflow:Done calling model_fn.\n",
      "INFO:tensorflow:Graph was finalized.\n",
      "INFO:tensorflow:Restoring parameters from C:\\Users\\HP\\AppData\\Local\\Temp\\tmpn7wjcni5\\model.ckpt-5000\n",
      "INFO:tensorflow:Running local_init_op.\n",
      "INFO:tensorflow:Done running local_init_op.\n",
      "{'logits': array([-0.5014751 ,  0.45130238,  1.6049776 ], dtype=float32), 'probabilities': array([0.08466014, 0.21951537, 0.6958245 ], dtype=float32), 'class_ids': array([2], dtype=int64), 'classes': array([b'2'], dtype=object), 'all_class_ids': array([0, 1, 2]), 'all_classes': array([b'0', b'1', b'2'], dtype=object)}\n",
      "Prediction is \"Virginica\" (69.6%)\n"
     ]
    }
   ],
   "source": [
    "def input_fn(features, batch_size=256):\n",
    "    return tf.data.Dataset.from_tensor_slices(dict(features)).batch(batch_size)\n",
    "\n",
    "features = ['SepalLength', 'SepalWidth', 'PetalLength', 'PetalWidth']\n",
    "predict = {}\n",
    "\n",
    "print(\"Please type numeric values as prompted. \")\n",
    "for feature in features:\n",
    "    valid = True\n",
    "    while valid:\n",
    "        val = input(feature + \": \")\n",
    "        if not val.isdigit(): valid = False\n",
    "            \n",
    "    predict[feature] = [float(val)]\n",
    "    \n",
    "predictions = classifier.predict(input_fn=lambda: input_fn(predict))\n",
    "for pred_dict in predictions:\n",
    "    print(pred_dict)\n",
    "    class_id = pred_dict['class_ids'][0]\n",
    "    probability = pred_dict['probabilities'][class_id]\n",
    "    \n",
    "    print('Prediction is \"{}\" ({:.1f}%)'.format(\n",
    "    SPECIES[class_id], 100 * probability))"
   ]
  },
  {
   "cell_type": "code",
   "execution_count": 16,
   "metadata": {},
   "outputs": [],
   "source": [
    "expected = ['Setosa', 'Versicolor', 'Virginica']\n",
    "predict_x = {\n",
    "    'SepalLength': [5.1, 5.9, 6.9],\n",
    "    'SepalWidth': [3.3, 3.0, 3.1],\n",
    "    'PetalLength': [1.7, 4.2, 5.4],\n",
    "    'PetalWidth': [0.5, 1.5, 2.1]\n",
    "}"
   ]
  },
  {
   "cell_type": "code",
   "execution_count": null,
   "metadata": {},
   "outputs": [],
   "source": []
  }
 ],
 "metadata": {
  "kernelspec": {
   "display_name": "Python 3",
   "language": "python",
   "name": "python3"
  },
  "language_info": {
   "codemirror_mode": {
    "name": "ipython",
    "version": 3
   },
   "file_extension": ".py",
   "mimetype": "text/x-python",
   "name": "python",
   "nbconvert_exporter": "python",
   "pygments_lexer": "ipython3",
   "version": "3.8.3"
  }
 },
 "nbformat": 4,
 "nbformat_minor": 4
}
