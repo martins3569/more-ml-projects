{
 "cells": [
  {
   "cell_type": "code",
   "execution_count": 3,
   "metadata": {},
   "outputs": [],
   "source": [
    "from __future__ import absolute_import, division, print_function, unicode_literals\n",
    "import numpy as np\n",
    "import pandas as pd\n",
    "import matplotlib.pyplot as plt\n",
    "from IPython.display import clear_output\n",
    "from six.moves import urllib\n",
    "import tensorflow.compat.v2.feature_column as fc\n",
    "import tensorflow as tf"
   ]
  },
  {
   "cell_type": "code",
   "execution_count": 4,
   "metadata": {},
   "outputs": [],
   "source": [
    "dftrain = pd.read_csv('https://storage.googleapis.com/tf-datasets/titanic/train.csv')\n",
    "dfeval = pd.read_csv('https://storage.googleapis.com/tf-datasets/titanic/eval.csv')\n",
    "y_train = dftrain.pop('survived')\n",
    "y_eval = dfeval.pop('survived')"
   ]
  },
  {
   "cell_type": "code",
   "execution_count": 5,
   "metadata": {},
   "outputs": [
    {
     "data": {
      "text/html": [
       "<div>\n",
       "<style scoped>\n",
       "    .dataframe tbody tr th:only-of-type {\n",
       "        vertical-align: middle;\n",
       "    }\n",
       "\n",
       "    .dataframe tbody tr th {\n",
       "        vertical-align: top;\n",
       "    }\n",
       "\n",
       "    .dataframe thead th {\n",
       "        text-align: right;\n",
       "    }\n",
       "</style>\n",
       "<table border=\"1\" class=\"dataframe\">\n",
       "  <thead>\n",
       "    <tr style=\"text-align: right;\">\n",
       "      <th></th>\n",
       "      <th>sex</th>\n",
       "      <th>age</th>\n",
       "      <th>n_siblings_spouses</th>\n",
       "      <th>parch</th>\n",
       "      <th>fare</th>\n",
       "      <th>class</th>\n",
       "      <th>deck</th>\n",
       "      <th>embark_town</th>\n",
       "      <th>alone</th>\n",
       "    </tr>\n",
       "  </thead>\n",
       "  <tbody>\n",
       "    <tr>\n",
       "      <th>0</th>\n",
       "      <td>male</td>\n",
       "      <td>22.0</td>\n",
       "      <td>1</td>\n",
       "      <td>0</td>\n",
       "      <td>7.2500</td>\n",
       "      <td>Third</td>\n",
       "      <td>unknown</td>\n",
       "      <td>Southampton</td>\n",
       "      <td>n</td>\n",
       "    </tr>\n",
       "    <tr>\n",
       "      <th>1</th>\n",
       "      <td>female</td>\n",
       "      <td>38.0</td>\n",
       "      <td>1</td>\n",
       "      <td>0</td>\n",
       "      <td>71.2833</td>\n",
       "      <td>First</td>\n",
       "      <td>C</td>\n",
       "      <td>Cherbourg</td>\n",
       "      <td>n</td>\n",
       "    </tr>\n",
       "    <tr>\n",
       "      <th>2</th>\n",
       "      <td>female</td>\n",
       "      <td>26.0</td>\n",
       "      <td>0</td>\n",
       "      <td>0</td>\n",
       "      <td>7.9250</td>\n",
       "      <td>Third</td>\n",
       "      <td>unknown</td>\n",
       "      <td>Southampton</td>\n",
       "      <td>y</td>\n",
       "    </tr>\n",
       "    <tr>\n",
       "      <th>3</th>\n",
       "      <td>female</td>\n",
       "      <td>35.0</td>\n",
       "      <td>1</td>\n",
       "      <td>0</td>\n",
       "      <td>53.1000</td>\n",
       "      <td>First</td>\n",
       "      <td>C</td>\n",
       "      <td>Southampton</td>\n",
       "      <td>n</td>\n",
       "    </tr>\n",
       "    <tr>\n",
       "      <th>4</th>\n",
       "      <td>male</td>\n",
       "      <td>28.0</td>\n",
       "      <td>0</td>\n",
       "      <td>0</td>\n",
       "      <td>8.4583</td>\n",
       "      <td>Third</td>\n",
       "      <td>unknown</td>\n",
       "      <td>Queenstown</td>\n",
       "      <td>y</td>\n",
       "    </tr>\n",
       "  </tbody>\n",
       "</table>\n",
       "</div>"
      ],
      "text/plain": [
       "      sex   age  n_siblings_spouses  parch     fare  class     deck  \\\n",
       "0    male  22.0                   1      0   7.2500  Third  unknown   \n",
       "1  female  38.0                   1      0  71.2833  First        C   \n",
       "2  female  26.0                   0      0   7.9250  Third  unknown   \n",
       "3  female  35.0                   1      0  53.1000  First        C   \n",
       "4    male  28.0                   0      0   8.4583  Third  unknown   \n",
       "\n",
       "   embark_town alone  \n",
       "0  Southampton     n  \n",
       "1    Cherbourg     n  \n",
       "2  Southampton     y  \n",
       "3  Southampton     n  \n",
       "4   Queenstown     y  "
      ]
     },
     "execution_count": 5,
     "metadata": {},
     "output_type": "execute_result"
    }
   ],
   "source": [
    "dftrain.head()"
   ]
  },
  {
   "cell_type": "code",
   "execution_count": 6,
   "metadata": {},
   "outputs": [
    {
     "data": {
      "text/plain": [
       "0    0\n",
       "1    1\n",
       "2    1\n",
       "3    1\n",
       "4    0\n",
       "Name: survived, dtype: int64"
      ]
     },
     "execution_count": 6,
     "metadata": {},
     "output_type": "execute_result"
    }
   ],
   "source": [
    "y_train.head()"
   ]
  },
  {
   "cell_type": "code",
   "execution_count": 7,
   "metadata": {},
   "outputs": [
    {
     "name": "stdout",
     "output_type": "stream",
     "text": [
      "sex                          male\n",
      "age                            22\n",
      "n_siblings_spouses              1\n",
      "parch                           0\n",
      "fare                         7.25\n",
      "class                       Third\n",
      "deck                      unknown\n",
      "embark_town           Southampton\n",
      "alone                           n\n",
      "Name: 0, dtype: object 0\n"
     ]
    }
   ],
   "source": [
    "print(dftrain.loc[0], y_train.loc[0])"
   ]
  },
  {
   "cell_type": "code",
   "execution_count": 8,
   "metadata": {},
   "outputs": [
    {
     "name": "stdout",
     "output_type": "stream",
     "text": [
      "0      22.0\n",
      "1      38.0\n",
      "2      26.0\n",
      "3      35.0\n",
      "4      28.0\n",
      "       ... \n",
      "622    28.0\n",
      "623    25.0\n",
      "624    19.0\n",
      "625    28.0\n",
      "626    32.0\n",
      "Name: age, Length: 627, dtype: float64\n"
     ]
    }
   ],
   "source": [
    "print(dftrain[\"age\"])"
   ]
  },
  {
   "cell_type": "code",
   "execution_count": 9,
   "metadata": {},
   "outputs": [
    {
     "data": {
      "text/html": [
       "<div>\n",
       "<style scoped>\n",
       "    .dataframe tbody tr th:only-of-type {\n",
       "        vertical-align: middle;\n",
       "    }\n",
       "\n",
       "    .dataframe tbody tr th {\n",
       "        vertical-align: top;\n",
       "    }\n",
       "\n",
       "    .dataframe thead th {\n",
       "        text-align: right;\n",
       "    }\n",
       "</style>\n",
       "<table border=\"1\" class=\"dataframe\">\n",
       "  <thead>\n",
       "    <tr style=\"text-align: right;\">\n",
       "      <th></th>\n",
       "      <th>age</th>\n",
       "      <th>n_siblings_spouses</th>\n",
       "      <th>parch</th>\n",
       "      <th>fare</th>\n",
       "    </tr>\n",
       "  </thead>\n",
       "  <tbody>\n",
       "    <tr>\n",
       "      <th>count</th>\n",
       "      <td>627.000000</td>\n",
       "      <td>627.000000</td>\n",
       "      <td>627.000000</td>\n",
       "      <td>627.000000</td>\n",
       "    </tr>\n",
       "    <tr>\n",
       "      <th>mean</th>\n",
       "      <td>29.631308</td>\n",
       "      <td>0.545455</td>\n",
       "      <td>0.379585</td>\n",
       "      <td>34.385399</td>\n",
       "    </tr>\n",
       "    <tr>\n",
       "      <th>std</th>\n",
       "      <td>12.511818</td>\n",
       "      <td>1.151090</td>\n",
       "      <td>0.792999</td>\n",
       "      <td>54.597730</td>\n",
       "    </tr>\n",
       "    <tr>\n",
       "      <th>min</th>\n",
       "      <td>0.750000</td>\n",
       "      <td>0.000000</td>\n",
       "      <td>0.000000</td>\n",
       "      <td>0.000000</td>\n",
       "    </tr>\n",
       "    <tr>\n",
       "      <th>25%</th>\n",
       "      <td>23.000000</td>\n",
       "      <td>0.000000</td>\n",
       "      <td>0.000000</td>\n",
       "      <td>7.895800</td>\n",
       "    </tr>\n",
       "    <tr>\n",
       "      <th>50%</th>\n",
       "      <td>28.000000</td>\n",
       "      <td>0.000000</td>\n",
       "      <td>0.000000</td>\n",
       "      <td>15.045800</td>\n",
       "    </tr>\n",
       "    <tr>\n",
       "      <th>75%</th>\n",
       "      <td>35.000000</td>\n",
       "      <td>1.000000</td>\n",
       "      <td>0.000000</td>\n",
       "      <td>31.387500</td>\n",
       "    </tr>\n",
       "    <tr>\n",
       "      <th>max</th>\n",
       "      <td>80.000000</td>\n",
       "      <td>8.000000</td>\n",
       "      <td>5.000000</td>\n",
       "      <td>512.329200</td>\n",
       "    </tr>\n",
       "  </tbody>\n",
       "</table>\n",
       "</div>"
      ],
      "text/plain": [
       "              age  n_siblings_spouses       parch        fare\n",
       "count  627.000000          627.000000  627.000000  627.000000\n",
       "mean    29.631308            0.545455    0.379585   34.385399\n",
       "std     12.511818            1.151090    0.792999   54.597730\n",
       "min      0.750000            0.000000    0.000000    0.000000\n",
       "25%     23.000000            0.000000    0.000000    7.895800\n",
       "50%     28.000000            0.000000    0.000000   15.045800\n",
       "75%     35.000000            1.000000    0.000000   31.387500\n",
       "max     80.000000            8.000000    5.000000  512.329200"
      ]
     },
     "execution_count": 9,
     "metadata": {},
     "output_type": "execute_result"
    }
   ],
   "source": [
    "dftrain.describe()"
   ]
  },
  {
   "cell_type": "code",
   "execution_count": 10,
   "metadata": {},
   "outputs": [
    {
     "data": {
      "text/plain": [
       "(627, 9)"
      ]
     },
     "execution_count": 10,
     "metadata": {},
     "output_type": "execute_result"
    }
   ],
   "source": [
    "dftrain.shape"
   ]
  },
  {
   "cell_type": "code",
   "execution_count": 11,
   "metadata": {},
   "outputs": [
    {
     "data": {
      "text/plain": [
       "0    0\n",
       "1    1\n",
       "2    1\n",
       "3    1\n",
       "4    0\n",
       "Name: survived, dtype: int64"
      ]
     },
     "execution_count": 11,
     "metadata": {},
     "output_type": "execute_result"
    }
   ],
   "source": [
    "y_train.head()"
   ]
  },
  {
   "cell_type": "code",
   "execution_count": 12,
   "metadata": {},
   "outputs": [
    {
     "data": {
      "text/plain": [
       "<matplotlib.axes._subplots.AxesSubplot at 0x1f1c6a59130>"
      ]
     },
     "execution_count": 12,
     "metadata": {},
     "output_type": "execute_result"
    },
    {
     "data": {
      "image/png": "[encoded data removed]",
      "text/plain": [
       "<Figure size 432x288 with 1 Axes>"
      ]
     },
     "metadata": {
      "needs_background": "light"
     },
     "output_type": "display_data"
    }
   ],
   "source": [
    "dftrain.age.hist(bins=20)"
   ]
  },
  {
   "cell_type": "code",
   "execution_count": 13,
   "metadata": {},
   "outputs": [
    {
     "data": {
      "text/plain": [
       "<matplotlib.axes._subplots.AxesSubplot at 0x1f1c6b08400>"
      ]
     },
     "execution_count": 13,
     "metadata": {},
     "output_type": "execute_result"
    },
    {
     "data": {
      "image/png": "[encoded data removed]",
      "text/plain": [
       "<Figure size 432x288 with 1 Axes>"
      ]
     },
     "metadata": {
      "needs_background": "light"
     },
     "output_type": "display_data"
    }
   ],
   "source": [
    "dftrain.sex.value_counts().plot(kind='barh')"
   ]
  },
  {
   "cell_type": "code",
   "execution_count": 14,
   "metadata": {},
   "outputs": [
    {
     "data": {
      "text/plain": [
       "<matplotlib.axes._subplots.AxesSubplot at 0x1f1c6bd5df0>"
      ]
     },
     "execution_count": 14,
     "metadata": {},
     "output_type": "execute_result"
    },
    {
     "data": {
      "image/png": "[encoded data removed]",
      "text/plain": [
       "<Figure size 432x288 with 1 Axes>"
      ]
     },
     "metadata": {
      "needs_background": "light"
     },
     "output_type": "display_data"
    }
   ],
   "source": [
    "dftrain['class'].value_counts().plot(kind='barh')"
   ]
  },
  {
   "cell_type": "code",
   "execution_count": 15,
   "metadata": {},
   "outputs": [
    {
     "data": {
      "text/plain": [
       "Text(0.5, 0, '% survive')"
      ]
     },
     "execution_count": 15,
     "metadata": {},
     "output_type": "execute_result"
    },
    {
     "data": {
      "image/png": "[encoded data removed]",
      "text/plain": [
       "<Figure size 432x288 with 1 Axes>"
      ]
     },
     "metadata": {
      "needs_background": "light"
     },
     "output_type": "display_data"
    }
   ],
   "source": [
    "pd.concat([dftrain, y_train], axis=1).groupby('sex').survived.mean().plot(kind='barh').set_xlabel('% survive')"
   ]
  },
  {
   "cell_type": "code",
   "execution_count": 16,
   "metadata": {},
   "outputs": [
    {
     "data": {
      "text/plain": [
       "(264, 9)"
      ]
     },
     "execution_count": 16,
     "metadata": {},
     "output_type": "execute_result"
    }
   ],
   "source": [
    "dfeval.shape"
   ]
  },
  {
   "cell_type": "code",
   "execution_count": 20,
   "metadata": {},
   "outputs": [
    {
     "name": "stdout",
     "output_type": "stream",
     "text": [
      "[VocabularyListCategoricalColumn(key='sex', vocabulary_list=('male', 'female'), dtype=tf.string, default_value=-1, num_oov_buckets=0), VocabularyListCategoricalColumn(key='n_siblings_spouses', vocabulary_list=(1, 0, 3, 4, 2, 5, 8), dtype=tf.int64, default_value=-1, num_oov_buckets=0), VocabularyListCategoricalColumn(key='parch', vocabulary_list=(0, 1, 2, 5, 3, 4), dtype=tf.int64, default_value=-1, num_oov_buckets=0), VocabularyListCategoricalColumn(key='class', vocabulary_list=('Third', 'First', 'Second'), dtype=tf.string, default_value=-1, num_oov_buckets=0), VocabularyListCategoricalColumn(key='deck', vocabulary_list=('unknown', 'C', 'G', 'A', 'B', 'D', 'F', 'E'), dtype=tf.string, default_value=-1, num_oov_buckets=0), VocabularyListCategoricalColumn(key='embark_town', vocabulary_list=('Southampton', 'Cherbourg', 'Queenstown', 'unknown'), dtype=tf.string, default_value=-1, num_oov_buckets=0), VocabularyListCategoricalColumn(key='alone', vocabulary_list=('n', 'y'), dtype=tf.string, default_value=-1, num_oov_buckets=0), NumericColumn(key='age', shape=(1,), default_value=None, dtype=tf.float32, normalizer_fn=None), NumericColumn(key='fare', shape=(1,), default_value=None, dtype=tf.float32, normalizer_fn=None)]\n"
     ]
    }
   ],
   "source": [
    "dftrain = pd.read_csv('https://storage.googleapis.com/tf-datasets/titanic/train.csv')\n",
    "dfeval = pd.read_csv('https://storage.googleapis.com/tf-datasets/titanic/eval.csv')\n",
    "y_train = dftrain.pop('survived')\n",
    "y_eval = dfeval.pop('survived')\n",
    "\n",
    "CATEGORICAL_COLUMNS = ['sex', 'n_siblings_spouses', 'parch', 'class', 'deck', 'embark_town', 'alone']\n",
    "NUMERIC_COLUMNS = ['age', 'fare']\n",
    "\n",
    "feature_columns = []\n",
    "for feature_name in CATEGORICAL_COLUMNS:\n",
    "    vocabulary = dftrain[feature_name].unique()\n",
    "    feature_columns.append(tf.feature_column.categorical_column_with_vocabulary_list(feature_name, vocabulary))\n",
    "    \n",
    "for feature_name in NUMERIC_COLUMNS:\n",
    "    feature_columns.append(tf.feature_column.numeric_column(feature_name, dtype=tf.float32))\n",
    "    \n",
    "print(feature_columns)"
   ]
  },
  {
   "cell_type": "code",
   "execution_count": 21,
   "metadata": {},
   "outputs": [
    {
     "data": {
      "text/plain": [
       "array([  7.25  ,  71.2833,   7.925 ,  53.1   ,   8.4583,  21.075 ,\n",
       "        11.1333,  30.0708,  16.7   ,   8.05  ,  31.275 ,   7.8542,\n",
       "        29.125 ,  13.    ,  18.    ,   7.225 ,  26.    ,  35.5   ,\n",
       "        31.3875, 263.    ,   7.8792,   7.8958,  27.7208, 146.5208,\n",
       "         7.75  ,  10.5   ,  82.1708,  52.    ,   7.2292,  11.2417,\n",
       "         9.475 ,  21.    ,  41.5792,  15.5   ,  21.6792,  17.8   ,\n",
       "        39.6875,  76.7292,  61.9792,  46.9   ,  80.    ,  83.475 ,\n",
       "        27.9   ,  15.2458,   8.1583,   8.6625,  73.5   ,  56.4958,\n",
       "         7.65  ,  29.    ,  12.475 ,   9.    ,   9.5   ,   7.7875,\n",
       "        47.1   ,  34.375 ,  61.175 ,  34.6542,  63.3583,  23.    ,\n",
       "        77.2875,   8.6542,   7.775 ,  24.15  ,  14.4542,  14.4583,\n",
       "       247.5208,   7.1417,   6.975 ,   7.05  ,  14.5   ,  15.0458,\n",
       "        26.2833,   9.2167,  79.2   ,   6.75  ,  11.5   ,  12.525 ,\n",
       "         7.3125,  61.3792,   7.7333,  69.55  ,  16.1   ,  55.    ,\n",
       "        25.4667,  28.7125,   0.    ,  15.05  ,  22.025 ,  26.55  ,\n",
       "         6.4958,  10.4625,  15.85  ,  18.7875,  31.    , 113.275 ,\n",
       "        27.    ,   9.35  ,  13.5   ,   7.55  ,  12.275 ,   7.125 ,\n",
       "        90.    ,  20.2125, 512.3292, 153.4625, 135.6333,  19.5   ,\n",
       "        29.7   ,  77.9583,  20.25  ,  78.85  ,  12.875 ,  30.5   ,\n",
       "        12.35  , 110.8833, 108.9   ,  24.    ,  56.9292,  83.1583,\n",
       "       262.375 ,  26.25  , 164.8667, 134.5   ,   6.2375,  20.525 ,\n",
       "        23.25  , 133.65  ,  66.6   ,  75.25  ,  69.3   , 211.5   ,\n",
       "       227.525 ,   7.7292,  12.    , 120.    ,   7.7958,  18.75  ,\n",
       "         6.8583,  32.5   ,  55.9   ,   8.1125,  19.2583,  27.75  ,\n",
       "        89.1042,  51.8625,  38.5   ,   7.725 ,  13.7917,   7.0458,\n",
       "        12.2875,   9.5875,  91.0792,  15.9   ,  19.9667,  49.5042,\n",
       "       151.55  ,  59.4   ,   7.4958,  34.0208,  93.5   ,  57.9792,\n",
       "       221.7792,  22.3583, 106.425 ,  49.5   ,  71.    ,  13.8625,\n",
       "         7.8292,  39.6   ,  79.65  ,  17.4   ,  51.4792,  26.3875,\n",
       "        30.    ,  40.125 ,  15.    ,  78.2667,  33.    ,  15.55  ,\n",
       "        65.    ,  14.4   ,  15.7417,  32.3208,   7.0542,   8.4333,\n",
       "        25.5875,  39.    ,   9.8417,   9.225 ,  10.1708, 211.3375,\n",
       "        57.    ,  13.4167,  26.2875,   7.7417,   9.4833,   8.3625,\n",
       "        23.45  ,  20.575 ,  30.6958,  25.9292,   8.6833,   7.8875,\n",
       "        37.0042,   6.95  ,   8.3   ,   6.4375,  39.4   ,  14.1083,\n",
       "        13.8583,  50.4958,  52.5542,   5.    ,   9.8458,  10.5167])"
      ]
     },
     "execution_count": 21,
     "metadata": {},
     "output_type": "execute_result"
    }
   ],
   "source": [
    "dftrain[feature_name].unique()"
   ]
  },
  {
   "cell_type": "code",
   "execution_count": 30,
   "metadata": {},
   "outputs": [
    {
     "data": {
      "text/plain": [
       "array(['male', 'female'], dtype=object)"
      ]
     },
     "execution_count": 30,
     "metadata": {},
     "output_type": "execute_result"
    }
   ],
   "source": [
    "dftrain[\"sex\"].unique()"
   ]
  },
  {
   "cell_type": "code",
   "execution_count": 31,
   "metadata": {},
   "outputs": [
    {
     "data": {
      "text/plain": [
       "array(['Southampton', 'Cherbourg', 'Queenstown', 'unknown'], dtype=object)"
      ]
     },
     "execution_count": 31,
     "metadata": {},
     "output_type": "execute_result"
    }
   ],
   "source": [
    "dftrain[\"embark_town\"].unique()"
   ]
  },
  {
   "cell_type": "code",
   "execution_count": 36,
   "metadata": {},
   "outputs": [
    {
     "name": "stdout",
     "output_type": "stream",
     "text": [
      "0.7462121\n",
      "{'accuracy': 0.7462121, 'accuracy_baseline': 0.625, 'auc': 0.8319559, 'auc_precision_recall': 0.7919651, 'average_loss': 0.4880203, 'label/mean': 0.375, 'loss': 0.48105314, 'precision': 0.6509434, 'prediction/mean': 0.4309408, 'recall': 0.6969697, 'global_step': 200}\n"
     ]
    }
   ],
   "source": [
    "def make_input_fn(data_df, label_df, num_epochs=10, shuffle=True, batch_size=32):\n",
    "    def input_function():\n",
    "        ds = tf.data.Dataset.from_tensor_slices((dict(data_df), label_df))\n",
    "        if shuffle:\n",
    "            ds = ds.shuffle(1000)\n",
    "        ds = ds.batch(batch_size).repeat(num_epochs)\n",
    "        return ds\n",
    "    return input_function\n",
    "    \n",
    "train_input_fn = make_input_fn(dftrain, y_train)\n",
    "eval_input_fn = make_input_fn(dfeval, y_eval, num_epochs=1, shuffle=False)\n",
    "\n",
    "linear_est = tf.estimator.LinearClassifier(feature_columns=feature_columns)\n",
    "\n",
    "linear_est.train(train_input_fn)\n",
    "result = linear_est.evaluate(eval_input_fn)\n",
    "\n",
    "clear_output()\n",
    "print(result['accuracy'])\n",
    "print(result)"
   ]
  },
  {
   "cell_type": "code",
   "execution_count": 37,
   "metadata": {},
   "outputs": [
    {
     "name": "stdout",
     "output_type": "stream",
     "text": [
      "INFO:tensorflow:Calling model_fn.\n",
      "INFO:tensorflow:Done calling model_fn.\n",
      "INFO:tensorflow:Graph was finalized.\n",
      "INFO:tensorflow:Restoring parameters from C:\\Users\\HP\\AppData\\Local\\Temp\\tmp9hrw1tz8\\model.ckpt-200\n",
      "INFO:tensorflow:Running local_init_op.\n",
      "INFO:tensorflow:Done running local_init_op.\n",
      "[{'logits': array([-2.255793], dtype=float32), 'logistic': array([0.09485093], dtype=float32), 'probabilities': array([0.90514904, 0.09485094], dtype=float32), 'class_ids': array([0], dtype=int64), 'classes': array([b'0'], dtype=object), 'all_class_ids': array([0, 1]), 'all_classes': array([b'0', b'1'], dtype=object)}, {'logits': array([-0.01674236], dtype=float32), 'logistic': array([0.4958145], dtype=float32), 'probabilities': array([0.5041855, 0.4958145], dtype=float32), 'class_ids': array([0], dtype=int64), 'classes': array([b'0'], dtype=object), 'all_class_ids': array([0, 1]), 'all_classes': array([b'0', b'1'], dtype=object)}, {'logits': array([1.6001277], dtype=float32), 'logistic': array([0.83203626], dtype=float32), 'probabilities': array([0.16796377, 0.83203626], dtype=float32), 'class_ids': array([1], dtype=int64), 'classes': array([b'1'], dtype=object), 'all_class_ids': array([0, 1]), 'all_classes': array([b'0', b'1'], dtype=object)}, {'logits': array([1.0731596], dtype=float32), 'logistic': array([0.7451973], dtype=float32), 'probabilities': array([0.25480267, 0.7451973 ], dtype=float32), 'class_ids': array([1], dtype=int64), 'classes': array([b'1'], dtype=object), 'all_class_ids': array([0, 1]), 'all_classes': array([b'0', b'1'], dtype=object)}, {'logits': array([-0.7267577], dtype=float32), 'logistic': array([0.32590663], dtype=float32), 'probabilities': array([0.67409337, 0.32590663], dtype=float32), 'class_ids': array([0], dtype=int64), 'classes': array([b'0'], dtype=object), 'all_class_ids': array([0, 1]), 'all_classes': array([b'0', b'1'], dtype=object)}, {'logits': array([1.3322054], dtype=float32), 'logistic': array([0.79120517], dtype=float32), 'probabilities': array([0.2087948, 0.7912052], dtype=float32), 'class_ids': array([1], dtype=int64), 'classes': array([b'1'], dtype=object), 'all_class_ids': array([0, 1]), 'all_classes': array([b'0', b'1'], dtype=object)}, {'logits': array([0.42561233], dtype=float32), 'logistic': array([0.60482544], dtype=float32), 'probabilities': array([0.39517456, 0.60482544], dtype=float32), 'class_ids': array([1], dtype=int64), 'classes': array([b'1'], dtype=object), 'all_class_ids': array([0, 1]), 'all_classes': array([b'0', b'1'], dtype=object)}, {'logits': array([-1.9537042], dtype=float32), 'logistic': array([0.12414998], dtype=float32), 'probabilities': array([0.87584996, 0.12415   ], dtype=float32), 'class_ids': array([0], dtype=int64), 'classes': array([b'0'], dtype=object), 'all_class_ids': array([0, 1]), 'all_classes': array([b'0', b'1'], dtype=object)}, {'logits': array([0.6386913], dtype=float32), 'logistic': array([0.65445757], dtype=float32), 'probabilities': array([0.34554243, 0.65445757], dtype=float32), 'class_ids': array([1], dtype=int64), 'classes': array([b'1'], dtype=object), 'all_class_ids': array([0, 1]), 'all_classes': array([b'0', b'1'], dtype=object)}, {'logits': array([1.2441236], dtype=float32), 'logistic': array([0.776281], dtype=float32), 'probabilities': array([0.22371905, 0.776281  ], dtype=float32), 'class_ids': array([1], dtype=int64), 'classes': array([b'1'], dtype=object), 'all_class_ids': array([0, 1]), 'all_classes': array([b'0', b'1'], dtype=object)}, {'logits': array([1.0483984], dtype=float32), 'logistic': array([0.7404672], dtype=float32), 'probabilities': array([0.25953278, 0.7404672 ], dtype=float32), 'class_ids': array([1], dtype=int64), 'classes': array([b'1'], dtype=object), 'all_class_ids': array([0, 1]), 'all_classes': array([b'0', b'1'], dtype=object)}, {'logits': array([-1.9566551], dtype=float32), 'logistic': array([0.12382945], dtype=float32), 'probabilities': array([0.8761705, 0.1238295], dtype=float32), 'class_ids': array([0], dtype=int64), 'classes': array([b'0'], dtype=object), 'all_class_ids': array([0, 1]), 'all_classes': array([b'0', b'1'], dtype=object)}, {'logits': array([1.9639943], dtype=float32), 'logistic': array([0.87696457], dtype=float32), 'probabilities': array([0.12303543, 0.87696457], dtype=float32), 'class_ids': array([1], dtype=int64), 'classes': array([b'1'], dtype=object), 'all_class_ids': array([0, 1]), 'all_classes': array([b'0', b'1'], dtype=object)}, {'logits': array([-0.10396308], dtype=float32), 'logistic': array([0.4740326], dtype=float32), 'probabilities': array([0.52596736, 0.4740326 ], dtype=float32), 'class_ids': array([0], dtype=int64), 'classes': array([b'0'], dtype=object), 'all_class_ids': array([0, 1]), 'all_classes': array([b'0', b'1'], dtype=object)}, {'logits': array([2.0036528], dtype=float32), 'logistic': array([0.88118005], dtype=float32), 'probabilities': array([0.11881994, 0.8811801 ], dtype=float32), 'class_ids': array([1], dtype=int64), 'classes': array([b'1'], dtype=object), 'all_class_ids': array([0, 1]), 'all_classes': array([b'0', b'1'], dtype=object)}, {'logits': array([0.48498678], dtype=float32), 'logistic': array([0.61892474], dtype=float32), 'probabilities': array([0.3810753, 0.6189248], dtype=float32), 'class_ids': array([1], dtype=int64), 'classes': array([b'1'], dtype=object), 'all_class_ids': array([0, 1]), 'all_classes': array([b'0', b'1'], dtype=object)}, {'logits': array([-1.417959], dtype=float32), 'logistic': array([0.19498175], dtype=float32), 'probabilities': array([0.80501825, 0.19498175], dtype=float32), 'class_ids': array([0], dtype=int64), 'classes': array([b'0'], dtype=object), 'all_class_ids': array([0, 1]), 'all_classes': array([b'0', b'1'], dtype=object)}, {'logits': array([1.8281938], dtype=float32), 'logistic': array([0.8615464], dtype=float32), 'probabilities': array([0.13845359, 0.86154646], dtype=float32), 'class_ids': array([1], dtype=int64), 'classes': array([b'1'], dtype=object), 'all_class_ids': array([0, 1]), 'all_classes': array([b'0', b'1'], dtype=object)}, {'logits': array([-0.27212608], dtype=float32), 'logistic': array([0.43238524], dtype=float32), 'probabilities': array([0.5676148 , 0.43238524], dtype=float32), 'class_ids': array([0], dtype=int64), 'classes': array([b'0'], dtype=object), 'all_class_ids': array([0, 1]), 'all_classes': array([b'0', b'1'], dtype=object)}, {'logits': array([-2.1263266], dtype=float32), 'logistic': array([0.10656422], dtype=float32), 'probabilities': array([0.8934358 , 0.10656423], dtype=float32), 'class_ids': array([0], dtype=int64), 'classes': array([b'0'], dtype=object), 'all_class_ids': array([0, 1]), 'all_classes': array([b'0', b'1'], dtype=object)}, {'logits': array([-1.9344376], dtype=float32), 'logistic': array([0.12626022], dtype=float32), 'probabilities': array([0.8737398 , 0.12626022], dtype=float32), 'class_ids': array([0], dtype=int64), 'classes': array([b'0'], dtype=object), 'all_class_ids': array([0, 1]), 'all_classes': array([b'0', b'1'], dtype=object)}, {'logits': array([-2.2405], dtype=float32), 'logistic': array([0.09617209], dtype=float32), 'probabilities': array([0.90382797, 0.09617207], dtype=float32), 'class_ids': array([0], dtype=int64), 'classes': array([b'0'], dtype=object), 'all_class_ids': array([0, 1]), 'all_classes': array([b'0', b'1'], dtype=object)}, {'logits': array([0.89568883], dtype=float32), 'logistic': array([0.71006274], dtype=float32), 'probabilities': array([0.28993726, 0.71006274], dtype=float32), 'class_ids': array([1], dtype=int64), 'classes': array([b'1'], dtype=object), 'all_class_ids': array([0, 1]), 'all_classes': array([b'0', b'1'], dtype=object)}, {'logits': array([-2.322347], dtype=float32), 'logistic': array([0.08928904], dtype=float32), 'probabilities': array([0.910711  , 0.08928904], dtype=float32), 'class_ids': array([0], dtype=int64), 'classes': array([b'0'], dtype=object), 'all_class_ids': array([0, 1]), 'all_classes': array([b'0', b'1'], dtype=object)}, {'logits': array([0.90906554], dtype=float32), 'logistic': array([0.71280885], dtype=float32), 'probabilities': array([0.2871911, 0.7128089], dtype=float32), 'class_ids': array([1], dtype=int64), 'classes': array([b'1'], dtype=object), 'all_class_ids': array([0, 1]), 'all_classes': array([b'0', b'1'], dtype=object)}, {'logits': array([0.49832368], dtype=float32), 'logistic': array([0.6220653], dtype=float32), 'probabilities': array([0.3779347, 0.6220653], dtype=float32), 'class_ids': array([1], dtype=int64), 'classes': array([b'1'], dtype=object), 'all_class_ids': array([0, 1]), 'all_classes': array([b'0', b'1'], dtype=object)}, {'logits': array([-0.81248295], dtype=float32), 'logistic': array([0.30736166], dtype=float32), 'probabilities': array([0.69263834, 0.30736163], dtype=float32), 'class_ids': array([0], dtype=int64), 'classes': array([b'0'], dtype=object), 'all_class_ids': array([0, 1]), 'all_classes': array([b'0', b'1'], dtype=object)}, {'logits': array([-0.16831577], dtype=float32), 'logistic': array([0.45802012], dtype=float32), 'probabilities': array([0.5419799 , 0.45802015], dtype=float32), 'class_ids': array([0], dtype=int64), 'classes': array([b'0'], dtype=object), 'all_class_ids': array([0, 1]), 'all_classes': array([b'0', b'1'], dtype=object)}, {'logits': array([-1.1537902], dtype=float32), 'logistic': array([0.2397975], dtype=float32), 'probabilities': array([0.76020247, 0.23979744], dtype=float32), 'class_ids': array([0], dtype=int64), 'classes': array([b'0'], dtype=object), 'all_class_ids': array([0, 1]), 'all_classes': array([b'0', b'1'], dtype=object)}, {'logits': array([2.0173104], dtype=float32), 'logistic': array([0.8826026], dtype=float32), 'probabilities': array([0.11739739, 0.8826026 ], dtype=float32), 'class_ids': array([1], dtype=int64), 'classes': array([b'1'], dtype=object), 'all_class_ids': array([0, 1]), 'all_classes': array([b'0', b'1'], dtype=object)}, {'logits': array([-1.612544], dtype=float32), 'logistic': array([0.16623572], dtype=float32), 'probabilities': array([0.83376426, 0.16623572], dtype=float32), 'class_ids': array([0], dtype=int64), 'classes': array([b'0'], dtype=object), 'all_class_ids': array([0, 1]), 'all_classes': array([b'0', b'1'], dtype=object)}, {'logits': array([1.7183474], dtype=float32), 'logistic': array([0.8479159], dtype=float32), 'probabilities': array([0.15208416, 0.8479159 ], dtype=float32), 'class_ids': array([1], dtype=int64), 'classes': array([b'1'], dtype=object), 'all_class_ids': array([0, 1]), 'all_classes': array([b'0', b'1'], dtype=object)}, {'logits': array([-1.1690332], dtype=float32), 'logistic': array([0.23702979], dtype=float32), 'probabilities': array([0.7629702 , 0.23702979], dtype=float32), 'class_ids': array([0], dtype=int64), 'classes': array([b'0'], dtype=object), 'all_class_ids': array([0, 1]), 'all_classes': array([b'0', b'1'], dtype=object)}, {'logits': array([0.8938734], dtype=float32), 'logistic': array([0.7096889], dtype=float32), 'probabilities': array([0.29031113, 0.70968884], dtype=float32), 'class_ids': array([1], dtype=int64), 'classes': array([b'1'], dtype=object), 'all_class_ids': array([0, 1]), 'all_classes': array([b'0', b'1'], dtype=object)}, {'logits': array([-0.6964787], dtype=float32), 'logistic': array([0.3325934], dtype=float32), 'probabilities': array([0.66740656, 0.33259338], dtype=float32), 'class_ids': array([0], dtype=int64), 'classes': array([b'0'], dtype=object), 'all_class_ids': array([0, 1]), 'all_classes': array([b'0', b'1'], dtype=object)}, {'logits': array([-2.0861716], dtype=float32), 'logistic': array([0.11044812], dtype=float32), 'probabilities': array([0.8895518 , 0.11044814], dtype=float32), 'class_ids': array([0], dtype=int64), 'classes': array([b'0'], dtype=object), 'all_class_ids': array([0, 1]), 'all_classes': array([b'0', b'1'], dtype=object)}, {'logits': array([-1.3418044], dtype=float32), 'logistic': array([0.20721349], dtype=float32), 'probabilities': array([0.7927865 , 0.20721349], dtype=float32), 'class_ids': array([0], dtype=int64), 'classes': array([b'0'], dtype=object), 'all_class_ids': array([0, 1]), 'all_classes': array([b'0', b'1'], dtype=object)}, {'logits': array([-1.5358555], dtype=float32), 'logistic': array([0.17713854], dtype=float32), 'probabilities': array([0.82286143, 0.17713857], dtype=float32), 'class_ids': array([0], dtype=int64), 'classes': array([b'0'], dtype=object), 'all_class_ids': array([0, 1]), 'all_classes': array([b'0', b'1'], dtype=object)}, {'logits': array([2.8158026], dtype=float32), 'logistic': array([0.9435238], dtype=float32), 'probabilities': array([0.05647619, 0.9435238 ], dtype=float32), 'class_ids': array([1], dtype=int64), 'classes': array([b'1'], dtype=object), 'all_class_ids': array([0, 1]), 'all_classes': array([b'0', b'1'], dtype=object)}, {'logits': array([-2.1479044], dtype=float32), 'logistic': array([0.10452718], dtype=float32), 'probabilities': array([0.89547276, 0.10452721], dtype=float32), 'class_ids': array([0], dtype=int64), 'classes': array([b'0'], dtype=object), 'all_class_ids': array([0, 1]), 'all_classes': array([b'0', b'1'], dtype=object)}, {'logits': array([1.3938757], dtype=float32), 'logistic': array([0.8012103], dtype=float32), 'probabilities': array([0.19878973, 0.8012102 ], dtype=float32), 'class_ids': array([1], dtype=int64), 'classes': array([b'1'], dtype=object), 'all_class_ids': array([0, 1]), 'all_classes': array([b'0', b'1'], dtype=object)}, {'logits': array([-2.059987], dtype=float32), 'logistic': array([0.11304712], dtype=float32), 'probabilities': array([0.8869529 , 0.11304713], dtype=float32), 'class_ids': array([0], dtype=int64), 'classes': array([b'0'], dtype=object), 'all_class_ids': array([0, 1]), 'all_classes': array([b'0', b'1'], dtype=object)}, {'logits': array([0.24348378], dtype=float32), 'logistic': array([0.56057197], dtype=float32), 'probabilities': array([0.439428, 0.560572], dtype=float32), 'class_ids': array([1], dtype=int64), 'classes': array([b'1'], dtype=object), 'all_class_ids': array([0, 1]), 'all_classes': array([b'0', b'1'], dtype=object)}, {'logits': array([-0.72707456], dtype=float32), 'logistic': array([0.32583702], dtype=float32), 'probabilities': array([0.674163  , 0.32583702], dtype=float32), 'class_ids': array([0], dtype=int64), 'classes': array([b'0'], dtype=object), 'all_class_ids': array([0, 1]), 'all_classes': array([b'0', b'1'], dtype=object)}, {'logits': array([-0.7540159], dtype=float32), 'logistic': array([0.3199469], dtype=float32), 'probabilities': array([0.6800531, 0.3199469], dtype=float32), 'class_ids': array([0], dtype=int64), 'classes': array([b'0'], dtype=object), 'all_class_ids': array([0, 1]), 'all_classes': array([b'0', b'1'], dtype=object)}, {'logits': array([1.4311044], dtype=float32), 'logistic': array([0.80707335], dtype=float32), 'probabilities': array([0.19292666, 0.80707335], dtype=float32), 'class_ids': array([1], dtype=int64), 'classes': array([b'1'], dtype=object), 'all_class_ids': array([0, 1]), 'all_classes': array([b'0', b'1'], dtype=object)}, {'logits': array([-1.9551796], dtype=float32), 'logistic': array([0.12398964], dtype=float32), 'probabilities': array([0.8760103 , 0.12398966], dtype=float32), 'class_ids': array([0], dtype=int64), 'classes': array([b'0'], dtype=object), 'all_class_ids': array([0, 1]), 'all_classes': array([b'0', b'1'], dtype=object)}, {'logits': array([-0.23583502], dtype=float32), 'logistic': array([0.441313], dtype=float32), 'probabilities': array([0.558687  , 0.44131297], dtype=float32), 'class_ids': array([0], dtype=int64), 'classes': array([b'0'], dtype=object), 'all_class_ids': array([0, 1]), 'all_classes': array([b'0', b'1'], dtype=object)}, {'logits': array([-0.25715435], dtype=float32), 'logistic': array([0.43606338], dtype=float32), 'probabilities': array([0.56393665, 0.43606338], dtype=float32), 'class_ids': array([0], dtype=int64), 'classes': array([b'0'], dtype=object), 'all_class_ids': array([0, 1]), 'all_classes': array([b'0', b'1'], dtype=object)}, {'logits': array([-0.00570441], dtype=float32), 'logistic': array([0.4985739], dtype=float32), 'probabilities': array([0.5014261, 0.4985739], dtype=float32), 'class_ids': array([0], dtype=int64), 'classes': array([b'0'], dtype=object), 'all_class_ids': array([0, 1]), 'all_classes': array([b'0', b'1'], dtype=object)}, {'logits': array([-1.9104255], dtype=float32), 'logistic': array([0.12893304], dtype=float32), 'probabilities': array([0.8710669 , 0.12893306], dtype=float32), 'class_ids': array([0], dtype=int64), 'classes': array([b'0'], dtype=object), 'all_class_ids': array([0, 1]), 'all_classes': array([b'0', b'1'], dtype=object)}, {'logits': array([-1.0395664], dtype=float32), 'logistic': array([0.2612337], dtype=float32), 'probabilities': array([0.7387663 , 0.26123366], dtype=float32), 'class_ids': array([0], dtype=int64), 'classes': array([b'0'], dtype=object), 'all_class_ids': array([0, 1]), 'all_classes': array([b'0', b'1'], dtype=object)}, {'logits': array([-2.5256333], dtype=float32), 'logistic': array([0.07408062], dtype=float32), 'probabilities': array([0.92591935, 0.07408061], dtype=float32), 'class_ids': array([0], dtype=int64), 'classes': array([b'0'], dtype=object), 'all_class_ids': array([0, 1]), 'all_classes': array([b'0', b'1'], dtype=object)}, {'logits': array([-1.8901843], dtype=float32), 'logistic': array([0.13122344], dtype=float32), 'probabilities': array([0.8687765 , 0.13122346], dtype=float32), 'class_ids': array([0], dtype=int64), 'classes': array([b'0'], dtype=object), 'all_class_ids': array([0, 1]), 'all_classes': array([b'0', b'1'], dtype=object)}, {'logits': array([-1.888971], dtype=float32), 'logistic': array([0.13136181], dtype=float32), 'probabilities': array([0.86863816, 0.13136186], dtype=float32), 'class_ids': array([0], dtype=int64), 'classes': array([b'0'], dtype=object), 'all_class_ids': array([0, 1]), 'all_classes': array([b'0', b'1'], dtype=object)}, {'logits': array([-2.0302415], dtype=float32), 'logistic': array([0.11606413], dtype=float32), 'probabilities': array([0.88393587, 0.11606414], dtype=float32), 'class_ids': array([0], dtype=int64), 'classes': array([b'0'], dtype=object), 'all_class_ids': array([0, 1]), 'all_classes': array([b'0', b'1'], dtype=object)}, {'logits': array([-1.2769221], dtype=float32), 'logistic': array([0.21807462], dtype=float32), 'probabilities': array([0.7819254, 0.2180746], dtype=float32), 'class_ids': array([0], dtype=int64), 'classes': array([b'0'], dtype=object), 'all_class_ids': array([0, 1]), 'all_classes': array([b'0', b'1'], dtype=object)}, {'logits': array([3.873646], dtype=float32), 'logistic': array([0.9796406], dtype=float32), 'probabilities': array([0.02035934, 0.97964066], dtype=float32), 'class_ids': array([1], dtype=int64), 'classes': array([b'1'], dtype=object), 'all_class_ids': array([0, 1]), 'all_classes': array([b'0', b'1'], dtype=object)}, {'logits': array([-1.2121887], dtype=float32), 'logistic': array([0.22931403], dtype=float32), 'probabilities': array([0.770686, 0.229314], dtype=float32), 'class_ids': array([0], dtype=int64), 'classes': array([b'0'], dtype=object), 'all_class_ids': array([0, 1]), 'all_classes': array([b'0', b'1'], dtype=object)}, {'logits': array([-2.106569], dtype=float32), 'logistic': array([0.10845998], dtype=float32), 'probabilities': array([0.89154005, 0.10845999], dtype=float32), 'class_ids': array([0], dtype=int64), 'classes': array([b'0'], dtype=object), 'all_class_ids': array([0, 1]), 'all_classes': array([b'0', b'1'], dtype=object)}, {'logits': array([-0.10734314], dtype=float32), 'logistic': array([0.47318995], dtype=float32), 'probabilities': array([0.52681005, 0.47318995], dtype=float32), 'class_ids': array([0], dtype=int64), 'classes': array([b'0'], dtype=object), 'all_class_ids': array([0, 1]), 'all_classes': array([b'0', b'1'], dtype=object)}, {'logits': array([0.43491828], dtype=float32), 'logistic': array([0.6070475], dtype=float32), 'probabilities': array([0.39295247, 0.6070475 ], dtype=float32), 'class_ids': array([1], dtype=int64), 'classes': array([b'1'], dtype=object), 'all_class_ids': array([0, 1]), 'all_classes': array([b'0', b'1'], dtype=object)}, {'logits': array([-1.1769654], dtype=float32), 'logistic': array([0.23559827], dtype=float32), 'probabilities': array([0.76440173, 0.23559828], dtype=float32), 'class_ids': array([0], dtype=int64), 'classes': array([b'0'], dtype=object), 'all_class_ids': array([0, 1]), 'all_classes': array([b'0', b'1'], dtype=object)}, {'logits': array([1.6958356], dtype=float32), 'logistic': array([0.8449901], dtype=float32), 'probabilities': array([0.15500993, 0.84499   ], dtype=float32), 'class_ids': array([1], dtype=int64), 'classes': array([b'1'], dtype=object), 'all_class_ids': array([0, 1]), 'all_classes': array([b'0', b'1'], dtype=object)}, {'logits': array([-1.2848542], dtype=float32), 'logistic': array([0.21672508], dtype=float32), 'probabilities': array([0.7832749 , 0.21672505], dtype=float32), 'class_ids': array([0], dtype=int64), 'classes': array([b'0'], dtype=object), 'all_class_ids': array([0, 1]), 'all_classes': array([b'0', b'1'], dtype=object)}, {'logits': array([0.8108533], dtype=float32), 'logistic': array([0.69229126], dtype=float32), 'probabilities': array([0.3077087, 0.6922913], dtype=float32), 'class_ids': array([1], dtype=int64), 'classes': array([b'1'], dtype=object), 'all_class_ids': array([0, 1]), 'all_classes': array([b'0', b'1'], dtype=object)}, {'logits': array([0.09227454], dtype=float32), 'logistic': array([0.5230523], dtype=float32), 'probabilities': array([0.4769477, 0.5230523], dtype=float32), 'class_ids': array([1], dtype=int64), 'classes': array([b'1'], dtype=object), 'all_class_ids': array([0, 1]), 'all_classes': array([b'0', b'1'], dtype=object)}, {'logits': array([-1.6752123], dtype=float32), 'logistic': array([0.15773049], dtype=float32), 'probabilities': array([0.8422695 , 0.15773049], dtype=float32), 'class_ids': array([0], dtype=int64), 'classes': array([b'0'], dtype=object), 'all_class_ids': array([0, 1]), 'all_classes': array([b'0', b'1'], dtype=object)}, {'logits': array([-1.3402982], dtype=float32), 'logistic': array([0.20746103], dtype=float32), 'probabilities': array([0.79253894, 0.20746101], dtype=float32), 'class_ids': array([0], dtype=int64), 'classes': array([b'0'], dtype=object), 'all_class_ids': array([0, 1]), 'all_classes': array([b'0', b'1'], dtype=object)}, {'logits': array([0.9021702], dtype=float32), 'logistic': array([0.71139526], dtype=float32), 'probabilities': array([0.28860474, 0.71139526], dtype=float32), 'class_ids': array([1], dtype=int64), 'classes': array([b'1'], dtype=object), 'all_class_ids': array([0, 1]), 'all_classes': array([b'0', b'1'], dtype=object)}, {'logits': array([3.3946214], dtype=float32), 'logistic': array([0.967536], dtype=float32), 'probabilities': array([0.03246399, 0.96753603], dtype=float32), 'class_ids': array([1], dtype=int64), 'classes': array([b'1'], dtype=object), 'all_class_ids': array([0, 1]), 'all_classes': array([b'0', b'1'], dtype=object)}, {'logits': array([0.41715956], dtype=float32), 'logistic': array([0.60280335], dtype=float32), 'probabilities': array([0.39719662, 0.60280335], dtype=float32), 'class_ids': array([1], dtype=int64), 'classes': array([b'1'], dtype=object), 'all_class_ids': array([0, 1]), 'all_classes': array([b'0', b'1'], dtype=object)}, {'logits': array([-2.6040945], dtype=float32), 'logistic': array([0.06887534], dtype=float32), 'probabilities': array([0.9311246 , 0.06887537], dtype=float32), 'class_ids': array([0], dtype=int64), 'classes': array([b'0'], dtype=object), 'all_class_ids': array([0, 1]), 'all_classes': array([b'0', b'1'], dtype=object)}, {'logits': array([-1.9105488], dtype=float32), 'logistic': array([0.12891921], dtype=float32), 'probabilities': array([0.87108076, 0.1289192 ], dtype=float32), 'class_ids': array([0], dtype=int64), 'classes': array([b'0'], dtype=object), 'all_class_ids': array([0, 1]), 'all_classes': array([b'0', b'1'], dtype=object)}, {'logits': array([-1.6034938], dtype=float32), 'logistic': array([0.16749388], dtype=float32), 'probabilities': array([0.8325061 , 0.16749388], dtype=float32), 'class_ids': array([0], dtype=int64), 'classes': array([b'0'], dtype=object), 'all_class_ids': array([0, 1]), 'all_classes': array([b'0', b'1'], dtype=object)}, {'logits': array([-2.1307883], dtype=float32), 'logistic': array([0.10614023], dtype=float32), 'probabilities': array([0.8938598 , 0.10614017], dtype=float32), 'class_ids': array([0], dtype=int64), 'classes': array([b'0'], dtype=object), 'all_class_ids': array([0, 1]), 'all_classes': array([b'0', b'1'], dtype=object)}, {'logits': array([-1.9771022], dtype=float32), 'logistic': array([0.12162808], dtype=float32), 'probabilities': array([0.8783719 , 0.12162808], dtype=float32), 'class_ids': array([0], dtype=int64), 'classes': array([b'0'], dtype=object), 'all_class_ids': array([0, 1]), 'all_classes': array([b'0', b'1'], dtype=object)}, {'logits': array([-1.5358555], dtype=float32), 'logistic': array([0.17713854], dtype=float32), 'probabilities': array([0.82286143, 0.17713857], dtype=float32), 'class_ids': array([0], dtype=int64), 'classes': array([b'0'], dtype=object), 'all_class_ids': array([0, 1]), 'all_classes': array([b'0', b'1'], dtype=object)}, {'logits': array([1.1778653], dtype=float32), 'logistic': array([0.76456374], dtype=float32), 'probabilities': array([0.23543625, 0.7645638 ], dtype=float32), 'class_ids': array([1], dtype=int64), 'classes': array([b'1'], dtype=object), 'all_class_ids': array([0, 1]), 'all_classes': array([b'0', b'1'], dtype=object)}, {'logits': array([4.2540684], dtype=float32), 'logistic': array([0.98599267], dtype=float32), 'probabilities': array([0.01400733, 0.9859927 ], dtype=float32), 'class_ids': array([1], dtype=int64), 'classes': array([b'1'], dtype=object), 'all_class_ids': array([0, 1]), 'all_classes': array([b'0', b'1'], dtype=object)}, {'logits': array([0.8451204], dtype=float32), 'logistic': array([0.6995425], dtype=float32), 'probabilities': array([0.30045748, 0.6995426 ], dtype=float32), 'class_ids': array([1], dtype=int64), 'classes': array([b'1'], dtype=object), 'all_class_ids': array([0, 1]), 'all_classes': array([b'0', b'1'], dtype=object)}, {'logits': array([-0.10396308], dtype=float32), 'logistic': array([0.4740326], dtype=float32), 'probabilities': array([0.52596736, 0.4740326 ], dtype=float32), 'class_ids': array([0], dtype=int64), 'classes': array([b'0'], dtype=object), 'all_class_ids': array([0, 1]), 'all_classes': array([b'0', b'1'], dtype=object)}, {'logits': array([-1.4154235], dtype=float32), 'logistic': array([0.19538003], dtype=float32), 'probabilities': array([0.80461997, 0.19538003], dtype=float32), 'class_ids': array([0], dtype=int64), 'classes': array([b'0'], dtype=object), 'all_class_ids': array([0, 1]), 'all_classes': array([b'0', b'1'], dtype=object)}, {'logits': array([3.95723], dtype=float32), 'logistic': array([0.98124254], dtype=float32), 'probabilities': array([0.01875742, 0.98124254], dtype=float32), 'class_ids': array([1], dtype=int64), 'classes': array([b'1'], dtype=object), 'all_class_ids': array([0, 1]), 'all_classes': array([b'0', b'1'], dtype=object)}, {'logits': array([-2.0666564], dtype=float32), 'logistic': array([0.11238012], dtype=float32), 'probabilities': array([0.8876199 , 0.11238014], dtype=float32), 'class_ids': array([0], dtype=int64), 'classes': array([b'0'], dtype=object), 'all_class_ids': array([0, 1]), 'all_classes': array([b'0', b'1'], dtype=object)}, {'logits': array([1.1264195], dtype=float32), 'logistic': array([0.75517756], dtype=float32), 'probabilities': array([0.24482247, 0.75517756], dtype=float32), 'class_ids': array([1], dtype=int64), 'classes': array([b'1'], dtype=object), 'all_class_ids': array([0, 1]), 'all_classes': array([b'0', b'1'], dtype=object)}, {'logits': array([0.7902103], dtype=float32), 'logistic': array([0.68787646], dtype=float32), 'probabilities': array([0.3121235 , 0.68787646], dtype=float32), 'class_ids': array([1], dtype=int64), 'classes': array([b'1'], dtype=object), 'all_class_ids': array([0, 1]), 'all_classes': array([b'0', b'1'], dtype=object)}, {'logits': array([-1.7829851], dtype=float32), 'logistic': array([0.14393488], dtype=float32), 'probabilities': array([0.85606503, 0.14393492], dtype=float32), 'class_ids': array([0], dtype=int64), 'classes': array([b'0'], dtype=object), 'all_class_ids': array([0, 1]), 'all_classes': array([b'0', b'1'], dtype=object)}, {'logits': array([1.8720937], dtype=float32), 'logistic': array([0.8667003], dtype=float32), 'probabilities': array([0.13329966, 0.86670035], dtype=float32), 'class_ids': array([1], dtype=int64), 'classes': array([b'1'], dtype=object), 'all_class_ids': array([0, 1]), 'all_classes': array([b'0', b'1'], dtype=object)}, {'logits': array([2.0842013], dtype=float32), 'logistic': array([0.88935816], dtype=float32), 'probabilities': array([0.11064187, 0.8893581 ], dtype=float32), 'class_ids': array([1], dtype=int64), 'classes': array([b'1'], dtype=object), 'all_class_ids': array([0, 1]), 'all_classes': array([b'0', b'1'], dtype=object)}, {'logits': array([3.8389885], dtype=float32), 'logistic': array([0.9789378], dtype=float32), 'probabilities': array([0.02106219, 0.9789378 ], dtype=float32), 'class_ids': array([1], dtype=int64), 'classes': array([b'1'], dtype=object), 'all_class_ids': array([0, 1]), 'all_classes': array([b'0', b'1'], dtype=object)}, {'logits': array([-0.96124685], dtype=float32), 'logistic': array([0.2766286], dtype=float32), 'probabilities': array([0.7233714, 0.2766286], dtype=float32), 'class_ids': array([0], dtype=int64), 'classes': array([b'0'], dtype=object), 'all_class_ids': array([0, 1]), 'all_classes': array([b'0', b'1'], dtype=object)}, {'logits': array([-2.172268], dtype=float32), 'logistic': array([0.10226864], dtype=float32), 'probabilities': array([0.8977313 , 0.10226862], dtype=float32), 'class_ids': array([0], dtype=int64), 'classes': array([b'0'], dtype=object), 'all_class_ids': array([0, 1]), 'all_classes': array([b'0', b'1'], dtype=object)}, {'logits': array([4.695249], dtype=float32), 'logistic': array([0.99094415], dtype=float32), 'probabilities': array([0.00905583, 0.99094415], dtype=float32), 'class_ids': array([1], dtype=int64), 'classes': array([b'1'], dtype=object), 'all_class_ids': array([0, 1]), 'all_classes': array([b'0', b'1'], dtype=object)}, {'logits': array([-0.02215672], dtype=float32), 'logistic': array([0.49446106], dtype=float32), 'probabilities': array([0.50553894, 0.49446103], dtype=float32), 'class_ids': array([0], dtype=int64), 'classes': array([b'0'], dtype=object), 'all_class_ids': array([0, 1]), 'all_classes': array([b'0', b'1'], dtype=object)}, {'logits': array([3.826274], dtype=float32), 'logistic': array([0.97867405], dtype=float32), 'probabilities': array([0.02132595, 0.97867405], dtype=float32), 'class_ids': array([1], dtype=int64), 'classes': array([b'1'], dtype=object), 'all_class_ids': array([0, 1]), 'all_classes': array([b'0', b'1'], dtype=object)}, {'logits': array([-1.4098998], dtype=float32), 'logistic': array([0.19624984], dtype=float32), 'probabilities': array([0.8037501 , 0.19624984], dtype=float32), 'class_ids': array([0], dtype=int64), 'classes': array([b'0'], dtype=object), 'all_class_ids': array([0, 1]), 'all_classes': array([b'0', b'1'], dtype=object)}, {'logits': array([-2.399608], dtype=float32), 'logistic': array([0.0832026], dtype=float32), 'probabilities': array([0.9167974, 0.0832026], dtype=float32), 'class_ids': array([0], dtype=int64), 'classes': array([b'0'], dtype=object), 'all_class_ids': array([0, 1]), 'all_classes': array([b'0', b'1'], dtype=object)}, {'logits': array([-1.9829901], dtype=float32), 'logistic': array([0.12100044], dtype=float32), 'probabilities': array([0.87899953, 0.12100044], dtype=float32), 'class_ids': array([0], dtype=int64), 'classes': array([b'0'], dtype=object), 'all_class_ids': array([0, 1]), 'all_classes': array([b'0', b'1'], dtype=object)}, {'logits': array([-0.50690967], dtype=float32), 'logistic': array([0.37591827], dtype=float32), 'probabilities': array([0.62408173, 0.37591824], dtype=float32), 'class_ids': array([0], dtype=int64), 'classes': array([b'0'], dtype=object), 'all_class_ids': array([0, 1]), 'all_classes': array([b'0', b'1'], dtype=object)}, {'logits': array([-2.1573474], dtype=float32), 'logistic': array([0.10364664], dtype=float32), 'probabilities': array([0.89635336, 0.10364662], dtype=float32), 'class_ids': array([0], dtype=int64), 'classes': array([b'0'], dtype=object), 'all_class_ids': array([0, 1]), 'all_classes': array([b'0', b'1'], dtype=object)}, {'logits': array([1.2193012], dtype=float32), 'logistic': array([0.7719406], dtype=float32), 'probabilities': array([0.22805946, 0.7719406 ], dtype=float32), 'class_ids': array([1], dtype=int64), 'classes': array([b'1'], dtype=object), 'all_class_ids': array([0, 1]), 'all_classes': array([b'0', b'1'], dtype=object)}, {'logits': array([1.2993011], dtype=float32), 'logistic': array([0.78571737], dtype=float32), 'probabilities': array([0.21428265, 0.78571737], dtype=float32), 'class_ids': array([1], dtype=int64), 'classes': array([b'1'], dtype=object), 'all_class_ids': array([0, 1]), 'all_classes': array([b'0', b'1'], dtype=object)}, {'logits': array([0.53350127], dtype=float32), 'logistic': array([0.6302993], dtype=float32), 'probabilities': array([0.36970064, 0.6302993 ], dtype=float32), 'class_ids': array([1], dtype=int64), 'classes': array([b'1'], dtype=object), 'all_class_ids': array([0, 1]), 'all_classes': array([b'0', b'1'], dtype=object)}, {'logits': array([0.8693895], dtype=float32), 'logistic': array([0.70461863], dtype=float32), 'probabilities': array([0.29538137, 0.7046187 ], dtype=float32), 'class_ids': array([1], dtype=int64), 'classes': array([b'1'], dtype=object), 'all_class_ids': array([0, 1]), 'all_classes': array([b'0', b'1'], dtype=object)}, {'logits': array([-1.377871], dtype=float32), 'logistic': array([0.2013511], dtype=float32), 'probabilities': array([0.79864883, 0.20135112], dtype=float32), 'class_ids': array([0], dtype=int64), 'classes': array([b'0'], dtype=object), 'all_class_ids': array([0, 1]), 'all_classes': array([b'0', b'1'], dtype=object)}, {'logits': array([1.5122017], dtype=float32), 'logistic': array([0.8193873], dtype=float32), 'probabilities': array([0.18061274, 0.81938726], dtype=float32), 'class_ids': array([1], dtype=int64), 'classes': array([b'1'], dtype=object), 'all_class_ids': array([0, 1]), 'all_classes': array([b'0', b'1'], dtype=object)}, {'logits': array([2.2499096], dtype=float32), 'logistic': array([0.90464276], dtype=float32), 'probabilities': array([0.09535725, 0.9046427 ], dtype=float32), 'class_ids': array([1], dtype=int64), 'classes': array([b'1'], dtype=object), 'all_class_ids': array([0, 1]), 'all_classes': array([b'0', b'1'], dtype=object)}, {'logits': array([1.4477258], dtype=float32), 'logistic': array([0.80964816], dtype=float32), 'probabilities': array([0.19035183, 0.8096482 ], dtype=float32), 'class_ids': array([1], dtype=int64), 'classes': array([b'1'], dtype=object), 'all_class_ids': array([0, 1]), 'all_classes': array([b'0', b'1'], dtype=object)}, {'logits': array([-2.550126], dtype=float32), 'logistic': array([0.07241797], dtype=float32), 'probabilities': array([0.92758197, 0.07241801], dtype=float32), 'class_ids': array([0], dtype=int64), 'classes': array([b'0'], dtype=object), 'all_class_ids': array([0, 1]), 'all_classes': array([b'0', b'1'], dtype=object)}, {'logits': array([1.6162168], dtype=float32), 'logistic': array([0.83427274], dtype=float32), 'probabilities': array([0.16572729, 0.83427274], dtype=float32), 'class_ids': array([1], dtype=int64), 'classes': array([b'1'], dtype=object), 'all_class_ids': array([0, 1]), 'all_classes': array([b'0', b'1'], dtype=object)}, {'logits': array([0.8874877], dtype=float32), 'logistic': array([0.7083714], dtype=float32), 'probabilities': array([0.29162854, 0.7083714 ], dtype=float32), 'class_ids': array([1], dtype=int64), 'classes': array([b'1'], dtype=object), 'all_class_ids': array([0, 1]), 'all_classes': array([b'0', b'1'], dtype=object)}, {'logits': array([0.92921823], dtype=float32), 'logistic': array([0.7169167], dtype=float32), 'probabilities': array([0.28308335, 0.7169166 ], dtype=float32), 'class_ids': array([1], dtype=int64), 'classes': array([b'1'], dtype=object), 'all_class_ids': array([0, 1]), 'all_classes': array([b'0', b'1'], dtype=object)}, {'logits': array([-2.604579], dtype=float32), 'logistic': array([0.06884429], dtype=float32), 'probabilities': array([0.9311556, 0.0688443], dtype=float32), 'class_ids': array([0], dtype=int64), 'classes': array([b'0'], dtype=object), 'all_class_ids': array([0, 1]), 'all_classes': array([b'0', b'1'], dtype=object)}, {'logits': array([3.1572342], dtype=float32), 'logistic': array([0.9591928], dtype=float32), 'probabilities': array([0.04080718, 0.95919275], dtype=float32), 'class_ids': array([1], dtype=int64), 'classes': array([b'1'], dtype=object), 'all_class_ids': array([0, 1]), 'all_classes': array([b'0', b'1'], dtype=object)}, {'logits': array([0.8153392], dtype=float32), 'logistic': array([0.69324607], dtype=float32), 'probabilities': array([0.30675393, 0.6932461 ], dtype=float32), 'class_ids': array([1], dtype=int64), 'classes': array([b'1'], dtype=object), 'all_class_ids': array([0, 1]), 'all_classes': array([b'0', b'1'], dtype=object)}, {'logits': array([-2.1283922], dtype=float32), 'logistic': array([0.10636771], dtype=float32), 'probabilities': array([0.89363223, 0.10636771], dtype=float32), 'class_ids': array([0], dtype=int64), 'classes': array([b'0'], dtype=object), 'all_class_ids': array([0, 1]), 'all_classes': array([b'0', b'1'], dtype=object)}, {'logits': array([0.88706446], dtype=float32), 'logistic': array([0.708284], dtype=float32), 'probabilities': array([0.29171598, 0.70828396], dtype=float32), 'class_ids': array([1], dtype=int64), 'classes': array([b'1'], dtype=object), 'all_class_ids': array([0, 1]), 'all_classes': array([b'0', b'1'], dtype=object)}, {'logits': array([-2.114192], dtype=float32), 'logistic': array([0.10772502], dtype=float32), 'probabilities': array([0.892275  , 0.10772508], dtype=float32), 'class_ids': array([0], dtype=int64), 'classes': array([b'0'], dtype=object), 'all_class_ids': array([0, 1]), 'all_classes': array([b'0', b'1'], dtype=object)}, {'logits': array([1.7399253], dtype=float32), 'logistic': array([0.8506776], dtype=float32), 'probabilities': array([0.14932242, 0.85067755], dtype=float32), 'class_ids': array([1], dtype=int64), 'classes': array([b'1'], dtype=object), 'all_class_ids': array([0, 1]), 'all_classes': array([b'0', b'1'], dtype=object)}, {'logits': array([0.4743713], dtype=float32), 'logistic': array([0.6164178], dtype=float32), 'probabilities': array([0.38358214, 0.6164179 ], dtype=float32), 'class_ids': array([1], dtype=int64), 'classes': array([b'1'], dtype=object), 'all_class_ids': array([0, 1]), 'all_classes': array([b'0', b'1'], dtype=object)}, {'logits': array([-2.0771363], dtype=float32), 'logistic': array([0.11133897], dtype=float32), 'probabilities': array([0.888661, 0.111339], dtype=float32), 'class_ids': array([0], dtype=int64), 'classes': array([b'0'], dtype=object), 'all_class_ids': array([0, 1]), 'all_classes': array([b'0', b'1'], dtype=object)}, {'logits': array([0.37574625], dtype=float32), 'logistic': array([0.59284675], dtype=float32), 'probabilities': array([0.40715325, 0.59284675], dtype=float32), 'class_ids': array([1], dtype=int64), 'classes': array([b'1'], dtype=object), 'all_class_ids': array([0, 1]), 'all_classes': array([b'0', b'1'], dtype=object)}, {'logits': array([1.8977644], dtype=float32), 'logistic': array([0.8696383], dtype=float32), 'probabilities': array([0.1303617, 0.8696383], dtype=float32), 'class_ids': array([1], dtype=int64), 'classes': array([b'1'], dtype=object), 'all_class_ids': array([0, 1]), 'all_classes': array([b'0', b'1'], dtype=object)}, {'logits': array([-1.9979588], dtype=float32), 'logistic': array([0.1194174], dtype=float32), 'probabilities': array([0.88058263, 0.11941741], dtype=float32), 'class_ids': array([0], dtype=int64), 'classes': array([b'0'], dtype=object), 'all_class_ids': array([0, 1]), 'all_classes': array([b'0', b'1'], dtype=object)}, {'logits': array([-2.1047487], dtype=float32), 'logistic': array([0.10863611], dtype=float32), 'probabilities': array([0.8913639 , 0.10863613], dtype=float32), 'class_ids': array([0], dtype=int64), 'classes': array([b'0'], dtype=object), 'all_class_ids': array([0, 1]), 'all_classes': array([b'0', b'1'], dtype=object)}, {'logits': array([1.1161269], dtype=float32), 'logistic': array([0.7532696], dtype=float32), 'probabilities': array([0.2467304 , 0.75326955], dtype=float32), 'class_ids': array([1], dtype=int64), 'classes': array([b'1'], dtype=object), 'all_class_ids': array([0, 1]), 'all_classes': array([b'0', b'1'], dtype=object)}, {'logits': array([-1.8057162], dtype=float32), 'logistic': array([0.14115664], dtype=float32), 'probabilities': array([0.8588433 , 0.14115666], dtype=float32), 'class_ids': array([0], dtype=int64), 'classes': array([b'0'], dtype=object), 'all_class_ids': array([0, 1]), 'all_classes': array([b'0', b'1'], dtype=object)}, {'logits': array([-1.6653222], dtype=float32), 'logistic': array([0.15904886], dtype=float32), 'probabilities': array([0.84095114, 0.15904884], dtype=float32), 'class_ids': array([0], dtype=int64), 'classes': array([b'0'], dtype=object), 'all_class_ids': array([0, 1]), 'all_classes': array([b'0', b'1'], dtype=object)}, {'logits': array([-1.3872184], dtype=float32), 'logistic': array([0.1998522], dtype=float32), 'probabilities': array([0.80014783, 0.19985221], dtype=float32), 'class_ids': array([0], dtype=int64), 'classes': array([b'0'], dtype=object), 'all_class_ids': array([0, 1]), 'all_classes': array([b'0', b'1'], dtype=object)}, {'logits': array([-2.3132968], dtype=float32), 'logistic': array([0.09002769], dtype=float32), 'probabilities': array([0.9099723, 0.0900277], dtype=float32), 'class_ids': array([0], dtype=int64), 'classes': array([b'0'], dtype=object), 'all_class_ids': array([0, 1]), 'all_classes': array([b'0', b'1'], dtype=object)}, {'logits': array([0.8999322], dtype=float32), 'logistic': array([0.7109356], dtype=float32), 'probabilities': array([0.2890644 , 0.71093553], dtype=float32), 'class_ids': array([1], dtype=int64), 'classes': array([b'1'], dtype=object), 'all_class_ids': array([0, 1]), 'all_classes': array([b'0', b'1'], dtype=object)}, {'logits': array([-1.9815286], dtype=float32), 'logistic': array([0.12115592], dtype=float32), 'probabilities': array([0.87884396, 0.12115598], dtype=float32), 'class_ids': array([0], dtype=int64), 'classes': array([b'0'], dtype=object), 'all_class_ids': array([0, 1]), 'all_classes': array([b'0', b'1'], dtype=object)}, {'logits': array([-2.5794601], dtype=float32), 'logistic': array([0.07047206], dtype=float32), 'probabilities': array([0.9295279 , 0.07047208], dtype=float32), 'class_ids': array([0], dtype=int64), 'classes': array([b'0'], dtype=object), 'all_class_ids': array([0, 1]), 'all_classes': array([b'0', b'1'], dtype=object)}, {'logits': array([-2.1479044], dtype=float32), 'logistic': array([0.10452718], dtype=float32), 'probabilities': array([0.89547276, 0.10452721], dtype=float32), 'class_ids': array([0], dtype=int64), 'classes': array([b'0'], dtype=object), 'all_class_ids': array([0, 1]), 'all_classes': array([b'0', b'1'], dtype=object)}, {'logits': array([-1.9631473], dtype=float32), 'logistic': array([0.1231268], dtype=float32), 'probabilities': array([0.87687314, 0.12312684], dtype=float32), 'class_ids': array([0], dtype=int64), 'classes': array([b'0'], dtype=object), 'all_class_ids': array([0, 1]), 'all_classes': array([b'0', b'1'], dtype=object)}, {'logits': array([-1.142628], dtype=float32), 'logistic': array([0.24183822], dtype=float32), 'probabilities': array([0.75816184, 0.2418382 ], dtype=float32), 'class_ids': array([0], dtype=int64), 'classes': array([b'0'], dtype=object), 'all_class_ids': array([0, 1]), 'all_classes': array([b'0', b'1'], dtype=object)}, {'logits': array([-1.4271914], dtype=float32), 'logistic': array([0.19353667], dtype=float32), 'probabilities': array([0.8064633 , 0.19353667], dtype=float32), 'class_ids': array([0], dtype=int64), 'classes': array([b'0'], dtype=object), 'all_class_ids': array([0, 1]), 'all_classes': array([b'0', b'1'], dtype=object)}, {'logits': array([3.3883727], dtype=float32), 'logistic': array([0.96733916], dtype=float32), 'probabilities': array([0.03266083, 0.9673392 ], dtype=float32), 'class_ids': array([1], dtype=int64), 'classes': array([b'1'], dtype=object), 'all_class_ids': array([0, 1]), 'all_classes': array([b'0', b'1'], dtype=object)}, {'logits': array([-2.0215309], dtype=float32), 'logistic': array([0.11696082], dtype=float32), 'probabilities': array([0.88303924, 0.11696079], dtype=float32), 'class_ids': array([0], dtype=int64), 'classes': array([b'0'], dtype=object), 'all_class_ids': array([0, 1]), 'all_classes': array([b'0', b'1'], dtype=object)}, {'logits': array([-2.0214381], dtype=float32), 'logistic': array([0.11697033], dtype=float32), 'probabilities': array([0.8830296 , 0.11697036], dtype=float32), 'class_ids': array([0], dtype=int64), 'classes': array([b'0'], dtype=object), 'all_class_ids': array([0, 1]), 'all_classes': array([b'0', b'1'], dtype=object)}, {'logits': array([1.0469725], dtype=float32), 'logistic': array([0.7401931], dtype=float32), 'probabilities': array([0.2598069, 0.7401931], dtype=float32), 'class_ids': array([1], dtype=int64), 'classes': array([b'1'], dtype=object), 'all_class_ids': array([0, 1]), 'all_classes': array([b'0', b'1'], dtype=object)}, {'logits': array([3.69671], dtype=float32), 'logistic': array([0.9757954], dtype=float32), 'probabilities': array([0.0242046 , 0.97579545], dtype=float32), 'class_ids': array([1], dtype=int64), 'classes': array([b'1'], dtype=object), 'all_class_ids': array([0, 1]), 'all_classes': array([b'0', b'1'], dtype=object)}, {'logits': array([-1.9338862], dtype=float32), 'logistic': array([0.12632102], dtype=float32), 'probabilities': array([0.8736789 , 0.12632106], dtype=float32), 'class_ids': array([0], dtype=int64), 'classes': array([b'0'], dtype=object), 'all_class_ids': array([0, 1]), 'all_classes': array([b'0', b'1'], dtype=object)}, {'logits': array([-1.8272938], dtype=float32), 'logistic': array([0.13856098], dtype=float32), 'probabilities': array([0.86143905, 0.13856098], dtype=float32), 'class_ids': array([0], dtype=int64), 'classes': array([b'0'], dtype=object), 'all_class_ids': array([0, 1]), 'all_classes': array([b'0', b'1'], dtype=object)}, {'logits': array([-2.1047487], dtype=float32), 'logistic': array([0.10863611], dtype=float32), 'probabilities': array([0.8913639 , 0.10863613], dtype=float32), 'class_ids': array([0], dtype=int64), 'classes': array([b'0'], dtype=object), 'all_class_ids': array([0, 1]), 'all_classes': array([b'0', b'1'], dtype=object)}, {'logits': array([0.06977092], dtype=float32), 'logistic': array([0.51743567], dtype=float32), 'probabilities': array([0.48256433, 0.51743567], dtype=float32), 'class_ids': array([1], dtype=int64), 'classes': array([b'1'], dtype=object), 'all_class_ids': array([0, 1]), 'all_classes': array([b'0', b'1'], dtype=object)}, {'logits': array([-1.6121308], dtype=float32), 'logistic': array([0.166293], dtype=float32), 'probabilities': array([0.833707  , 0.16629298], dtype=float32), 'class_ids': array([0], dtype=int64), 'classes': array([b'0'], dtype=object), 'all_class_ids': array([0, 1]), 'all_classes': array([b'0', b'1'], dtype=object)}, {'logits': array([-1.5125731], dtype=float32), 'logistic': array([0.18055776], dtype=float32), 'probabilities': array([0.8194422 , 0.18055776], dtype=float32), 'class_ids': array([0], dtype=int64), 'classes': array([b'0'], dtype=object), 'all_class_ids': array([0, 1]), 'all_classes': array([b'0', b'1'], dtype=object)}, {'logits': array([-2.3435798], dtype=float32), 'logistic': array([0.0875774], dtype=float32), 'probabilities': array([0.9124226 , 0.08757745], dtype=float32), 'class_ids': array([0], dtype=int64), 'classes': array([b'0'], dtype=object), 'all_class_ids': array([0, 1]), 'all_classes': array([b'0', b'1'], dtype=object)}, {'logits': array([-1.5125235], dtype=float32), 'logistic': array([0.18056509], dtype=float32), 'probabilities': array([0.8194349, 0.1805651], dtype=float32), 'class_ids': array([0], dtype=int64), 'classes': array([b'0'], dtype=object), 'all_class_ids': array([0, 1]), 'all_classes': array([b'0', b'1'], dtype=object)}, {'logits': array([-2.028613], dtype=float32), 'logistic': array([0.11623129], dtype=float32), 'probabilities': array([0.88376874, 0.11623131], dtype=float32), 'class_ids': array([0], dtype=int64), 'classes': array([b'0'], dtype=object), 'all_class_ids': array([0, 1]), 'all_classes': array([b'0', b'1'], dtype=object)}, {'logits': array([-1.2005007], dtype=float32), 'logistic': array([0.23138615], dtype=float32), 'probabilities': array([0.7686138 , 0.23138615], dtype=float32), 'class_ids': array([0], dtype=int64), 'classes': array([b'0'], dtype=object), 'all_class_ids': array([0, 1]), 'all_classes': array([b'0', b'1'], dtype=object)}, {'logits': array([-1.5029896], dtype=float32), 'logistic': array([0.18198007], dtype=float32), 'probabilities': array([0.8180199 , 0.18198004], dtype=float32), 'class_ids': array([0], dtype=int64), 'classes': array([b'0'], dtype=object), 'all_class_ids': array([0, 1]), 'all_classes': array([b'0', b'1'], dtype=object)}, {'logits': array([-0.45912313], dtype=float32), 'logistic': array([0.3871939], dtype=float32), 'probabilities': array([0.61280614, 0.38719386], dtype=float32), 'class_ids': array([0], dtype=int64), 'classes': array([b'0'], dtype=object), 'all_class_ids': array([0, 1]), 'all_classes': array([b'0', b'1'], dtype=object)}, {'logits': array([-1.3831064], dtype=float32), 'logistic': array([0.20051059], dtype=float32), 'probabilities': array([0.79948944, 0.20051058], dtype=float32), 'class_ids': array([0], dtype=int64), 'classes': array([b'0'], dtype=object), 'all_class_ids': array([0, 1]), 'all_classes': array([b'0', b'1'], dtype=object)}, {'logits': array([-1.4533418], dtype=float32), 'logistic': array([0.18948781], dtype=float32), 'probabilities': array([0.81051224, 0.1894878 ], dtype=float32), 'class_ids': array([0], dtype=int64), 'classes': array([b'0'], dtype=object), 'all_class_ids': array([0, 1]), 'all_classes': array([b'0', b'1'], dtype=object)}, {'logits': array([-1.2278645], dtype=float32), 'logistic': array([0.22655544], dtype=float32), 'probabilities': array([0.77344453, 0.22655539], dtype=float32), 'class_ids': array([0], dtype=int64), 'classes': array([b'0'], dtype=object), 'all_class_ids': array([0, 1]), 'all_classes': array([b'0', b'1'], dtype=object)}, {'logits': array([0.7493659], dtype=float32), 'logistic': array([0.6790405], dtype=float32), 'probabilities': array([0.3209595 , 0.67904055], dtype=float32), 'class_ids': array([1], dtype=int64), 'classes': array([b'1'], dtype=object), 'all_class_ids': array([0, 1]), 'all_classes': array([b'0', b'1'], dtype=object)}, {'logits': array([-1.5125235], dtype=float32), 'logistic': array([0.18056509], dtype=float32), 'probabilities': array([0.8194349, 0.1805651], dtype=float32), 'class_ids': array([0], dtype=int64), 'classes': array([b'0'], dtype=object), 'all_class_ids': array([0, 1]), 'all_classes': array([b'0', b'1'], dtype=object)}, {'logits': array([1.0483984], dtype=float32), 'logistic': array([0.7404672], dtype=float32), 'probabilities': array([0.25953278, 0.7404672 ], dtype=float32), 'class_ids': array([1], dtype=int64), 'classes': array([b'1'], dtype=object), 'all_class_ids': array([0, 1]), 'all_classes': array([b'0', b'1'], dtype=object)}, {'logits': array([-1.8344129], dtype=float32), 'logistic': array([0.1377134], dtype=float32), 'probabilities': array([0.8622866 , 0.13771342], dtype=float32), 'class_ids': array([0], dtype=int64), 'classes': array([b'0'], dtype=object), 'all_class_ids': array([0, 1]), 'all_classes': array([b'0', b'1'], dtype=object)}, {'logits': array([3.1748228], dtype=float32), 'logistic': array([0.9598758], dtype=float32), 'probabilities': array([0.04012426, 0.9598758 ], dtype=float32), 'class_ids': array([1], dtype=int64), 'classes': array([b'1'], dtype=object), 'all_class_ids': array([0, 1]), 'all_classes': array([b'0', b'1'], dtype=object)}, {'logits': array([1.3930486], dtype=float32), 'logistic': array([0.8010785], dtype=float32), 'probabilities': array([0.1989215, 0.8010785], dtype=float32), 'class_ids': array([1], dtype=int64), 'classes': array([b'1'], dtype=object), 'all_class_ids': array([0, 1]), 'all_classes': array([b'0', b'1'], dtype=object)}, {'logits': array([-2.1925354], dtype=float32), 'logistic': array([0.10042277], dtype=float32), 'probabilities': array([0.8995772 , 0.10042282], dtype=float32), 'class_ids': array([0], dtype=int64), 'classes': array([b'0'], dtype=object), 'all_class_ids': array([0, 1]), 'all_classes': array([b'0', b'1'], dtype=object)}, {'logits': array([3.6702313], dtype=float32), 'logistic': array([0.9751621], dtype=float32), 'probabilities': array([0.02483794, 0.975162  ], dtype=float32), 'class_ids': array([1], dtype=int64), 'classes': array([b'1'], dtype=object), 'all_class_ids': array([0, 1]), 'all_classes': array([b'0', b'1'], dtype=object)}, {'logits': array([-1.6413373], dtype=float32), 'logistic': array([0.16228315], dtype=float32), 'probabilities': array([0.8377168 , 0.16228318], dtype=float32), 'class_ids': array([0], dtype=int64), 'classes': array([b'0'], dtype=object), 'all_class_ids': array([0, 1]), 'all_classes': array([b'0', b'1'], dtype=object)}, {'logits': array([-1.4950147], dtype=float32), 'logistic': array([0.18317026], dtype=float32), 'probabilities': array([0.81682974, 0.18317024], dtype=float32), 'class_ids': array([0], dtype=int64), 'classes': array([b'0'], dtype=object), 'all_class_ids': array([0, 1]), 'all_classes': array([b'0', b'1'], dtype=object)}, {'logits': array([3.4297047], dtype=float32), 'logistic': array([0.9686201], dtype=float32), 'probabilities': array([0.0313799 , 0.96862006], dtype=float32), 'class_ids': array([1], dtype=int64), 'classes': array([b'1'], dtype=object), 'all_class_ids': array([0, 1]), 'all_classes': array([b'0', b'1'], dtype=object)}, {'logits': array([-1.9752821], dtype=float32), 'logistic': array([0.12182266], dtype=float32), 'probabilities': array([0.87817734, 0.12182268], dtype=float32), 'class_ids': array([0], dtype=int64), 'classes': array([b'0'], dtype=object), 'all_class_ids': array([0, 1]), 'all_classes': array([b'0', b'1'], dtype=object)}, {'logits': array([1.5246309], dtype=float32), 'logistic': array([0.8212194], dtype=float32), 'probabilities': array([0.1787806, 0.8212194], dtype=float32), 'class_ids': array([1], dtype=int64), 'classes': array([b'1'], dtype=object), 'all_class_ids': array([0, 1]), 'all_classes': array([b'0', b'1'], dtype=object)}, {'logits': array([-2.106569], dtype=float32), 'logistic': array([0.10845998], dtype=float32), 'probabilities': array([0.89154005, 0.10845999], dtype=float32), 'class_ids': array([0], dtype=int64), 'classes': array([b'0'], dtype=object), 'all_class_ids': array([0, 1]), 'all_classes': array([b'0', b'1'], dtype=object)}, {'logits': array([-0.5326039], dtype=float32), 'logistic': array([0.36990976], dtype=float32), 'probabilities': array([0.63009024, 0.36990976], dtype=float32), 'class_ids': array([0], dtype=int64), 'classes': array([b'0'], dtype=object), 'all_class_ids': array([0, 1]), 'all_classes': array([b'0', b'1'], dtype=object)}, {'logits': array([-2.4499931], dtype=float32), 'logistic': array([0.07943904], dtype=float32), 'probabilities': array([0.92056096, 0.07943905], dtype=float32), 'class_ids': array([0], dtype=int64), 'classes': array([b'0'], dtype=object), 'all_class_ids': array([0, 1]), 'all_classes': array([b'0', b'1'], dtype=object)}, {'logits': array([-1.8057162], dtype=float32), 'logistic': array([0.14115664], dtype=float32), 'probabilities': array([0.8588433 , 0.14115666], dtype=float32), 'class_ids': array([0], dtype=int64), 'classes': array([b'0'], dtype=object), 'all_class_ids': array([0, 1]), 'all_classes': array([b'0', b'1'], dtype=object)}, {'logits': array([0.85366875], dtype=float32), 'logistic': array([0.70133615], dtype=float32), 'probabilities': array([0.29866382, 0.7013362 ], dtype=float32), 'class_ids': array([1], dtype=int64), 'classes': array([b'1'], dtype=object), 'all_class_ids': array([0, 1]), 'all_classes': array([b'0', b'1'], dtype=object)}, {'logits': array([2.5322268], dtype=float32), 'logistic': array([0.92637044], dtype=float32), 'probabilities': array([0.07362962, 0.9263704 ], dtype=float32), 'class_ids': array([1], dtype=int64), 'classes': array([b'1'], dtype=object), 'all_class_ids': array([0, 1]), 'all_classes': array([b'0', b'1'], dtype=object)}, {'logits': array([-1.4395368], dtype=float32), 'logistic': array([0.19161707], dtype=float32), 'probabilities': array([0.8083829 , 0.19161709], dtype=float32), 'class_ids': array([0], dtype=int64), 'classes': array([b'0'], dtype=object), 'all_class_ids': array([0, 1]), 'all_classes': array([b'0', b'1'], dtype=object)}, {'logits': array([-0.11223228], dtype=float32), 'logistic': array([0.47197136], dtype=float32), 'probabilities': array([0.52802867, 0.47197136], dtype=float32), 'class_ids': array([0], dtype=int64), 'classes': array([b'0'], dtype=object), 'all_class_ids': array([0, 1]), 'all_classes': array([b'0', b'1'], dtype=object)}, {'logits': array([-1.9560155], dtype=float32), 'logistic': array([0.12389892], dtype=float32), 'probabilities': array([0.8761011 , 0.12389891], dtype=float32), 'class_ids': array([0], dtype=int64), 'classes': array([b'0'], dtype=object), 'all_class_ids': array([0, 1]), 'all_classes': array([b'0', b'1'], dtype=object)}, {'logits': array([-1.858682], dtype=float32), 'logistic': array([0.13485673], dtype=float32), 'probabilities': array([0.86514324, 0.13485675], dtype=float32), 'class_ids': array([0], dtype=int64), 'classes': array([b'0'], dtype=object), 'all_class_ids': array([0, 1]), 'all_classes': array([b'0', b'1'], dtype=object)}, {'logits': array([-1.0330929], dtype=float32), 'logistic': array([0.26248494], dtype=float32), 'probabilities': array([0.7375151 , 0.26248494], dtype=float32), 'class_ids': array([0], dtype=int64), 'classes': array([b'0'], dtype=object), 'all_class_ids': array([0, 1]), 'all_classes': array([b'0', b'1'], dtype=object)}, {'logits': array([-1.079354], dtype=float32), 'logistic': array([0.2536283], dtype=float32), 'probabilities': array([0.74637175, 0.25362828], dtype=float32), 'class_ids': array([0], dtype=int64), 'classes': array([b'0'], dtype=object), 'all_class_ids': array([0, 1]), 'all_classes': array([b'0', b'1'], dtype=object)}, {'logits': array([3.9229732], dtype=float32), 'logistic': array([0.98060155], dtype=float32), 'probabilities': array([0.01939845, 0.98060155], dtype=float32), 'class_ids': array([1], dtype=int64), 'classes': array([b'1'], dtype=object), 'all_class_ids': array([0, 1]), 'all_classes': array([b'0', b'1'], dtype=object)}, {'logits': array([0.24614644], dtype=float32), 'logistic': array([0.5612278], dtype=float32), 'probabilities': array([0.43877223, 0.5612278 ], dtype=float32), 'class_ids': array([1], dtype=int64), 'classes': array([b'1'], dtype=object), 'all_class_ids': array([0, 1]), 'all_classes': array([b'0', b'1'], dtype=object)}, {'logits': array([-1.9123689], dtype=float32), 'logistic': array([0.12871492], dtype=float32), 'probabilities': array([0.8712851 , 0.12871496], dtype=float32), 'class_ids': array([0], dtype=int64), 'classes': array([b'0'], dtype=object), 'all_class_ids': array([0, 1]), 'all_classes': array([b'0', b'1'], dtype=object)}, {'logits': array([-0.17912632], dtype=float32), 'logistic': array([0.4553378], dtype=float32), 'probabilities': array([0.54466224, 0.4553378 ], dtype=float32), 'class_ids': array([0], dtype=int64), 'classes': array([b'0'], dtype=object), 'all_class_ids': array([0, 1]), 'all_classes': array([b'0', b'1'], dtype=object)}, {'logits': array([1.0493333], dtype=float32), 'logistic': array([0.74064684], dtype=float32), 'probabilities': array([0.25935316, 0.7406469 ], dtype=float32), 'class_ids': array([1], dtype=int64), 'classes': array([b'1'], dtype=object), 'all_class_ids': array([0, 1]), 'all_classes': array([b'0', b'1'], dtype=object)}, {'logits': array([1.2523724], dtype=float32), 'logistic': array([0.77771026], dtype=float32), 'probabilities': array([0.22228973, 0.7777102 ], dtype=float32), 'class_ids': array([1], dtype=int64), 'classes': array([b'1'], dtype=object), 'all_class_ids': array([0, 1]), 'all_classes': array([b'0', b'1'], dtype=object)}, {'logits': array([-1.1258776], dtype=float32), 'logistic': array([0.24492267], dtype=float32), 'probabilities': array([0.75507736, 0.24492268], dtype=float32), 'class_ids': array([0], dtype=int64), 'classes': array([b'0'], dtype=object), 'all_class_ids': array([0, 1]), 'all_classes': array([b'0', b'1'], dtype=object)}, {'logits': array([0.38258827], dtype=float32), 'logistic': array([0.5944972], dtype=float32), 'probabilities': array([0.4055028, 0.5944972], dtype=float32), 'class_ids': array([1], dtype=int64), 'classes': array([b'1'], dtype=object), 'all_class_ids': array([0, 1]), 'all_classes': array([b'0', b'1'], dtype=object)}, {'logits': array([-1.7715064], dtype=float32), 'logistic': array([0.14535505], dtype=float32), 'probabilities': array([0.8546449 , 0.14535508], dtype=float32), 'class_ids': array([0], dtype=int64), 'classes': array([b'0'], dtype=object), 'all_class_ids': array([0, 1]), 'all_classes': array([b'0', b'1'], dtype=object)}, {'logits': array([-1.0498387], dtype=float32), 'logistic': array([0.2592561], dtype=float32), 'probabilities': array([0.74074394, 0.2592561 ], dtype=float32), 'class_ids': array([0], dtype=int64), 'classes': array([b'0'], dtype=object), 'all_class_ids': array([0, 1]), 'all_classes': array([b'0', b'1'], dtype=object)}, {'logits': array([2.5139978], dtype=float32), 'logistic': array([0.9251174], dtype=float32), 'probabilities': array([0.07488269, 0.9251174 ], dtype=float32), 'class_ids': array([1], dtype=int64), 'classes': array([b'1'], dtype=object), 'all_class_ids': array([0, 1]), 'all_classes': array([b'0', b'1'], dtype=object)}, {'logits': array([-2.1695437], dtype=float32), 'logistic': array([0.10251901], dtype=float32), 'probabilities': array([0.897481  , 0.10251901], dtype=float32), 'class_ids': array([0], dtype=int64), 'classes': array([b'0'], dtype=object), 'all_class_ids': array([0, 1]), 'all_classes': array([b'0', b'1'], dtype=object)}, {'logits': array([-2.0292265], dtype=float32), 'logistic': array([0.11616829], dtype=float32), 'probabilities': array([0.8838317 , 0.11616831], dtype=float32), 'class_ids': array([0], dtype=int64), 'classes': array([b'0'], dtype=object), 'all_class_ids': array([0, 1]), 'all_classes': array([b'0', b'1'], dtype=object)}, {'logits': array([0.72624373], dtype=float32), 'logistic': array([0.6739804], dtype=float32), 'probabilities': array([0.32601956, 0.6739805 ], dtype=float32), 'class_ids': array([1], dtype=int64), 'classes': array([b'1'], dtype=object), 'all_class_ids': array([0, 1]), 'all_classes': array([b'0', b'1'], dtype=object)}, {'logits': array([1.0529724], dtype=float32), 'logistic': array([0.7413453], dtype=float32), 'probabilities': array([0.2586547, 0.7413453], dtype=float32), 'class_ids': array([1], dtype=int64), 'classes': array([b'1'], dtype=object), 'all_class_ids': array([0, 1]), 'all_classes': array([b'0', b'1'], dtype=object)}, {'logits': array([-0.5565226], dtype=float32), 'logistic': array([0.36435246], dtype=float32), 'probabilities': array([0.6356476 , 0.36435246], dtype=float32), 'class_ids': array([0], dtype=int64), 'classes': array([b'0'], dtype=object), 'all_class_ids': array([0, 1]), 'all_classes': array([b'0', b'1'], dtype=object)}, {'logits': array([-2.1259286], dtype=float32), 'logistic': array([0.1066021], dtype=float32), 'probabilities': array([0.8933979 , 0.10660212], dtype=float32), 'class_ids': array([0], dtype=int64), 'classes': array([b'0'], dtype=object), 'all_class_ids': array([0, 1]), 'all_classes': array([b'0', b'1'], dtype=object)}, {'logits': array([-1.4478397], dtype=float32), 'logistic': array([0.19033426], dtype=float32), 'probabilities': array([0.80966574, 0.19033426], dtype=float32), 'class_ids': array([0], dtype=int64), 'classes': array([b'0'], dtype=object), 'all_class_ids': array([0, 1]), 'all_classes': array([b'0', b'1'], dtype=object)}, {'logits': array([-1.7457315], dtype=float32), 'logistic': array([0.14858639], dtype=float32), 'probabilities': array([0.8514136 , 0.14858639], dtype=float32), 'class_ids': array([0], dtype=int64), 'classes': array([b'0'], dtype=object), 'all_class_ids': array([0, 1]), 'all_classes': array([b'0', b'1'], dtype=object)}, {'logits': array([-2.4499931], dtype=float32), 'logistic': array([0.07943904], dtype=float32), 'probabilities': array([0.92056096, 0.07943905], dtype=float32), 'class_ids': array([0], dtype=int64), 'classes': array([b'0'], dtype=object), 'all_class_ids': array([0, 1]), 'all_classes': array([b'0', b'1'], dtype=object)}, {'logits': array([-1.977167], dtype=float32), 'logistic': array([0.12162116], dtype=float32), 'probabilities': array([0.87837887, 0.12162116], dtype=float32), 'class_ids': array([0], dtype=int64), 'classes': array([b'0'], dtype=object), 'all_class_ids': array([0, 1]), 'all_classes': array([b'0', b'1'], dtype=object)}, {'logits': array([5.403584], dtype=float32), 'logistic': array([0.99551976], dtype=float32), 'probabilities': array([0.00448026, 0.99551976], dtype=float32), 'class_ids': array([1], dtype=int64), 'classes': array([b'1'], dtype=object), 'all_class_ids': array([0, 1]), 'all_classes': array([b'0', b'1'], dtype=object)}, {'logits': array([1.5196763], dtype=float32), 'logistic': array([0.82049084], dtype=float32), 'probabilities': array([0.1795092 , 0.82049084], dtype=float32), 'class_ids': array([1], dtype=int64), 'classes': array([b'1'], dtype=object), 'all_class_ids': array([0, 1]), 'all_classes': array([b'0', b'1'], dtype=object)}, {'logits': array([-2.0977793], dtype=float32), 'logistic': array([0.10931283], dtype=float32), 'probabilities': array([0.8906871 , 0.10931285], dtype=float32), 'class_ids': array([0], dtype=int64), 'classes': array([b'0'], dtype=object), 'all_class_ids': array([0, 1]), 'all_classes': array([b'0', b'1'], dtype=object)}, {'logits': array([1.2594278], dtype=float32), 'logistic': array([0.77892756], dtype=float32), 'probabilities': array([0.22107244, 0.7789276 ], dtype=float32), 'class_ids': array([1], dtype=int64), 'classes': array([b'1'], dtype=object), 'all_class_ids': array([0, 1]), 'all_classes': array([b'0', b'1'], dtype=object)}, {'logits': array([-0.05969573], dtype=float32), 'logistic': array([0.4850805], dtype=float32), 'probabilities': array([0.5149195, 0.4850805], dtype=float32), 'class_ids': array([0], dtype=int64), 'classes': array([b'0'], dtype=object), 'all_class_ids': array([0, 1]), 'all_classes': array([b'0', b'1'], dtype=object)}, {'logits': array([-1.7516335], dtype=float32), 'logistic': array([0.14784124], dtype=float32), 'probabilities': array([0.8521587 , 0.14784129], dtype=float32), 'class_ids': array([0], dtype=int64), 'classes': array([b'0'], dtype=object), 'all_class_ids': array([0, 1]), 'all_classes': array([b'0', b'1'], dtype=object)}, {'logits': array([-1.9130224], dtype=float32), 'logistic': array([0.12864164], dtype=float32), 'probabilities': array([0.8713583 , 0.12864168], dtype=float32), 'class_ids': array([0], dtype=int64), 'classes': array([b'0'], dtype=object), 'all_class_ids': array([0, 1]), 'all_classes': array([b'0', b'1'], dtype=object)}, {'logits': array([-1.3632332], dtype=float32), 'logistic': array([0.20371532], dtype=float32), 'probabilities': array([0.7962847 , 0.20371532], dtype=float32), 'class_ids': array([0], dtype=int64), 'classes': array([b'0'], dtype=object), 'all_class_ids': array([0, 1]), 'all_classes': array([b'0', b'1'], dtype=object)}, {'logits': array([-1.9248964], dtype=float32), 'logistic': array([0.12731653], dtype=float32), 'probabilities': array([0.87268347, 0.12731655], dtype=float32), 'class_ids': array([0], dtype=int64), 'classes': array([b'0'], dtype=object), 'all_class_ids': array([0, 1]), 'all_classes': array([b'0', b'1'], dtype=object)}, {'logits': array([1.0482509], dtype=float32), 'logistic': array([0.7404389], dtype=float32), 'probabilities': array([0.25956112, 0.7404389 ], dtype=float32), 'class_ids': array([1], dtype=int64), 'classes': array([b'1'], dtype=object), 'all_class_ids': array([0, 1]), 'all_classes': array([b'0', b'1'], dtype=object)}, {'logits': array([-2.0205157], dtype=float32), 'logistic': array([0.11706564], dtype=float32), 'probabilities': array([0.88293433, 0.11706568], dtype=float32), 'class_ids': array([0], dtype=int64), 'classes': array([b'0'], dtype=object), 'all_class_ids': array([0, 1]), 'all_classes': array([b'0', b'1'], dtype=object)}, {'logits': array([0.5799688], dtype=float32), 'logistic': array([0.64106023], dtype=float32), 'probabilities': array([0.35893977, 0.64106023], dtype=float32), 'class_ids': array([1], dtype=int64), 'classes': array([b'1'], dtype=object), 'all_class_ids': array([0, 1]), 'all_classes': array([b'0', b'1'], dtype=object)}, {'logits': array([-0.04249776], dtype=float32), 'logistic': array([0.48937717], dtype=float32), 'probabilities': array([0.51062286, 0.48937717], dtype=float32), 'class_ids': array([0], dtype=int64), 'classes': array([b'0'], dtype=object), 'all_class_ids': array([0, 1]), 'all_classes': array([b'0', b'1'], dtype=object)}, {'logits': array([-2.1709576], dtype=float32), 'logistic': array([0.10238898], dtype=float32), 'probabilities': array([0.89761096, 0.10238899], dtype=float32), 'class_ids': array([0], dtype=int64), 'classes': array([b'0'], dtype=object), 'all_class_ids': array([0, 1]), 'all_classes': array([b'0', b'1'], dtype=object)}, {'logits': array([-1.6390636], dtype=float32), 'logistic': array([0.1625925], dtype=float32), 'probabilities': array([0.83740747, 0.16259252], dtype=float32), 'class_ids': array([0], dtype=int64), 'classes': array([b'0'], dtype=object), 'all_class_ids': array([0, 1]), 'all_classes': array([b'0', b'1'], dtype=object)}, {'logits': array([1.5771925], dtype=float32), 'logistic': array([0.8288065], dtype=float32), 'probabilities': array([0.17119345, 0.8288065 ], dtype=float32), 'class_ids': array([1], dtype=int64), 'classes': array([b'1'], dtype=object), 'all_class_ids': array([0, 1]), 'all_classes': array([b'0', b'1'], dtype=object)}, {'logits': array([0.39049947], dtype=float32), 'logistic': array([0.59640294], dtype=float32), 'probabilities': array([0.40359706, 0.59640294], dtype=float32), 'class_ids': array([1], dtype=int64), 'classes': array([b'1'], dtype=object), 'all_class_ids': array([0, 1]), 'all_classes': array([b'0', b'1'], dtype=object)}, {'logits': array([-1.8704494], dtype=float32), 'logistic': array([0.13348973], dtype=float32), 'probabilities': array([0.8665103 , 0.13348973], dtype=float32), 'class_ids': array([0], dtype=int64), 'classes': array([b'0'], dtype=object), 'all_class_ids': array([0, 1]), 'all_classes': array([b'0', b'1'], dtype=object)}, {'logits': array([-0.5635966], dtype=float32), 'logistic': array([0.36271572], dtype=float32), 'probabilities': array([0.63728434, 0.3627157 ], dtype=float32), 'class_ids': array([0], dtype=int64), 'classes': array([b'0'], dtype=object), 'all_class_ids': array([0, 1]), 'all_classes': array([b'0', b'1'], dtype=object)}, {'logits': array([-1.0356946], dtype=float32), 'logistic': array([0.2619816], dtype=float32), 'probabilities': array([0.7380184 , 0.26198158], dtype=float32), 'class_ids': array([0], dtype=int64), 'classes': array([b'0'], dtype=object), 'all_class_ids': array([0, 1]), 'all_classes': array([b'0', b'1'], dtype=object)}, {'logits': array([3.3298879], dtype=float32), 'logistic': array([0.96544003], dtype=float32), 'probabilities': array([0.03455997, 0.96544003], dtype=float32), 'class_ids': array([1], dtype=int64), 'classes': array([b'1'], dtype=object), 'all_class_ids': array([0, 1]), 'all_classes': array([b'0', b'1'], dtype=object)}, {'logits': array([3.3338363], dtype=float32), 'logistic': array([0.9655715], dtype=float32), 'probabilities': array([0.03442847, 0.96557146], dtype=float32), 'class_ids': array([1], dtype=int64), 'classes': array([b'1'], dtype=object), 'all_class_ids': array([0, 1]), 'all_classes': array([b'0', b'1'], dtype=object)}, {'logits': array([-1.8490614], dtype=float32), 'logistic': array([0.13598314], dtype=float32), 'probabilities': array([0.86401683, 0.13598314], dtype=float32), 'class_ids': array([0], dtype=int64), 'classes': array([b'0'], dtype=object), 'all_class_ids': array([0, 1]), 'all_classes': array([b'0', b'1'], dtype=object)}, {'logits': array([0.9944541], dtype=float32), 'logistic': array([0.72996676], dtype=float32), 'probabilities': array([0.2700332, 0.7299668], dtype=float32), 'class_ids': array([1], dtype=int64), 'classes': array([b'1'], dtype=object), 'all_class_ids': array([0, 1]), 'all_classes': array([b'0', b'1'], dtype=object)}, {'logits': array([-2.0013218], dtype=float32), 'logistic': array([0.11906421], dtype=float32), 'probabilities': array([0.8809358 , 0.11906421], dtype=float32), 'class_ids': array([0], dtype=int64), 'classes': array([b'0'], dtype=object), 'all_class_ids': array([0, 1]), 'all_classes': array([b'0', b'1'], dtype=object)}, {'logits': array([-1.5125731], dtype=float32), 'logistic': array([0.18055776], dtype=float32), 'probabilities': array([0.8194422 , 0.18055776], dtype=float32), 'class_ids': array([0], dtype=int64), 'classes': array([b'0'], dtype=object), 'all_class_ids': array([0, 1]), 'all_classes': array([b'0', b'1'], dtype=object)}, {'logits': array([1.1287838], dtype=float32), 'logistic': array([0.7556144], dtype=float32), 'probabilities': array([0.24438561, 0.7556144 ], dtype=float32), 'class_ids': array([1], dtype=int64), 'classes': array([b'1'], dtype=object), 'all_class_ids': array([0, 1]), 'all_classes': array([b'0', b'1'], dtype=object)}, {'logits': array([-1.8058637], dtype=float32), 'logistic': array([0.14113879], dtype=float32), 'probabilities': array([0.85886127, 0.14113878], dtype=float32), 'class_ids': array([0], dtype=int64), 'classes': array([b'0'], dtype=object), 'all_class_ids': array([0, 1]), 'all_classes': array([b'0', b'1'], dtype=object)}, {'logits': array([4.4647136], dtype=float32), 'logistic': array([0.9886229], dtype=float32), 'probabilities': array([0.01137706, 0.98862296], dtype=float32), 'class_ids': array([1], dtype=int64), 'classes': array([b'1'], dtype=object), 'all_class_ids': array([0, 1]), 'all_classes': array([b'0', b'1'], dtype=object)}, {'logits': array([1.6652579], dtype=float32), 'logistic': array([0.8409425], dtype=float32), 'probabilities': array([0.15905745, 0.84094256], dtype=float32), 'class_ids': array([1], dtype=int64), 'classes': array([b'1'], dtype=object), 'all_class_ids': array([0, 1]), 'all_classes': array([b'0', b'1'], dtype=object)}, {'logits': array([-2.0494585], dtype=float32), 'logistic': array([0.11410713], dtype=float32), 'probabilities': array([0.88589287, 0.11410711], dtype=float32), 'class_ids': array([0], dtype=int64), 'classes': array([b'0'], dtype=object), 'all_class_ids': array([0, 1]), 'all_classes': array([b'0', b'1'], dtype=object)}, {'logits': array([0.958602], dtype=float32), 'logistic': array([0.7228418], dtype=float32), 'probabilities': array([0.27715817, 0.7228418 ], dtype=float32), 'class_ids': array([1], dtype=int64), 'classes': array([b'1'], dtype=object), 'all_class_ids': array([0, 1]), 'all_classes': array([b'0', b'1'], dtype=object)}, {'logits': array([-1.8185678], dtype=float32), 'logistic': array([0.13960579], dtype=float32), 'probabilities': array([0.8603941 , 0.13960582], dtype=float32), 'class_ids': array([0], dtype=int64), 'classes': array([b'0'], dtype=object), 'all_class_ids': array([0, 1]), 'all_classes': array([b'0', b'1'], dtype=object)}, {'logits': array([-1.0251869], dtype=float32), 'logistic': array([0.2640183], dtype=float32), 'probabilities': array([0.73598176, 0.26401833], dtype=float32), 'class_ids': array([0], dtype=int64), 'classes': array([b'0'], dtype=object), 'all_class_ids': array([0, 1]), 'all_classes': array([b'0', b'1'], dtype=object)}, {'logits': array([-2.0958602], dtype=float32), 'logistic': array([0.10949984], dtype=float32), 'probabilities': array([0.8905002 , 0.10949984], dtype=float32), 'class_ids': array([0], dtype=int64), 'classes': array([b'0'], dtype=object), 'all_class_ids': array([0, 1]), 'all_classes': array([b'0', b'1'], dtype=object)}, {'logits': array([0.9618977], dtype=float32), 'logistic': array([0.72350156], dtype=float32), 'probabilities': array([0.2764984 , 0.72350156], dtype=float32), 'class_ids': array([1], dtype=int64), 'classes': array([b'1'], dtype=object), 'all_class_ids': array([0, 1]), 'all_classes': array([b'0', b'1'], dtype=object)}, {'logits': array([0.41201258], dtype=float32), 'logistic': array([0.60157037], dtype=float32), 'probabilities': array([0.39842966, 0.60157037], dtype=float32), 'class_ids': array([1], dtype=int64), 'classes': array([b'1'], dtype=object), 'all_class_ids': array([0, 1]), 'all_classes': array([b'0', b'1'], dtype=object)}, {'logits': array([-2.4473019], dtype=float32), 'logistic': array([0.07963604], dtype=float32), 'probabilities': array([0.9203639 , 0.07963608], dtype=float32), 'class_ids': array([0], dtype=int64), 'classes': array([b'0'], dtype=object), 'all_class_ids': array([0, 1]), 'all_classes': array([b'0', b'1'], dtype=object)}, {'logits': array([-1.2488707], dtype=float32), 'logistic': array([0.22289568], dtype=float32), 'probabilities': array([0.7771043 , 0.22289568], dtype=float32), 'class_ids': array([0], dtype=int64), 'classes': array([b'0'], dtype=object), 'all_class_ids': array([0, 1]), 'all_classes': array([b'0', b'1'], dtype=object)}, {'logits': array([1.665389], dtype=float32), 'logistic': array([0.84096014], dtype=float32), 'probabilities': array([0.15903993, 0.8409601 ], dtype=float32), 'class_ids': array([1], dtype=int64), 'classes': array([b'1'], dtype=object), 'all_class_ids': array([0, 1]), 'all_classes': array([b'0', b'1'], dtype=object)}, {'logits': array([-0.27837825], dtype=float32), 'logistic': array([0.4308514], dtype=float32), 'probabilities': array([0.5691486 , 0.43085143], dtype=float32), 'class_ids': array([0], dtype=int64), 'classes': array([b'0'], dtype=object), 'all_class_ids': array([0, 1]), 'all_classes': array([b'0', b'1'], dtype=object)}, {'logits': array([2.8864732], dtype=float32), 'logistic': array([0.9471737], dtype=float32), 'probabilities': array([0.05282631, 0.9471737 ], dtype=float32), 'class_ids': array([1], dtype=int64), 'classes': array([b'1'], dtype=object), 'all_class_ids': array([0, 1]), 'all_classes': array([b'0', b'1'], dtype=object)}, {'logits': array([-0.5168822], dtype=float32), 'logistic': array([0.3735816], dtype=float32), 'probabilities': array([0.6264184 , 0.37358153], dtype=float32), 'class_ids': array([0], dtype=int64), 'classes': array([b'0'], dtype=object), 'all_class_ids': array([0, 1]), 'all_classes': array([b'0', b'1'], dtype=object)}, {'logits': array([-1.6192063], dtype=float32), 'logistic': array([0.16531435], dtype=float32), 'probabilities': array([0.8346856 , 0.16531436], dtype=float32), 'class_ids': array([0], dtype=int64), 'classes': array([b'0'], dtype=object), 'all_class_ids': array([0, 1]), 'all_classes': array([b'0', b'1'], dtype=object)}, {'logits': array([-1.9336017], dtype=float32), 'logistic': array([0.12635246], dtype=float32), 'probabilities': array([0.8736475 , 0.12635244], dtype=float32), 'class_ids': array([0], dtype=int64), 'classes': array([b'0'], dtype=object), 'all_class_ids': array([0, 1]), 'all_classes': array([b'0', b'1'], dtype=object)}, {'logits': array([-1.8601631], dtype=float32), 'logistic': array([0.13468406], dtype=float32), 'probabilities': array([0.8653159 , 0.13468404], dtype=float32), 'class_ids': array([0], dtype=int64), 'classes': array([b'0'], dtype=object), 'all_class_ids': array([0, 1]), 'all_classes': array([b'0', b'1'], dtype=object)}, {'logits': array([-3.100573], dtype=float32), 'logistic': array([0.04308361], dtype=float32), 'probabilities': array([0.95691633, 0.04308362], dtype=float32), 'class_ids': array([0], dtype=int64), 'classes': array([b'0'], dtype=object), 'all_class_ids': array([0, 1]), 'all_classes': array([b'0', b'1'], dtype=object)}, {'logits': array([1.90894], dtype=float32), 'logistic': array([0.87090003], dtype=float32), 'probabilities': array([0.12909998, 0.8709    ], dtype=float32), 'class_ids': array([1], dtype=int64), 'classes': array([b'1'], dtype=object), 'all_class_ids': array([0, 1]), 'all_classes': array([b'0', b'1'], dtype=object)}, {'logits': array([1.3946804], dtype=float32), 'logistic': array([0.80133843], dtype=float32), 'probabilities': array([0.19866161, 0.8013384 ], dtype=float32), 'class_ids': array([1], dtype=int64), 'classes': array([b'1'], dtype=object), 'all_class_ids': array([0, 1]), 'all_classes': array([b'0', b'1'], dtype=object)}, {'logits': array([-1.5125235], dtype=float32), 'logistic': array([0.18056509], dtype=float32), 'probabilities': array([0.8194349, 0.1805651], dtype=float32), 'class_ids': array([0], dtype=int64), 'classes': array([b'0'], dtype=object), 'all_class_ids': array([0, 1]), 'all_classes': array([b'0', b'1'], dtype=object)}, {'logits': array([-1.1343027], dtype=float32), 'logistic': array([0.24336794], dtype=float32), 'probabilities': array([0.7566321 , 0.24336794], dtype=float32), 'class_ids': array([0], dtype=int64), 'classes': array([b'0'], dtype=object), 'all_class_ids': array([0, 1]), 'all_classes': array([b'0', b'1'], dtype=object)}, {'logits': array([2.3320093], dtype=float32), 'logistic': array([0.91149366], dtype=float32), 'probabilities': array([0.08850643, 0.91149354], dtype=float32), 'class_ids': array([1], dtype=int64), 'classes': array([b'1'], dtype=object), 'all_class_ids': array([0, 1]), 'all_classes': array([b'0', b'1'], dtype=object)}, {'logits': array([0.3053099], dtype=float32), 'logistic': array([0.57574004], dtype=float32), 'probabilities': array([0.42425993, 0.57574004], dtype=float32), 'class_ids': array([1], dtype=int64), 'classes': array([b'1'], dtype=object), 'all_class_ids': array([0, 1]), 'all_classes': array([b'0', b'1'], dtype=object)}, {'logits': array([-2.0876331], dtype=float32), 'logistic': array([0.11030465], dtype=float32), 'probabilities': array([0.88969535, 0.11030464], dtype=float32), 'class_ids': array([0], dtype=int64), 'classes': array([b'0'], dtype=object), 'all_class_ids': array([0, 1]), 'all_classes': array([b'0', b'1'], dtype=object)}, {'logits': array([2.7904243], dtype=float32), 'logistic': array([0.9421562], dtype=float32), 'probabilities': array([0.05784382, 0.94215614], dtype=float32), 'class_ids': array([1], dtype=int64), 'classes': array([b'1'], dtype=object), 'all_class_ids': array([0, 1]), 'all_classes': array([b'0', b'1'], dtype=object)}, {'logits': array([1.715557], dtype=float32), 'logistic': array([0.84755564], dtype=float32), 'probabilities': array([0.15244435, 0.8475557 ], dtype=float32), 'class_ids': array([1], dtype=int64), 'classes': array([b'1'], dtype=object), 'all_class_ids': array([0, 1]), 'all_classes': array([b'0', b'1'], dtype=object)}, {'logits': array([-2.214458], dtype=float32), 'logistic': array([0.09845963], dtype=float32), 'probabilities': array([0.9015404 , 0.09845966], dtype=float32), 'class_ids': array([0], dtype=int64), 'classes': array([b'0'], dtype=object), 'all_class_ids': array([0, 1]), 'all_classes': array([b'0', b'1'], dtype=object)}, {'logits': array([0.5689622], dtype=float32), 'logistic': array([0.6385237], dtype=float32), 'probabilities': array([0.36147633, 0.6385237 ], dtype=float32), 'class_ids': array([1], dtype=int64), 'classes': array([b'1'], dtype=object), 'all_class_ids': array([0, 1]), 'all_classes': array([b'0', b'1'], dtype=object)}, {'logits': array([-1.2121887], dtype=float32), 'logistic': array([0.22931403], dtype=float32), 'probabilities': array([0.770686, 0.229314], dtype=float32), 'class_ids': array([0], dtype=int64), 'classes': array([b'0'], dtype=object), 'all_class_ids': array([0, 1]), 'all_classes': array([b'0', b'1'], dtype=object)}, {'logits': array([0.07913982], dtype=float32), 'logistic': array([0.5197746], dtype=float32), 'probabilities': array([0.48022535, 0.5197746 ], dtype=float32), 'class_ids': array([1], dtype=int64), 'classes': array([b'1'], dtype=object), 'all_class_ids': array([0, 1]), 'all_classes': array([b'0', b'1'], dtype=object)}]\n"
     ]
    }
   ],
   "source": [
    "result = list(linear_est.predict(eval_input_fn))\n",
    "print(result)"
   ]
  },
  {
   "cell_type": "code",
   "execution_count": 38,
   "metadata": {},
   "outputs": [
    {
     "name": "stdout",
     "output_type": "stream",
     "text": [
      "INFO:tensorflow:Calling model_fn.\n",
      "INFO:tensorflow:Done calling model_fn.\n",
      "INFO:tensorflow:Graph was finalized.\n",
      "INFO:tensorflow:Restoring parameters from C:\\Users\\HP\\AppData\\Local\\Temp\\tmp9hrw1tz8\\model.ckpt-200\n",
      "INFO:tensorflow:Running local_init_op.\n",
      "INFO:tensorflow:Done running local_init_op.\n",
      "{'logits': array([-2.255793], dtype=float32), 'logistic': array([0.09485093], dtype=float32), 'probabilities': array([0.90514904, 0.09485094], dtype=float32), 'class_ids': array([0], dtype=int64), 'classes': array([b'0'], dtype=object), 'all_class_ids': array([0, 1]), 'all_classes': array([b'0', b'1'], dtype=object)}\n"
     ]
    }
   ],
   "source": [
    "result = list(linear_est.predict(eval_input_fn))\n",
    "print(result[0])"
   ]
  },
  {
   "cell_type": "code",
   "execution_count": 39,
   "metadata": {},
   "outputs": [
    {
     "name": "stdout",
     "output_type": "stream",
     "text": [
      "INFO:tensorflow:Calling model_fn.\n",
      "INFO:tensorflow:Done calling model_fn.\n",
      "INFO:tensorflow:Graph was finalized.\n",
      "INFO:tensorflow:Restoring parameters from C:\\Users\\HP\\AppData\\Local\\Temp\\tmp9hrw1tz8\\model.ckpt-200\n",
      "INFO:tensorflow:Running local_init_op.\n",
      "INFO:tensorflow:Done running local_init_op.\n",
      "[0.90514904 0.09485094]\n"
     ]
    }
   ],
   "source": [
    "result = list(linear_est.predict(eval_input_fn))\n",
    "print(result[0]['probabilities'])"
   ]
  },
  {
   "cell_type": "code",
   "execution_count": 40,
   "metadata": {},
   "outputs": [
    {
     "name": "stdout",
     "output_type": "stream",
     "text": [
      "INFO:tensorflow:Calling model_fn.\n",
      "INFO:tensorflow:Done calling model_fn.\n",
      "INFO:tensorflow:Graph was finalized.\n",
      "INFO:tensorflow:Restoring parameters from C:\\Users\\HP\\AppData\\Local\\Temp\\tmp9hrw1tz8\\model.ckpt-200\n",
      "INFO:tensorflow:Running local_init_op.\n",
      "INFO:tensorflow:Done running local_init_op.\n",
      "0.094850935\n"
     ]
    }
   ],
   "source": [
    "result = list(linear_est.predict(eval_input_fn))\n",
    "print(result[0]['probabilities'][1])"
   ]
  },
  {
   "cell_type": "code",
   "execution_count": 41,
   "metadata": {},
   "outputs": [
    {
     "name": "stdout",
     "output_type": "stream",
     "text": [
      "INFO:tensorflow:Calling model_fn.\n",
      "INFO:tensorflow:Done calling model_fn.\n",
      "INFO:tensorflow:Graph was finalized.\n",
      "INFO:tensorflow:Restoring parameters from C:\\Users\\HP\\AppData\\Local\\Temp\\tmp9hrw1tz8\\model.ckpt-200\n",
      "INFO:tensorflow:Running local_init_op.\n",
      "INFO:tensorflow:Done running local_init_op.\n",
      "0.90514904\n"
     ]
    }
   ],
   "source": [
    "result = list(linear_est.predict(eval_input_fn))\n",
    "print(result[0]['probabilities'][0])"
   ]
  },
  {
   "cell_type": "code",
   "execution_count": 42,
   "metadata": {},
   "outputs": [
    {
     "name": "stdout",
     "output_type": "stream",
     "text": [
      "INFO:tensorflow:Calling model_fn.\n",
      "INFO:tensorflow:Done calling model_fn.\n",
      "INFO:tensorflow:Graph was finalized.\n",
      "INFO:tensorflow:Restoring parameters from C:\\Users\\HP\\AppData\\Local\\Temp\\tmp9hrw1tz8\\model.ckpt-200\n",
      "INFO:tensorflow:Running local_init_op.\n",
      "INFO:tensorflow:Done running local_init_op.\n",
      "sex                          male\n",
      "age                            35\n",
      "n_siblings_spouses              0\n",
      "parch                           0\n",
      "fare                         8.05\n",
      "class                       Third\n",
      "deck                      unknown\n",
      "embark_town           Southampton\n",
      "alone                           y\n",
      "Name: 0, dtype: object\n",
      "0.094850935\n"
     ]
    }
   ],
   "source": [
    "result = list(linear_est.predict(eval_input_fn))\n",
    "print(dfeval.loc[0])\n",
    "print(result[0]['probabilities'][1])"
   ]
  },
  {
   "cell_type": "code",
   "execution_count": 43,
   "metadata": {},
   "outputs": [
    {
     "name": "stdout",
     "output_type": "stream",
     "text": [
      "INFO:tensorflow:Calling model_fn.\n",
      "INFO:tensorflow:Done calling model_fn.\n",
      "INFO:tensorflow:Graph was finalized.\n",
      "INFO:tensorflow:Restoring parameters from C:\\Users\\HP\\AppData\\Local\\Temp\\tmp9hrw1tz8\\model.ckpt-200\n",
      "INFO:tensorflow:Running local_init_op.\n",
      "INFO:tensorflow:Done running local_init_op.\n",
      "sex                        female\n",
      "age                            58\n",
      "n_siblings_spouses              0\n",
      "parch                           0\n",
      "fare                        26.55\n",
      "class                       First\n",
      "deck                            C\n",
      "embark_town           Southampton\n",
      "alone                           y\n",
      "Name: 2, dtype: object\n",
      "0.83203626\n"
     ]
    }
   ],
   "source": [
    "result = list(linear_est.predict(eval_input_fn))\n",
    "print(dfeval.loc[2])\n",
    "print(result[2]['probabilities'][1])"
   ]
  },
  {
   "cell_type": "code",
   "execution_count": 44,
   "metadata": {},
   "outputs": [
    {
     "name": "stdout",
     "output_type": "stream",
     "text": [
      "INFO:tensorflow:Calling model_fn.\n",
      "INFO:tensorflow:Done calling model_fn.\n",
      "INFO:tensorflow:Graph was finalized.\n",
      "INFO:tensorflow:Restoring parameters from C:\\Users\\HP\\AppData\\Local\\Temp\\tmp9hrw1tz8\\model.ckpt-200\n",
      "INFO:tensorflow:Running local_init_op.\n",
      "INFO:tensorflow:Done running local_init_op.\n",
      "sex                        female\n",
      "age                            55\n",
      "n_siblings_spouses              0\n",
      "parch                           0\n",
      "fare                           16\n",
      "class                      Second\n",
      "deck                      unknown\n",
      "embark_town           Southampton\n",
      "alone                           y\n",
      "Name: 3, dtype: object\n",
      "sex                        female\n",
      "age                            55\n",
      "n_siblings_spouses              0\n",
      "parch                           0\n",
      "fare                           16\n",
      "class                      Second\n",
      "deck                      unknown\n",
      "embark_town           Southampton\n",
      "alone                           y\n",
      "Name: 3, dtype: object\n",
      "0.7451973\n"
     ]
    }
   ],
   "source": [
    "result = list(linear_est.predict(eval_input_fn))\n",
    "print(dfeval.loc[3])\n",
    "print(dfeval.loc[3])\n",
    "print(result[3]['probabilities'][1])"
   ]
  },
  {
   "cell_type": "code",
   "execution_count": 45,
   "metadata": {},
   "outputs": [
    {
     "name": "stdout",
     "output_type": "stream",
     "text": [
      "INFO:tensorflow:Calling model_fn.\n",
      "INFO:tensorflow:Done calling model_fn.\n",
      "INFO:tensorflow:Graph was finalized.\n",
      "INFO:tensorflow:Restoring parameters from C:\\Users\\HP\\AppData\\Local\\Temp\\tmp9hrw1tz8\\model.ckpt-200\n",
      "INFO:tensorflow:Running local_init_op.\n",
      "INFO:tensorflow:Done running local_init_op.\n",
      "sex                        female\n",
      "age                            18\n",
      "n_siblings_spouses              2\n",
      "parch                           0\n",
      "fare                           18\n",
      "class                       Third\n",
      "deck                      unknown\n",
      "embark_town           Southampton\n",
      "alone                           n\n",
      "Name: 8, dtype: object\n",
      "sex                        female\n",
      "age                            18\n",
      "n_siblings_spouses              2\n",
      "parch                           0\n",
      "fare                           18\n",
      "class                       Third\n",
      "deck                      unknown\n",
      "embark_town           Southampton\n",
      "alone                           n\n",
      "Name: 8, dtype: object\n",
      "0.65445757\n"
     ]
    }
   ],
   "source": [
    "result = list(linear_est.predict(eval_input_fn))\n",
    "print(dfeval.loc[8])\n",
    "print(dfeval.loc[8])\n",
    "print(result[8]['probabilities'][1])"
   ]
  },
  {
   "cell_type": "code",
   "execution_count": null,
   "metadata": {},
   "outputs": [],
   "source": [
    " "
   ]
  }
 ],
 "metadata": {
  "kernelspec": {
   "display_name": "Python 3",
   "language": "python",
   "name": "python3"
  },
  "language_info": {
   "codemirror_mode": {
    "name": "ipython",
    "version": 3
   },
   "file_extension": ".py",
   "mimetype": "text/x-python",
   "name": "python",
   "nbconvert_exporter": "python",
   "pygments_lexer": "ipython3",
   "version": "3.8.3"
  }
 },
 "nbformat": 4,
 "nbformat_minor": 4
}
