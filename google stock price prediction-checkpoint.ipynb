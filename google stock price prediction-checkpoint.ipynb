{
 "cells": [
  {
   "cell_type": "code",
   "execution_count": 1,
   "metadata": {},
   "outputs": [],
   "source": [
    "import numpy as np\n",
    "import matplotlib.pyplot as plt\n",
    "import pandas as pd"
   ]
  },
  {
   "cell_type": "code",
   "execution_count": 2,
   "metadata": {},
   "outputs": [],
   "source": [
    "dataset_train = pd.read_csv('C:/Users/HP/Downloads/archive (67)/Google_Stock_Price_Train.csv')\n",
    "training_set = dataset_train.iloc[:, 1:2].values"
   ]
  },
  {
   "cell_type": "code",
   "execution_count": 3,
   "metadata": {},
   "outputs": [],
   "source": [
    "from sklearn.preprocessing import MinMaxScaler\n",
    "sc = MinMaxScaler(feature_range = (0, 1))\n",
    "training_set_scaled = sc.fit_transform(training_set)"
   ]
  },
  {
   "cell_type": "code",
   "execution_count": 4,
   "metadata": {},
   "outputs": [],
   "source": [
    "x_train = []\n",
    "y_train = []\n",
    "for i in range(60, 1258):\n",
    "    x_train.append(training_set_scaled[i-60:i, 0])\n",
    "    y_train.append(training_set_scaled[i, 0])\n",
    "x_train, y_train = np.array(x_train), np.array(y_train)\n",
    "\n",
    "x_train = np.reshape(x_train, (x_train.shape[0], x_train.shape[1], 1))\n",
    "    "
   ]
  },
  {
   "cell_type": "code",
   "execution_count": 5,
   "metadata": {},
   "outputs": [],
   "source": [
    "from keras.models import Sequential\n",
    "from keras.layers import Dense\n",
    "from keras.layers import LSTM\n",
    "from keras.layers import Dropout \n"
   ]
  },
  {
   "cell_type": "code",
   "execution_count": 6,
   "metadata": {},
   "outputs": [],
   "source": [
    "regressor = Sequential()"
   ]
  },
  {
   "cell_type": "code",
   "execution_count": 8,
   "metadata": {},
   "outputs": [],
   "source": [
    "regressor.add(LSTM(units = 50, return_sequences = True, input_shape = (x_train.shape[1], 1)))\n",
    "regressor.add(Dropout(0.2))"
   ]
  },
  {
   "cell_type": "code",
   "execution_count": 9,
   "metadata": {},
   "outputs": [],
   "source": [
    "regressor.add(LSTM(units = 50, return_sequences = True))\n",
    "regressor.add(Dropout(0.2))"
   ]
  },
  {
   "cell_type": "code",
   "execution_count": 10,
   "metadata": {},
   "outputs": [],
   "source": [
    "regressor.add(LSTM(units = 50, return_sequences = True))\n",
    "regressor.add(Dropout(0.2))"
   ]
  },
  {
   "cell_type": "code",
   "execution_count": 11,
   "metadata": {},
   "outputs": [],
   "source": [
    "regressor.add(LSTM(units = 50))\n",
    "regressor.add(Dropout(0.2))"
   ]
  },
  {
   "cell_type": "code",
   "execution_count": 12,
   "metadata": {},
   "outputs": [],
   "source": [
    "regressor.add(Dense(units = 1))"
   ]
  },
  {
   "cell_type": "code",
   "execution_count": 13,
   "metadata": {},
   "outputs": [],
   "source": [
    "regressor.compile(optimizer = 'adam', loss = 'mean_squared_error')"
   ]
  },
  {
   "cell_type": "code",
   "execution_count": 14,
   "metadata": {},
   "outputs": [
    {
     "name": "stdout",
     "output_type": "stream",
     "text": [
      "Epoch 1/100\n",
      "38/38 [==============================] - 30s 160ms/step - loss: 0.1007\n",
      "Epoch 2/100\n",
      "38/38 [==============================] - 6s 146ms/step - loss: 0.0059\n",
      "Epoch 3/100\n",
      "38/38 [==============================] - 6s 147ms/step - loss: 0.0058\n",
      "Epoch 4/100\n",
      "38/38 [==============================] - 6s 167ms/step - loss: 0.0052\n",
      "Epoch 5/100\n",
      "38/38 [==============================] - 6s 146ms/step - loss: 0.0048\n",
      "Epoch 6/100\n",
      "38/38 [==============================] - 6s 158ms/step - loss: 0.0055 1s - loss\n",
      "Epoch 7/100\n",
      "38/38 [==============================] - 6s 157ms/step - loss: 0.0045\n",
      "Epoch 8/100\n",
      "38/38 [==============================] - 6s 145ms/step - loss: 0.0048\n",
      "Epoch 9/100\n",
      "38/38 [==============================] - 6s 163ms/step - loss: 0.0042\n",
      "Epoch 10/100\n",
      "38/38 [==============================] - 6s 150ms/step - loss: 0.0037\n",
      "Epoch 11/100\n",
      "38/38 [==============================] - 6s 147ms/step - loss: 0.0042\n",
      "Epoch 12/100\n",
      "38/38 [==============================] - 6s 159ms/step - loss: 0.0050\n",
      "Epoch 13/100\n",
      "38/38 [==============================] - 6s 149ms/step - loss: 0.0037\n",
      "Epoch 14/100\n",
      "38/38 [==============================] - 6s 148ms/step - loss: 0.0045\n",
      "Epoch 15/100\n",
      "38/38 [==============================] - 6s 163ms/step - loss: 0.0041\n",
      "Epoch 16/100\n",
      "38/38 [==============================] - 5s 143ms/step - loss: 0.0033\n",
      "Epoch 17/100\n",
      "38/38 [==============================] - 6s 149ms/step - loss: 0.0037\n",
      "Epoch 18/100\n",
      "38/38 [==============================] - 6s 160ms/step - loss: 0.0034\n",
      "Epoch 19/100\n",
      "38/38 [==============================] - 5s 142ms/step - loss: 0.0029\n",
      "Epoch 20/100\n",
      "38/38 [==============================] - 6s 149ms/step - loss: 0.0032\n",
      "Epoch 21/100\n",
      "38/38 [==============================] - 6s 154ms/step - loss: 0.0031\n",
      "Epoch 22/100\n",
      "38/38 [==============================] - 6s 148ms/step - loss: 0.0029\n",
      "Epoch 23/100\n",
      "38/38 [==============================] - 6s 154ms/step - loss: 0.0033\n",
      "Epoch 24/100\n",
      "38/38 [==============================] - 5s 143ms/step - loss: 0.0032\n",
      "Epoch 25/100\n",
      "38/38 [==============================] - 6s 153ms/step - loss: 0.0030\n",
      "Epoch 26/100\n",
      "38/38 [==============================] - 6s 162ms/step - loss: 0.0031\n",
      "Epoch 27/100\n",
      "38/38 [==============================] - 6s 144ms/step - loss: 0.0031\n",
      "Epoch 28/100\n",
      "38/38 [==============================] - 6s 152ms/step - loss: 0.0033\n",
      "Epoch 29/100\n",
      "38/38 [==============================] - 7s 182ms/step - loss: 0.0034\n",
      "Epoch 30/100\n",
      "38/38 [==============================] - 6s 156ms/step - loss: 0.0029\n",
      "Epoch 31/100\n",
      "38/38 [==============================] - 6s 163ms/step - loss: 0.0032\n",
      "Epoch 32/100\n",
      "38/38 [==============================] - 7s 175ms/step - loss: 0.0034\n",
      "Epoch 33/100\n",
      "38/38 [==============================] - 6s 153ms/step - loss: 0.0031\n",
      "Epoch 34/100\n",
      "38/38 [==============================] - 6s 155ms/step - loss: 0.0028\n",
      "Epoch 35/100\n",
      "38/38 [==============================] - 6s 151ms/step - loss: 0.0033\n",
      "Epoch 36/100\n",
      "38/38 [==============================] - 7s 172ms/step - loss: 0.0025\n",
      "Epoch 37/100\n",
      "38/38 [==============================] - 6s 155ms/step - loss: 0.0024\n",
      "Epoch 38/100\n",
      "38/38 [==============================] - 6s 147ms/step - loss: 0.0027 1s - loss\n",
      "Epoch 39/100\n",
      "38/38 [==============================] - 6s 149ms/step - loss: 0.0026\n",
      "Epoch 40/100\n",
      "38/38 [==============================] - 5s 139ms/step - loss: 0.0026\n",
      "Epoch 41/100\n",
      "38/38 [==============================] - 5s 142ms/step - loss: 0.0024\n",
      "Epoch 42/100\n",
      "38/38 [==============================] - 7s 185ms/step - loss: 0.0031\n",
      "Epoch 43/100\n",
      "38/38 [==============================] - 6s 159ms/step - loss: 0.0024\n",
      "Epoch 44/100\n",
      "38/38 [==============================] - 6s 148ms/step - loss: 0.0024\n",
      "Epoch 45/100\n",
      "38/38 [==============================] - 6s 150ms/step - loss: 0.0028\n",
      "Epoch 46/100\n",
      "38/38 [==============================] - 6s 151ms/step - loss: 0.0025\n",
      "Epoch 47/100\n",
      "38/38 [==============================] - 6s 147ms/step - loss: 0.0024\n",
      "Epoch 48/100\n",
      "38/38 [==============================] - 6s 150ms/step - loss: 0.0024\n",
      "Epoch 49/100\n",
      "38/38 [==============================] - 6s 146ms/step - loss: 0.0023\n",
      "Epoch 50/100\n",
      "38/38 [==============================] - 6s 148ms/step - loss: 0.0023\n",
      "Epoch 51/100\n",
      "38/38 [==============================] - 6s 154ms/step - loss: 0.0022\n",
      "Epoch 52/100\n",
      "38/38 [==============================] - 6s 151ms/step - loss: 0.0023\n",
      "Epoch 53/100\n",
      "38/38 [==============================] - 6s 166ms/step - loss: 0.0023\n",
      "Epoch 54/100\n",
      "38/38 [==============================] - 6s 163ms/step - loss: 0.0023\n",
      "Epoch 55/100\n",
      "38/38 [==============================] - 6s 160ms/step - loss: 0.0025\n",
      "Epoch 56/100\n",
      "38/38 [==============================] - 6s 164ms/step - loss: 0.0021\n",
      "Epoch 57/100\n",
      "38/38 [==============================] - 6s 160ms/step - loss: 0.0022\n",
      "Epoch 58/100\n",
      "38/38 [==============================] - 6s 165ms/step - loss: 0.0021\n",
      "Epoch 59/100\n",
      "38/38 [==============================] - 6s 161ms/step - loss: 0.0020\n",
      "Epoch 60/100\n",
      "38/38 [==============================] - 6s 163ms/step - loss: 0.0024\n",
      "Epoch 61/100\n",
      "38/38 [==============================] - 7s 173ms/step - loss: 0.0020\n",
      "Epoch 62/100\n",
      "38/38 [==============================] - 6s 157ms/step - loss: 0.0021\n",
      "Epoch 63/100\n",
      "38/38 [==============================] - 7s 180ms/step - loss: 0.0025\n",
      "Epoch 64/100\n",
      "38/38 [==============================] - 6s 167ms/step - loss: 0.0020\n",
      "Epoch 65/100\n",
      "38/38 [==============================] - 6s 163ms/step - loss: 0.0022\n",
      "Epoch 66/100\n",
      "38/38 [==============================] - 6s 166ms/step - loss: 0.0020\n",
      "Epoch 67/100\n",
      "38/38 [==============================] - 6s 156ms/step - loss: 0.0021\n",
      "Epoch 68/100\n",
      "38/38 [==============================] - 6s 153ms/step - loss: 0.0019\n",
      "Epoch 69/100\n",
      "38/38 [==============================] - 6s 163ms/step - loss: 0.0020\n",
      "Epoch 70/100\n",
      "38/38 [==============================] - 6s 156ms/step - loss: 0.0020\n",
      "Epoch 71/100\n",
      "38/38 [==============================] - 6s 169ms/step - loss: 0.0018\n",
      "Epoch 72/100\n",
      "38/38 [==============================] - 6s 159ms/step - loss: 0.0017\n",
      "Epoch 73/100\n",
      "38/38 [==============================] - 6s 166ms/step - loss: 0.0018\n",
      "Epoch 74/100\n",
      "38/38 [==============================] - 7s 176ms/step - loss: 0.0017\n",
      "Epoch 75/100\n",
      "38/38 [==============================] - 6s 165ms/step - loss: 0.0017\n",
      "Epoch 76/100\n",
      "38/38 [==============================] - 7s 184ms/step - loss: 0.0020\n",
      "Epoch 77/100\n",
      "38/38 [==============================] - 6s 164ms/step - loss: 0.0016\n",
      "Epoch 78/100\n",
      "38/38 [==============================] - 7s 178ms/step - loss: 0.0016\n",
      "Epoch 79/100\n",
      "38/38 [==============================] - 6s 159ms/step - loss: 0.0014\n",
      "Epoch 80/100\n",
      "38/38 [==============================] - 6s 162ms/step - loss: 0.0016\n",
      "Epoch 81/100\n",
      "38/38 [==============================] - 7s 173ms/step - loss: 0.0017\n",
      "Epoch 82/100\n",
      "38/38 [==============================] - 6s 162ms/step - loss: 0.0016\n",
      "Epoch 83/100\n",
      "38/38 [==============================] - 7s 176ms/step - loss: 0.0021\n",
      "Epoch 84/100\n",
      "38/38 [==============================] - 6s 166ms/step - loss: 0.0017\n",
      "Epoch 85/100\n",
      "38/38 [==============================] - 6s 159ms/step - loss: 0.0016\n",
      "Epoch 86/100\n",
      "38/38 [==============================] - 7s 175ms/step - loss: 0.0016\n",
      "Epoch 87/100\n",
      "38/38 [==============================] - 16s 436ms/step - loss: 0.0017\n",
      "Epoch 88/100\n",
      "38/38 [==============================] - 8s 197ms/step - loss: 0.0016\n",
      "Epoch 89/100\n",
      "38/38 [==============================] - 7s 188ms/step - loss: 0.0016\n",
      "Epoch 90/100\n",
      "38/38 [==============================] - 7s 179ms/step - loss: 0.0017\n",
      "Epoch 91/100\n",
      "38/38 [==============================] - 7s 187ms/step - loss: 0.0013 1s - loss:\n",
      "Epoch 92/100\n",
      "38/38 [==============================] - 7s 193ms/step - loss: 0.0015\n",
      "Epoch 93/100\n",
      "38/38 [==============================] - 7s 178ms/step - loss: 0.0017\n",
      "Epoch 94/100\n",
      "38/38 [==============================] - 8s 207ms/step - loss: 0.0017\n",
      "Epoch 95/100\n",
      "38/38 [==============================] - 7s 185ms/step - loss: 0.0013\n",
      "Epoch 96/100\n",
      "38/38 [==============================] - 8s 201ms/step - loss: 0.0016\n",
      "Epoch 97/100\n",
      "38/38 [==============================] - 7s 180ms/step - loss: 0.0014 0s - loss: 0.\n",
      "Epoch 98/100\n",
      "38/38 [==============================] - 7s 195ms/step - loss: 0.0014\n",
      "Epoch 99/100\n"
     ]
    },
    {
     "name": "stdout",
     "output_type": "stream",
     "text": [
      "38/38 [==============================] - 7s 172ms/step - loss: 0.0015\n",
      "Epoch 100/100\n",
      "38/38 [==============================] - 6s 169ms/step - loss: 0.0016\n"
     ]
    },
    {
     "data": {
      "text/plain": [
       "<tensorflow.python.keras.callbacks.History at 0x16f41186040>"
      ]
     },
     "execution_count": 14,
     "metadata": {},
     "output_type": "execute_result"
    }
   ],
   "source": [
    "regressor.fit(x_train, y_train, epochs = 100, batch_size = 32)"
   ]
  },
  {
   "cell_type": "code",
   "execution_count": 15,
   "metadata": {},
   "outputs": [],
   "source": [
    "dataset_test = pd.read_csv('C:/Users/HP/Downloads/archive (67)/Google_Stock_Price_Test.csv')\n",
    "real_stock_price = dataset_test.iloc[:, 1:2].values"
   ]
  },
  {
   "cell_type": "code",
   "execution_count": 17,
   "metadata": {},
   "outputs": [],
   "source": [
    "dataset_total = pd.concat((dataset_train['Open'], dataset_test['Open']), axis = 0)\n",
    "inputs = dataset_total[len(dataset_total) - len(dataset_test) - 60:].values\n",
    "inputs = inputs.reshape(-1,1)\n",
    "inputs = sc.transform(inputs)\n",
    "x_test = []\n",
    "for i in range(60, 80):\n",
    "    x_test.append(inputs[i-60:i, 0])\n",
    "x_test = np.array(x_test)\n",
    "x_test = np.reshape(x_test, (x_test.shape[0], x_test.shape[1], 1))\n",
    "predicted_stock_price = regressor.predict(x_test)\n",
    "predicted_stock_price = sc.inverse_transform(predicted_stock_price)"
   ]
  },
  {
   "cell_type": "code",
   "execution_count": 18,
   "metadata": {},
   "outputs": [
    {
     "data": {
      "image/png": "[encoded data removed]",
      "text/plain": [
       "<Figure size 432x288 with 1 Axes>"
      ]
     },
     "metadata": {
      "needs_background": "light"
     },
     "output_type": "display_data"
    }
   ],
   "source": [
    "plt.plot(real_stock_price, color = 'red', label = 'Real Google Stock Price')\n",
    "plt.plot(predicted_stock_price, color = 'blue', label = 'Predicted Google Stock Price')\n",
    "plt.title('Google Stock Price Prediction')\n",
    "plt.xlabel('Time')\n",
    "plt.ylabel('Google Stock Price')\n",
    "plt.legend()\n",
    "plt.show()"
   ]
  },
  {
   "cell_type": "code",
   "execution_count": null,
   "metadata": {},
   "outputs": [],
   "source": []
  }
 ],
 "metadata": {
  "kernelspec": {
   "display_name": "Python 3",
   "language": "python",
   "name": "python3"
  },
  "language_info": {
   "codemirror_mode": {
    "name": "ipython",
    "version": 3
   },
   "file_extension": ".py",
   "mimetype": "text/x-python",
   "name": "python",
   "nbconvert_exporter": "python",
   "pygments_lexer": "ipython3",
   "version": "3.8.3"
  }
 },
 "nbformat": 4,
 "nbformat_minor": 4
}
