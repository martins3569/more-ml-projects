{
 "cells": [
  {
   "cell_type": "code",
   "execution_count": 2,
   "metadata": {},
   "outputs": [],
   "source": [
    "from keras.models import Sequential\n",
    "from keras.layers import Conv2D\n",
    "from keras.layers import MaxPooling2D\n",
    "from keras.layers import Flatten\n",
    "from keras.layers import Dense"
   ]
  },
  {
   "cell_type": "code",
   "execution_count": 4,
   "metadata": {},
   "outputs": [],
   "source": [
    "classifier = Sequential()\n",
    "classifier.add(Conv2D(32, (3, 3), input_shape = (64, 64, 3), activation = 'relu'))\n",
    "classifier.add(Conv2D(32, (3, 3), activation = 'relu'))\n",
    "classifier.add(MaxPooling2D(pool_size = (2, 2)))"
   ]
  },
  {
   "cell_type": "code",
   "execution_count": 5,
   "metadata": {},
   "outputs": [],
   "source": [
    "classifier.add(Flatten())\n",
    "\n",
    "classifier.add(Dense(units = 128, activation = 'relu'))\n",
    "classifier.add(Dense(units = 1, activation = 'sigmoid'))"
   ]
  },
  {
   "cell_type": "code",
   "execution_count": 6,
   "metadata": {},
   "outputs": [],
   "source": [
    "classifier.compile(optimizer = 'adam', loss = 'binary_crossentropy', metrics = ['accuracy'])"
   ]
  },
  {
   "cell_type": "code",
   "execution_count": 7,
   "metadata": {},
   "outputs": [],
   "source": [
    "from keras.preprocessing.image import ImageDataGenerator\n",
    "\n",
    "train_datagen = ImageDataGenerator(rescale = 1./255,\n",
    "                                  shear_range = 0.2,\n",
    "                                  zoom_range = 0.2,\n",
    "                                  horizontal_flip = True)"
   ]
  },
  {
   "cell_type": "code",
   "execution_count": 8,
   "metadata": {},
   "outputs": [
    {
     "name": "stdout",
     "output_type": "stream",
     "text": [
      "Found 8000 images belonging to 2 classes.\n"
     ]
    }
   ],
   "source": [
    "training_set = train_datagen.flow_from_directory('C:/Users/HP/Downloads/archive (11)/dataset/training_set',\n",
    "                                                target_size = (64, 64),\n",
    "                                                batch_size = 32,\n",
    "                                                class_mode = 'binary')"
   ]
  },
  {
   "cell_type": "code",
   "execution_count": 10,
   "metadata": {},
   "outputs": [
    {
     "name": "stdout",
     "output_type": "stream",
     "text": [
      "Found 2000 images belonging to 2 classes.\n"
     ]
    }
   ],
   "source": [
    "test_datagen = ImageDataGenerator(rescale = 1./255)\n",
    "test_set = test_datagen.flow_from_directory('C:/Users/HP/Downloads/archive (11)/dataset/test_set',\n",
    "                                           target_size = (64, 64),\n",
    "                                           batch_size = 32,\n",
    "                                           class_mode = 'binary')"
   ]
  },
  {
   "cell_type": "code",
   "execution_count": 12,
   "metadata": {},
   "outputs": [
    {
     "name": "stdout",
     "output_type": "stream",
     "text": [
      "Epoch 1/10\n",
      "40/40 [==============================] - 39s 973ms/step - loss: 0.6243 - accuracy: 0.6555 - val_loss: 0.5827 - val_accuracy: 0.6938\n",
      "Epoch 2/10\n",
      "40/40 [==============================] - 38s 940ms/step - loss: 0.5825 - accuracy: 0.7008 - val_loss: 0.6273 - val_accuracy: 0.6344\n",
      "Epoch 3/10\n",
      "40/40 [==============================] - 34s 840ms/step - loss: 0.5746 - accuracy: 0.7102 - val_loss: 0.6774 - val_accuracy: 0.6156\n",
      "Epoch 4/10\n",
      "40/40 [==============================] - 40s 1s/step - loss: 0.5793 - accuracy: 0.6773 - val_loss: 0.5571 - val_accuracy: 0.7000\n",
      "Epoch 5/10\n",
      "40/40 [==============================] - 44s 1s/step - loss: 0.5739 - accuracy: 0.6969 - val_loss: 0.6257 - val_accuracy: 0.6594\n",
      "Epoch 6/10\n",
      "40/40 [==============================] - 36s 904ms/step - loss: 0.5539 - accuracy: 0.7078 - val_loss: 0.5773 - val_accuracy: 0.6719\n",
      "Epoch 7/10\n",
      "40/40 [==============================] - 39s 971ms/step - loss: 0.5395 - accuracy: 0.7156 - val_loss: 0.5372 - val_accuracy: 0.7250\n",
      "Epoch 8/10\n",
      "40/40 [==============================] - 37s 912ms/step - loss: 0.5662 - accuracy: 0.7094 - val_loss: 0.5314 - val_accuracy: 0.7188\n",
      "Epoch 9/10\n",
      "40/40 [==============================] - 36s 884ms/step - loss: 0.5510 - accuracy: 0.7203 - val_loss: 0.6449 - val_accuracy: 0.6562\n",
      "Epoch 10/10\n",
      "40/40 [==============================] - 39s 973ms/step - loss: 0.5773 - accuracy: 0.7063 - val_loss: 0.5784 - val_accuracy: 0.7063\n"
     ]
    },
    {
     "data": {
      "text/plain": [
       "<tensorflow.python.keras.callbacks.History at 0x239a183f100>"
      ]
     },
     "execution_count": 12,
     "metadata": {},
     "output_type": "execute_result"
    }
   ],
   "source": [
    "classifier.fit_generator(training_set,\n",
    "                        steps_per_epoch = 40,\n",
    "                        epochs = 10,\n",
    "                        validation_data = test_set,\n",
    "                        validation_steps = 10)"
   ]
  },
  {
   "cell_type": "code",
   "execution_count": 13,
   "metadata": {},
   "outputs": [
    {
     "name": "stdout",
     "output_type": "stream",
     "text": [
      "dog\n"
     ]
    }
   ],
   "source": [
    "import numpy as np \n",
    "from keras.preprocessing import image\n",
    "test_image = image.load_img('C:/Users/HP/Downloads/archive (11)/dataset/test_set/cats/cat.4029.jpg', target_size = (64, 64))\n",
    "test_image = image.img_to_array(test_image)\n",
    "test_image = np.expand_dims(test_image, axis = 0)\n",
    "result = classifier.predict(test_image)\n",
    "training_set.class_indices\n",
    "if result[0][0] == 1:\n",
    "    prediction = 'dog'\n",
    "else:\n",
    "    prediction = 'cat'\n",
    "print(prediction)"
   ]
  },
  {
   "cell_type": "code",
   "execution_count": null,
   "metadata": {},
   "outputs": [],
   "source": []
  }
 ],
 "metadata": {
  "kernelspec": {
   "display_name": "Python 3",
   "language": "python",
   "name": "python3"
  },
  "language_info": {
   "codemirror_mode": {
    "name": "ipython",
    "version": 3
   },
   "file_extension": ".py",
   "mimetype": "text/x-python",
   "name": "python",
   "nbconvert_exporter": "python",
   "pygments_lexer": "ipython3",
   "version": "3.8.3"
  }
 },
 "nbformat": 4,
 "nbformat_minor": 4
}
