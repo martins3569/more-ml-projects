{
 "cells": [
  {
   "cell_type": "code",
   "execution_count": 5,
   "metadata": {},
   "outputs": [],
   "source": [
    "import cv2\n",
    "image1 = cv2.imread(\"C:/Users/HP/Downloads/archive (11)/dataset/test_set/cats/cat.4003.jpg\")\n",
    "window_name = 'original image'\n",
    "\n",
    "cv2.imshow(window_name,image1)\n",
    "\n",
    "grey_img = cv2.cvtColor(image1, cv2.COLOR_BGR2GRAY)\n",
    "invert = cv2.bitwise_not(grey_img)\n",
    "\n",
    "blur = cv2.GaussianBlur(invert, (21, 21), 0)\n",
    "invertedblur = cv2.bitwise_not(blur)\n",
    "sketch = cv2.divide(grey_img, invertedblur, scale=256.0)\n",
    "\n",
    "cv2.imwrite(\"C:/Users/HP/Downloads/archive (11)/dataset/test_set/cats/cat.4003.jpg\", sketch)\n",
    "\n",
    "image = cv2.imread(\"C:/Users/HP/Downloads/archive (11)/dataset/test_set/cats/cat.4003.jpg\")\n",
    "\n",
    "window_name = 'Sketch Image'\n",
    "\n",
    "cv2.imshow(window_name, image)\n",
    "\n",
    "cv2.waitKey(0)\n",
    "\n",
    "cv2.destroyAllWindows()\n"
   ]
  },
  {
   "cell_type": "code",
   "execution_count": null,
   "metadata": {},
   "outputs": [],
   "source": []
  },
  {
   "cell_type": "code",
   "execution_count": null,
   "metadata": {},
   "outputs": [],
   "source": []
  }
 ],
 "metadata": {
  "kernelspec": {
   "display_name": "Python 3",
   "language": "python",
   "name": "python3"
  },
  "language_info": {
   "codemirror_mode": {
    "name": "ipython",
    "version": 3
   },
   "file_extension": ".py",
   "mimetype": "text/x-python",
   "name": "python",
   "nbconvert_exporter": "python",
   "pygments_lexer": "ipython3",
   "version": "3.8.3"
  }
 },
 "nbformat": 4,
 "nbformat_minor": 4
}
